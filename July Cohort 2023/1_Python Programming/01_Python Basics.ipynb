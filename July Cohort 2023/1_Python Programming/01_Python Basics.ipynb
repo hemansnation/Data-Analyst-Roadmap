{
 "cells": [
  {
   "cell_type": "markdown",
   "id": "5effdff7",
   "metadata": {},
   "source": [
    "# Python Basics"
   ]
  },
  {
   "cell_type": "code",
   "execution_count": 1,
   "id": "d04e5b22",
   "metadata": {},
   "outputs": [
    {
     "name": "stdout",
     "output_type": "stream",
     "text": [
      "Hello User\n"
     ]
    }
   ],
   "source": [
    "print(\"Hello User\")"
   ]
  },
  {
   "cell_type": "code",
   "execution_count": 2,
   "id": "b0091bf1",
   "metadata": {},
   "outputs": [
    {
     "name": "stdout",
     "output_type": "stream",
     "text": [
      "Hello\n",
      "User\n"
     ]
    }
   ],
   "source": [
    "print(\"Hello\")\n",
    "print(\"User\")"
   ]
  },
  {
   "cell_type": "code",
   "execution_count": 5,
   "id": "fb83814b",
   "metadata": {},
   "outputs": [
    {
     "name": "stdout",
     "output_type": "stream",
     "text": [
      "Hello\n",
      "User\n"
     ]
    }
   ],
   "source": [
    "print(\"Hello\\nUser\")    # \\n -> new line character"
   ]
  },
  {
   "cell_type": "code",
   "execution_count": 6,
   "id": "791c342a",
   "metadata": {},
   "outputs": [
    {
     "name": "stdout",
     "output_type": "stream",
     "text": [
      "Hello\tUser\n"
     ]
    }
   ],
   "source": [
    "print(\"Hello\\tUser\")    # \\t -> horizontal tab - 8 spaces"
   ]
  },
  {
   "cell_type": "code",
   "execution_count": null,
   "id": "9fad4ea5",
   "metadata": {},
   "outputs": [],
   "source": [
    "# binary language -> 101010111 -> bits\n",
    "\n",
    "0 -> low voltage, no-charge, false, off\n",
    "1 -> high voltage, charge, true, on"
   ]
  },
  {
   "cell_type": "code",
   "execution_count": null,
   "id": "a1885e98",
   "metadata": {},
   "outputs": [],
   "source": [
    "bits > numbers > character > instructions > program > software"
   ]
  },
  {
   "cell_type": "code",
   "execution_count": null,
   "id": "cbe99e7d",
   "metadata": {},
   "outputs": [],
   "source": [
    "source code ---------> Byte Code --------> output\n",
    "    .c       compile     .bak       run      .exe\n",
    "    .cpp                 .obj\n",
    "    .java                .javac\n",
    "    .py                  .pyc"
   ]
  },
  {
   "cell_type": "markdown",
   "id": "8a713554",
   "metadata": {},
   "source": [
    "# Variables"
   ]
  },
  {
   "cell_type": "code",
   "execution_count": 8,
   "id": "5c20abe8",
   "metadata": {},
   "outputs": [
    {
     "name": "stdout",
     "output_type": "stream",
     "text": [
      "10\n"
     ]
    }
   ],
   "source": [
    "a = 10\n",
    "\n",
    "print(a)"
   ]
  },
  {
   "cell_type": "code",
   "execution_count": 9,
   "id": "995009df",
   "metadata": {},
   "outputs": [
    {
     "name": "stdout",
     "output_type": "stream",
     "text": [
      "45.13\n"
     ]
    }
   ],
   "source": [
    "b = 45.13\n",
    "\n",
    "print(b)"
   ]
  },
  {
   "cell_type": "code",
   "execution_count": 10,
   "id": "17194c9e",
   "metadata": {},
   "outputs": [
    {
     "name": "stdout",
     "output_type": "stream",
     "text": [
      "India\n"
     ]
    }
   ],
   "source": [
    "a = \"India\"\n",
    "\n",
    "print(a)"
   ]
  },
  {
   "cell_type": "markdown",
   "id": "9141a786",
   "metadata": {},
   "source": [
    "# Data Types"
   ]
  },
  {
   "cell_type": "code",
   "execution_count": 11,
   "id": "6ba6bfd9",
   "metadata": {},
   "outputs": [
    {
     "name": "stdout",
     "output_type": "stream",
     "text": [
      "10\n",
      "<class 'int'>\n"
     ]
    }
   ],
   "source": [
    "a = 10\n",
    "\n",
    "print(a)\n",
    "\n",
    "print(type(a))"
   ]
  },
  {
   "cell_type": "code",
   "execution_count": 12,
   "id": "a6e1a232",
   "metadata": {},
   "outputs": [
    {
     "name": "stdout",
     "output_type": "stream",
     "text": [
      "10.65\n",
      "<class 'float'>\n"
     ]
    }
   ],
   "source": [
    "b = 10.65\n",
    "\n",
    "print(b)\n",
    "\n",
    "print(type(b))"
   ]
  },
  {
   "cell_type": "code",
   "execution_count": 13,
   "id": "1298d5d3",
   "metadata": {},
   "outputs": [
    {
     "name": "stdout",
     "output_type": "stream",
     "text": [
      "colors\n",
      "<class 'str'>\n"
     ]
    }
   ],
   "source": [
    "c = \"colors\"\n",
    "\n",
    "print(c)\n",
    "\n",
    "print(type(c))"
   ]
  },
  {
   "cell_type": "code",
   "execution_count": 14,
   "id": "47c38fa9",
   "metadata": {},
   "outputs": [
    {
     "name": "stdout",
     "output_type": "stream",
     "text": [
      "colors\n",
      "<class 'str'>\n"
     ]
    }
   ],
   "source": [
    "c = 'colors'\n",
    "\n",
    "print(c)\n",
    "\n",
    "print(type(c))"
   ]
  },
  {
   "cell_type": "code",
   "execution_count": 15,
   "id": "0acb14e3",
   "metadata": {},
   "outputs": [
    {
     "name": "stdout",
     "output_type": "stream",
     "text": [
      "it's an apple\n"
     ]
    }
   ],
   "source": [
    "x = \"it's an apple\"\n",
    "\n",
    "print(x)"
   ]
  },
  {
   "cell_type": "code",
   "execution_count": 17,
   "id": "fb2beb48",
   "metadata": {},
   "outputs": [
    {
     "name": "stdout",
     "output_type": "stream",
     "text": [
      "it\"s an apple\n"
     ]
    }
   ],
   "source": [
    "x = 'it\"s an apple'\n",
    "\n",
    "print(x)"
   ]
  },
  {
   "cell_type": "markdown",
   "id": "814feca5",
   "metadata": {},
   "source": [
    "# Input Function"
   ]
  },
  {
   "cell_type": "code",
   "execution_count": 18,
   "id": "437ffd33",
   "metadata": {},
   "outputs": [
    {
     "name": "stdout",
     "output_type": "stream",
     "text": [
      "10\n",
      "10\n"
     ]
    }
   ],
   "source": [
    "a = input()\n",
    "\n",
    "print(a)"
   ]
  },
  {
   "cell_type": "code",
   "execution_count": 19,
   "id": "8c71996c",
   "metadata": {},
   "outputs": [
    {
     "name": "stdout",
     "output_type": "stream",
     "text": [
      "Enter Your Name: Himanshu\n",
      "Himanshu\n"
     ]
    }
   ],
   "source": [
    "a = input(\"Enter Your Name: \")\n",
    "\n",
    "print(a)"
   ]
  },
  {
   "cell_type": "code",
   "execution_count": 20,
   "id": "792f782d",
   "metadata": {},
   "outputs": [
    {
     "name": "stdout",
     "output_type": "stream",
     "text": [
      "Enter Your Name: Himanshu\n",
      "Hello! How are you? Himanshu\n"
     ]
    }
   ],
   "source": [
    "a = input(\"Enter Your Name: \")\n",
    "\n",
    "print(\"Hello! How are you?\", a)"
   ]
  },
  {
   "cell_type": "code",
   "execution_count": 21,
   "id": "8ab7e6a7",
   "metadata": {},
   "outputs": [
    {
     "name": "stdout",
     "output_type": "stream",
     "text": [
      "Hello       Him\n"
     ]
    }
   ],
   "source": [
    "print(\"Hello       Him\")"
   ]
  },
  {
   "cell_type": "markdown",
   "id": "84b26329",
   "metadata": {},
   "source": [
    "# Questions"
   ]
  },
  {
   "cell_type": "code",
   "execution_count": null,
   "id": "376a1bc0",
   "metadata": {},
   "outputs": [],
   "source": [
    "Your Name\n",
    "------8-------College/Company\n",
    "------------16-------------Country"
   ]
  },
  {
   "cell_type": "code",
   "execution_count": null,
   "id": "f60668a8",
   "metadata": {},
   "outputs": [],
   "source": [
    "*\n",
    "**\n",
    "***"
   ]
  },
  {
   "cell_type": "code",
   "execution_count": null,
   "id": "7c2fa48a",
   "metadata": {},
   "outputs": [],
   "source": [
    "--4--*\n",
    "*----8----*\n",
    "--4--*"
   ]
  },
  {
   "cell_type": "code",
   "execution_count": null,
   "id": "2650f9ed",
   "metadata": {},
   "outputs": [],
   "source": [
    "    *\n",
    "*       *\n",
    "    *"
   ]
  }
 ],
 "metadata": {
  "kernelspec": {
   "display_name": "Python 3 (ipykernel)",
   "language": "python",
   "name": "python3"
  },
  "language_info": {
   "codemirror_mode": {
    "name": "ipython",
    "version": 3
   },
   "file_extension": ".py",
   "mimetype": "text/x-python",
   "name": "python",
   "nbconvert_exporter": "python",
   "pygments_lexer": "ipython3",
   "version": "3.9.12"
  }
 },
 "nbformat": 4,
 "nbformat_minor": 5
}
