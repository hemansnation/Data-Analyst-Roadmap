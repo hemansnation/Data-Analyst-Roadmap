{
 "cells": [
  {
   "cell_type": "markdown",
   "id": "0d853ca0",
   "metadata": {},
   "source": [
    "# Dictionary"
   ]
  },
  {
   "cell_type": "code",
   "execution_count": null,
   "id": "28ba2c85",
   "metadata": {},
   "outputs": [],
   "source": [
    "# { key : value }\n",
    "\n",
    "unordered data structures"
   ]
  },
  {
   "cell_type": "code",
   "execution_count": 1,
   "id": "de03adfa",
   "metadata": {},
   "outputs": [
    {
     "name": "stdout",
     "output_type": "stream",
     "text": [
      "{'ravi': 24, 'shyam': 21, 'roy': 41}\n"
     ]
    }
   ],
   "source": [
    "ages = {\"ravi\":24, \"shyam\": 21, \"roy\": 41}\n",
    "\n",
    "print(ages)"
   ]
  },
  {
   "cell_type": "code",
   "execution_count": 2,
   "id": "1507411b",
   "metadata": {},
   "outputs": [
    {
     "name": "stdout",
     "output_type": "stream",
     "text": [
      "<class 'dict'>\n"
     ]
    }
   ],
   "source": [
    "print(type(ages))"
   ]
  },
  {
   "cell_type": "code",
   "execution_count": 3,
   "id": "3a6e0c6d",
   "metadata": {},
   "outputs": [
    {
     "name": "stdout",
     "output_type": "stream",
     "text": [
      "24\n"
     ]
    }
   ],
   "source": [
    "print(ages['ravi'])"
   ]
  },
  {
   "cell_type": "code",
   "execution_count": 4,
   "id": "9c495fe7",
   "metadata": {},
   "outputs": [
    {
     "name": "stdout",
     "output_type": "stream",
     "text": [
      "41\n"
     ]
    }
   ],
   "source": [
    "print(ages['roy'])"
   ]
  },
  {
   "cell_type": "code",
   "execution_count": 5,
   "id": "dc9434fb",
   "metadata": {},
   "outputs": [
    {
     "name": "stdout",
     "output_type": "stream",
     "text": [
      "[255, 0, 0]\n"
     ]
    }
   ],
   "source": [
    "color = {\n",
    "    \"red\": [255,0,0],\n",
    "    \"green\": [0,255,0],\n",
    "    \"blue\": [0,0,255]\n",
    "}\n",
    "print(color['red'])"
   ]
  },
  {
   "cell_type": "code",
   "execution_count": 7,
   "id": "28854643",
   "metadata": {},
   "outputs": [
    {
     "ename": "KeyError",
     "evalue": "'yellow'",
     "output_type": "error",
     "traceback": [
      "\u001b[1;31m---------------------------------------------------------------------------\u001b[0m",
      "\u001b[1;31mKeyError\u001b[0m                                  Traceback (most recent call last)",
      "Input \u001b[1;32mIn [7]\u001b[0m, in \u001b[0;36m<cell line: 1>\u001b[1;34m()\u001b[0m\n\u001b[1;32m----> 1\u001b[0m \u001b[38;5;28mprint\u001b[39m(\u001b[43mcolor\u001b[49m\u001b[43m[\u001b[49m\u001b[38;5;124;43m'\u001b[39;49m\u001b[38;5;124;43myellow\u001b[39;49m\u001b[38;5;124;43m'\u001b[39;49m\u001b[43m]\u001b[49m)\n",
      "\u001b[1;31mKeyError\u001b[0m: 'yellow'"
     ]
    }
   ],
   "source": [
    "print(color['yellow'])"
   ]
  },
  {
   "cell_type": "code",
   "execution_count": 8,
   "id": "f12d89ad",
   "metadata": {},
   "outputs": [
    {
     "name": "stdout",
     "output_type": "stream",
     "text": [
      "{}\n",
      "<class 'dict'>\n"
     ]
    }
   ],
   "source": [
    "d = {}\n",
    "print(d)\n",
    "print(type(d))"
   ]
  },
  {
   "cell_type": "code",
   "execution_count": 9,
   "id": "0d0ceafe",
   "metadata": {},
   "outputs": [
    {
     "ename": "TypeError",
     "evalue": "unhashable type: 'list'",
     "output_type": "error",
     "traceback": [
      "\u001b[1;31m---------------------------------------------------------------------------\u001b[0m",
      "\u001b[1;31mTypeError\u001b[0m                                 Traceback (most recent call last)",
      "Input \u001b[1;32mIn [9]\u001b[0m, in \u001b[0;36m<cell line: 1>\u001b[1;34m()\u001b[0m\n\u001b[1;32m----> 1\u001b[0m d \u001b[38;5;241m=\u001b[39m {[\u001b[38;5;241m1\u001b[39m,\u001b[38;5;241m2\u001b[39m]:\u001b[38;5;241m10\u001b[39m, \u001b[38;5;241m2\u001b[39m:\u001b[38;5;241m2\u001b[39m, \u001b[38;5;241m3\u001b[39m:\u001b[38;5;241m3\u001b[39m}\n\u001b[0;32m      2\u001b[0m \u001b[38;5;28mprint\u001b[39m(d)\n",
      "\u001b[1;31mTypeError\u001b[0m: unhashable type: 'list'"
     ]
    }
   ],
   "source": [
    "d = {[1,2]:10, 2:2, 3:3}\n",
    "print(d)"
   ]
  },
  {
   "cell_type": "code",
   "execution_count": 10,
   "id": "8a6b2ca9",
   "metadata": {},
   "outputs": [
    {
     "name": "stdout",
     "output_type": "stream",
     "text": [
      "[100, 20]\n"
     ]
    }
   ],
   "source": [
    "# list are mutable objects\n",
    "\n",
    "l = [10,20]\n",
    "l[0] = 100\n",
    "print(l)"
   ]
  },
  {
   "cell_type": "code",
   "execution_count": 11,
   "id": "bc14edbb",
   "metadata": {},
   "outputs": [
    {
     "ename": "TypeError",
     "evalue": "'str' object does not support item assignment",
     "output_type": "error",
     "traceback": [
      "\u001b[1;31m---------------------------------------------------------------------------\u001b[0m",
      "\u001b[1;31mTypeError\u001b[0m                                 Traceback (most recent call last)",
      "Input \u001b[1;32mIn [11]\u001b[0m, in \u001b[0;36m<cell line: 4>\u001b[1;34m()\u001b[0m\n\u001b[0;32m      1\u001b[0m \u001b[38;5;66;03m# strings are immutable objects\u001b[39;00m\n\u001b[0;32m      3\u001b[0m s \u001b[38;5;241m=\u001b[39m \u001b[38;5;124m'\u001b[39m\u001b[38;5;124mindore\u001b[39m\u001b[38;5;124m'\u001b[39m\n\u001b[1;32m----> 4\u001b[0m s[\u001b[38;5;241m0\u001b[39m] \u001b[38;5;241m=\u001b[39m \u001b[38;5;124m\"\u001b[39m\u001b[38;5;124mA\u001b[39m\u001b[38;5;124m\"\u001b[39m\n\u001b[0;32m      5\u001b[0m \u001b[38;5;28mprint\u001b[39m(s)\n",
      "\u001b[1;31mTypeError\u001b[0m: 'str' object does not support item assignment"
     ]
    }
   ],
   "source": [
    "# strings are immutable objects\n",
    "\n",
    "s = 'indore'\n",
    "s[0] = \"A\"\n",
    "print(s)"
   ]
  },
  {
   "cell_type": "markdown",
   "id": "498704a8",
   "metadata": {},
   "source": [
    "# Dictionary Functions"
   ]
  },
  {
   "cell_type": "code",
   "execution_count": 12,
   "id": "a88930aa",
   "metadata": {},
   "outputs": [
    {
     "name": "stdout",
     "output_type": "stream",
     "text": [
      "4\n"
     ]
    }
   ],
   "source": [
    "d = {1:11, 2:41, 13:9, 14:16}\n",
    "\n",
    "print(len(d))"
   ]
  },
  {
   "cell_type": "code",
   "execution_count": 13,
   "id": "71aca243",
   "metadata": {},
   "outputs": [
    {
     "name": "stdout",
     "output_type": "stream",
     "text": [
      "30\n"
     ]
    }
   ],
   "source": [
    "print(sum(d))"
   ]
  },
  {
   "cell_type": "code",
   "execution_count": 14,
   "id": "a9c23606",
   "metadata": {},
   "outputs": [
    {
     "ename": "TypeError",
     "evalue": "unsupported operand type(s) for +: 'int' and 'str'",
     "output_type": "error",
     "traceback": [
      "\u001b[1;31m---------------------------------------------------------------------------\u001b[0m",
      "\u001b[1;31mTypeError\u001b[0m                                 Traceback (most recent call last)",
      "Input \u001b[1;32mIn [14]\u001b[0m, in \u001b[0;36m<cell line: 3>\u001b[1;34m()\u001b[0m\n\u001b[0;32m      1\u001b[0m a \u001b[38;5;241m=\u001b[39m {\u001b[38;5;241m1\u001b[39m:\u001b[38;5;241m2\u001b[39m, \u001b[38;5;241m3\u001b[39m:\u001b[38;5;241m4\u001b[39m, \u001b[38;5;124m\"\u001b[39m\u001b[38;5;124mhi\u001b[39m\u001b[38;5;124m\"\u001b[39m:\u001b[38;5;241m16\u001b[39m}\n\u001b[1;32m----> 3\u001b[0m \u001b[38;5;28mprint\u001b[39m(\u001b[38;5;28;43msum\u001b[39;49m\u001b[43m(\u001b[49m\u001b[43ma\u001b[49m\u001b[43m)\u001b[49m)\n",
      "\u001b[1;31mTypeError\u001b[0m: unsupported operand type(s) for +: 'int' and 'str'"
     ]
    }
   ],
   "source": [
    "a = {1:2, 3:4, \"hi\":16}\n",
    "\n",
    "print(sum(a))"
   ]
  },
  {
   "cell_type": "markdown",
   "id": "6afd220b",
   "metadata": {},
   "source": [
    "# Dictionary Methods"
   ]
  },
  {
   "cell_type": "code",
   "execution_count": 15,
   "id": "4d319b95",
   "metadata": {},
   "outputs": [
    {
     "name": "stdout",
     "output_type": "stream",
     "text": [
      "{1: 'Apple', 'orange': [2, 3, 4], '2': '23'}\n"
     ]
    }
   ],
   "source": [
    "pair = {1:\"Apple\", \"orange\": [2,3,4], \"2\":\"23\"}\n",
    "\n",
    "print(pair)"
   ]
  },
  {
   "cell_type": "code",
   "execution_count": 18,
   "id": "b53ea8e9",
   "metadata": {
    "scrolled": false
   },
   "outputs": [
    {
     "name": "stdout",
     "output_type": "stream",
     "text": [
      "[2, 3, 4]\n"
     ]
    }
   ],
   "source": [
    "# get\n",
    "# help(dict)\n",
    "\n",
    "print(pair.get(\"orange\"))"
   ]
  },
  {
   "cell_type": "code",
   "execution_count": 19,
   "id": "e3b011f8",
   "metadata": {},
   "outputs": [
    {
     "name": "stdout",
     "output_type": "stream",
     "text": [
      "None\n"
     ]
    }
   ],
   "source": [
    "print(pair.get(7))"
   ]
  },
  {
   "cell_type": "code",
   "execution_count": null,
   "id": "80c5249a",
   "metadata": {},
   "outputs": [],
   "source": [
    "None ==> NULL ==> nothing"
   ]
  },
  {
   "cell_type": "code",
   "execution_count": 20,
   "id": "8ece5b51",
   "metadata": {},
   "outputs": [
    {
     "name": "stdout",
     "output_type": "stream",
     "text": [
      "Apple\n"
     ]
    }
   ],
   "source": [
    "print(pair.get(1,\"Element not found\"))"
   ]
  },
  {
   "cell_type": "code",
   "execution_count": 21,
   "id": "af462093",
   "metadata": {},
   "outputs": [
    {
     "name": "stdout",
     "output_type": "stream",
     "text": [
      "Element not found\n"
     ]
    }
   ],
   "source": [
    "print(pair.get(10,\"Element not found\"))"
   ]
  },
  {
   "cell_type": "code",
   "execution_count": 23,
   "id": "61e47d6e",
   "metadata": {},
   "outputs": [
    {
     "name": "stdout",
     "output_type": "stream",
     "text": [
      "{1: 'Apple', 'orange': [2, 3, 4], '2': '23'}\n",
      "{}\n"
     ]
    }
   ],
   "source": [
    "# clear\n",
    "\n",
    "p = {1:\"Apple\", \"orange\": [2,3,4], \"2\":\"23\"}\n",
    "\n",
    "print(p)\n",
    "p.clear()\n",
    "print(p)"
   ]
  },
  {
   "cell_type": "code",
   "execution_count": 24,
   "id": "bcf864f7",
   "metadata": {},
   "outputs": [
    {
     "name": "stdout",
     "output_type": "stream",
     "text": [
      "dict_keys([1, 2, 3])\n"
     ]
    }
   ],
   "source": [
    "# keys\n",
    "\n",
    "r = {1:\"A\", 2:'Zara', 3:\"Maza\"}\n",
    "\n",
    "print(r.keys())"
   ]
  },
  {
   "cell_type": "code",
   "execution_count": 25,
   "id": "4d8f44be",
   "metadata": {},
   "outputs": [
    {
     "name": "stdout",
     "output_type": "stream",
     "text": [
      "[1, 2, 3]\n"
     ]
    }
   ],
   "source": [
    "print(list(r.keys()))"
   ]
  },
  {
   "cell_type": "code",
   "execution_count": 26,
   "id": "13318e6e",
   "metadata": {},
   "outputs": [
    {
     "name": "stdout",
     "output_type": "stream",
     "text": [
      "dict_values(['A', 'Zara', 'Maza'])\n"
     ]
    }
   ],
   "source": [
    "# values\n",
    "\n",
    "r = {1:\"A\", 2:'Zara', 3:\"Maza\"}\n",
    "\n",
    "print(r.values())"
   ]
  },
  {
   "cell_type": "code",
   "execution_count": 27,
   "id": "e29dc425",
   "metadata": {},
   "outputs": [
    {
     "name": "stdout",
     "output_type": "stream",
     "text": [
      "['A', 'Zara', 'Maza']\n"
     ]
    }
   ],
   "source": [
    "print(list(r.values()))"
   ]
  },
  {
   "cell_type": "code",
   "execution_count": 28,
   "id": "4e7dbf29",
   "metadata": {},
   "outputs": [
    {
     "name": "stdout",
     "output_type": "stream",
     "text": [
      "{3: 'Maza', 2: 'Zara'}\n",
      "2\n"
     ]
    }
   ],
   "source": [
    "r = {3:\"A\", 2:'Zara', 3:\"Maza\"}\n",
    "\n",
    "print(r)\n",
    "\n",
    "print(len(r))"
   ]
  },
  {
   "cell_type": "markdown",
   "id": "ec79a1b8",
   "metadata": {},
   "source": [
    "# Question\n",
    "\n",
    "print the following series"
   ]
  },
  {
   "cell_type": "code",
   "execution_count": null,
   "id": "e205896b",
   "metadata": {},
   "outputs": [],
   "source": [
    "{1:1, 2:4, 3:9, 4:16, .........10:100}"
   ]
  },
  {
   "cell_type": "code",
   "execution_count": 29,
   "id": "5abc247e",
   "metadata": {},
   "outputs": [
    {
     "name": "stdout",
     "output_type": "stream",
     "text": [
      "{1: 2, 3: 'Hi'}\n"
     ]
    }
   ],
   "source": [
    "a = {1:2}\n",
    "a[3] = \"Hi\"\n",
    "print(a)"
   ]
  },
  {
   "cell_type": "code",
   "execution_count": 30,
   "id": "7aea4934",
   "metadata": {},
   "outputs": [
    {
     "name": "stdout",
     "output_type": "stream",
     "text": [
      "{1: 1, 2: 4, 3: 9, 4: 16, 5: 25, 6: 36, 7: 49, 8: 64, 9: 81, 10: 100}\n"
     ]
    }
   ],
   "source": [
    "d = {}\n",
    "\n",
    "for i in range(1,11):\n",
    "    d[i] = i * i\n",
    "\n",
    "print(d)"
   ]
  },
  {
   "cell_type": "markdown",
   "id": "323a152e",
   "metadata": {},
   "source": [
    "# Tuples"
   ]
  },
  {
   "cell_type": "code",
   "execution_count": 31,
   "id": "5a6a2fc7",
   "metadata": {},
   "outputs": [
    {
     "name": "stdout",
     "output_type": "stream",
     "text": [
      "(4, 3, 5, 6)\n",
      "<class 'tuple'>\n"
     ]
    }
   ],
   "source": [
    "t = (4,3,5,6)\n",
    "#    0 1 2 3\n",
    "\n",
    "print(t)\n",
    "\n",
    "print(type(t))"
   ]
  },
  {
   "cell_type": "code",
   "execution_count": 32,
   "id": "d5b5852c",
   "metadata": {},
   "outputs": [
    {
     "name": "stdout",
     "output_type": "stream",
     "text": [
      "4\n"
     ]
    }
   ],
   "source": [
    "print(t[0])"
   ]
  },
  {
   "cell_type": "code",
   "execution_count": 33,
   "id": "519de1e2",
   "metadata": {},
   "outputs": [
    {
     "ename": "TypeError",
     "evalue": "'tuple' object does not support item assignment",
     "output_type": "error",
     "traceback": [
      "\u001b[1;31m---------------------------------------------------------------------------\u001b[0m",
      "\u001b[1;31mTypeError\u001b[0m                                 Traceback (most recent call last)",
      "Input \u001b[1;32mIn [33]\u001b[0m, in \u001b[0;36m<cell line: 1>\u001b[1;34m()\u001b[0m\n\u001b[1;32m----> 1\u001b[0m t[\u001b[38;5;241m0\u001b[39m] \u001b[38;5;241m=\u001b[39m \u001b[38;5;241m11\u001b[39m\n",
      "\u001b[1;31mTypeError\u001b[0m: 'tuple' object does not support item assignment"
     ]
    }
   ],
   "source": [
    "t[0] = 11  # tuple are immutable objects"
   ]
  },
  {
   "cell_type": "code",
   "execution_count": 34,
   "id": "d44d0e73",
   "metadata": {},
   "outputs": [
    {
     "name": "stdout",
     "output_type": "stream",
     "text": [
      "('one', 'two', 'three')\n"
     ]
    }
   ],
   "source": [
    "t = \"one\", \"two\", \"three\"\n",
    "\n",
    "print(t)"
   ]
  },
  {
   "cell_type": "code",
   "execution_count": 35,
   "id": "85ca1c88",
   "metadata": {},
   "outputs": [
    {
     "name": "stdout",
     "output_type": "stream",
     "text": [
      "<class 'tuple'>\n"
     ]
    }
   ],
   "source": [
    "print(type(t))"
   ]
  },
  {
   "cell_type": "code",
   "execution_count": 36,
   "id": "88548f84",
   "metadata": {},
   "outputs": [
    {
     "name": "stdout",
     "output_type": "stream",
     "text": [
      "10\n",
      "<class 'int'>\n"
     ]
    }
   ],
   "source": [
    "t = (10)\n",
    "print(t)\n",
    "print(type(t))"
   ]
  },
  {
   "cell_type": "code",
   "execution_count": 37,
   "id": "0605b55a",
   "metadata": {},
   "outputs": [
    {
     "name": "stdout",
     "output_type": "stream",
     "text": [
      "(10,)\n",
      "<class 'tuple'>\n"
     ]
    }
   ],
   "source": [
    "t = (10,)\n",
    "print(t)\n",
    "print(type(t))"
   ]
  },
  {
   "cell_type": "markdown",
   "id": "954aa392",
   "metadata": {},
   "source": [
    "# Tuple unpacking"
   ]
  },
  {
   "cell_type": "code",
   "execution_count": 38,
   "id": "a77b3c9c",
   "metadata": {},
   "outputs": [
    {
     "name": "stdout",
     "output_type": "stream",
     "text": [
      "1\n",
      "2\n",
      "3\n"
     ]
    }
   ],
   "source": [
    "n = (1,2,3)\n",
    "\n",
    "a,b,c = n\n",
    "\n",
    "print(a)\n",
    "print(b)\n",
    "print(c)"
   ]
  },
  {
   "cell_type": "markdown",
   "id": "bda16a06",
   "metadata": {},
   "source": [
    "# Tuple Slicing"
   ]
  },
  {
   "cell_type": "code",
   "execution_count": 39,
   "id": "1c2a8096",
   "metadata": {},
   "outputs": [
    {
     "name": "stdout",
     "output_type": "stream",
     "text": [
      "(11, 22, 33, 44, 55, 66, 77, 88, 99, 100)\n"
     ]
    }
   ],
   "source": [
    "#                               -1\n",
    "t = (11,22,33,44,55,66,77,88,99,100)\n",
    "#    0  1  \n",
    "\n",
    "print(t)"
   ]
  },
  {
   "cell_type": "code",
   "execution_count": 40,
   "id": "14c17710",
   "metadata": {},
   "outputs": [
    {
     "name": "stdout",
     "output_type": "stream",
     "text": [
      "(44, 55)\n"
     ]
    }
   ],
   "source": [
    "print(t[3:5])"
   ]
  },
  {
   "cell_type": "code",
   "execution_count": 41,
   "id": "febf2d84",
   "metadata": {},
   "outputs": [
    {
     "name": "stdout",
     "output_type": "stream",
     "text": [
      "(11, 22, 33, 44, 55, 66)\n"
     ]
    }
   ],
   "source": [
    "print(t[:6])"
   ]
  },
  {
   "cell_type": "code",
   "execution_count": 42,
   "id": "e98f6a1e",
   "metadata": {},
   "outputs": [
    {
     "name": "stdout",
     "output_type": "stream",
     "text": [
      "(33, 44, 55, 66)\n"
     ]
    }
   ],
   "source": [
    "print(t[-8:-4])"
   ]
  },
  {
   "cell_type": "code",
   "execution_count": 43,
   "id": "c1de1350",
   "metadata": {},
   "outputs": [
    {
     "name": "stdout",
     "output_type": "stream",
     "text": [
      "()\n"
     ]
    }
   ],
   "source": [
    "print(t[-4:-8])"
   ]
  },
  {
   "cell_type": "code",
   "execution_count": 44,
   "id": "3f3523ca",
   "metadata": {},
   "outputs": [
    {
     "name": "stdout",
     "output_type": "stream",
     "text": [
      "(100, 99, 88, 77, 66, 55, 44, 33, 22, 11)\n"
     ]
    }
   ],
   "source": [
    "print(t[::-1])"
   ]
  },
  {
   "cell_type": "markdown",
   "id": "9119181e",
   "metadata": {},
   "source": [
    "# Tuple Methods"
   ]
  },
  {
   "cell_type": "code",
   "execution_count": 45,
   "id": "da140ca3",
   "metadata": {},
   "outputs": [
    {
     "name": "stdout",
     "output_type": "stream",
     "text": [
      "3\n"
     ]
    }
   ],
   "source": [
    "# count\n",
    "\n",
    "t = (2,3,4,5,5,6,6,4,4,)\n",
    "\n",
    "print(t.count(4))\n"
   ]
  },
  {
   "cell_type": "code",
   "execution_count": 46,
   "id": "c35b8ce9",
   "metadata": {},
   "outputs": [
    {
     "name": "stdout",
     "output_type": "stream",
     "text": [
      "2\n"
     ]
    }
   ],
   "source": [
    "# index\n",
    "\n",
    "t = (2,3,4,5,5,6,6,4,4,)\n",
    "\n",
    "print(t.index(4))"
   ]
  },
  {
   "cell_type": "code",
   "execution_count": 47,
   "id": "1e8caefa",
   "metadata": {},
   "outputs": [
    {
     "name": "stdout",
     "output_type": "stream",
     "text": [
      "Help on built-in function index:\n",
      "\n",
      "index(value, start=0, stop=9223372036854775807, /) method of builtins.tuple instance\n",
      "    Return first index of value.\n",
      "    \n",
      "    Raises ValueError if the value is not present.\n",
      "\n"
     ]
    }
   ],
   "source": [
    "help(t.index)"
   ]
  },
  {
   "cell_type": "code",
   "execution_count": 48,
   "id": "15dafa64",
   "metadata": {},
   "outputs": [
    {
     "name": "stdout",
     "output_type": "stream",
     "text": [
      "7\n"
     ]
    }
   ],
   "source": [
    "# index\n",
    "\n",
    "t = (2,3,4,5,5,6,6,4,4,)\n",
    "\n",
    "print(t.index(4, 5))"
   ]
  },
  {
   "cell_type": "markdown",
   "id": "a9ef4027",
   "metadata": {},
   "source": [
    "# Tuple functions"
   ]
  },
  {
   "cell_type": "code",
   "execution_count": 49,
   "id": "22c1684e",
   "metadata": {},
   "outputs": [
    {
     "name": "stdout",
     "output_type": "stream",
     "text": [
      "5\n"
     ]
    }
   ],
   "source": [
    "t = (2,3,4,5,6)\n",
    "\n",
    "print(len(t))"
   ]
  },
  {
   "cell_type": "code",
   "execution_count": 50,
   "id": "9f1bfd43",
   "metadata": {},
   "outputs": [
    {
     "name": "stdout",
     "output_type": "stream",
     "text": [
      "20\n"
     ]
    }
   ],
   "source": [
    "print(sum(t))"
   ]
  },
  {
   "cell_type": "code",
   "execution_count": 51,
   "id": "89a4ca0e",
   "metadata": {},
   "outputs": [
    {
     "name": "stdout",
     "output_type": "stream",
     "text": [
      "6\n"
     ]
    }
   ],
   "source": [
    "print(max(t))"
   ]
  },
  {
   "cell_type": "markdown",
   "id": "505a27fe",
   "metadata": {},
   "source": [
    "# Question"
   ]
  },
  {
   "cell_type": "code",
   "execution_count": null,
   "id": "f36b7876",
   "metadata": {},
   "outputs": [],
   "source": [
    "# remove i from this tuple\n",
    "\n",
    "t = ('a', 'e','i', 'o', 'u')"
   ]
  },
  {
   "cell_type": "markdown",
   "id": "90775705",
   "metadata": {},
   "source": [
    "# Sets\n",
    "\n",
    "unordered and unindex\n",
    "\n",
    "sets are mutable"
   ]
  },
  {
   "cell_type": "code",
   "execution_count": 52,
   "id": "7ee80027",
   "metadata": {},
   "outputs": [
    {
     "name": "stdout",
     "output_type": "stream",
     "text": [
      "{1, 2, 3, 4, 5, 6}\n",
      "<class 'set'>\n"
     ]
    }
   ],
   "source": [
    "n = {1,2,3,4,5,6,6,6}\n",
    "\n",
    "print(n)\n",
    "\n",
    "print(type(n))"
   ]
  },
  {
   "cell_type": "code",
   "execution_count": 53,
   "id": "6fef6ded",
   "metadata": {},
   "outputs": [
    {
     "name": "stdout",
     "output_type": "stream",
     "text": [
      "<class 'set'>\n"
     ]
    }
   ],
   "source": [
    "s = set()\n",
    "\n",
    "print(type(s))"
   ]
  },
  {
   "cell_type": "code",
   "execution_count": 54,
   "id": "a23d23ac",
   "metadata": {},
   "outputs": [
    {
     "name": "stdout",
     "output_type": "stream",
     "text": [
      "{10, 'a', 'b'}\n"
     ]
    }
   ],
   "source": [
    "n = set(['a','b',10])\n",
    "print(n)"
   ]
  },
  {
   "cell_type": "code",
   "execution_count": 55,
   "id": "1a660809",
   "metadata": {},
   "outputs": [
    {
     "name": "stdout",
     "output_type": "stream",
     "text": [
      "True\n"
     ]
    }
   ],
   "source": [
    "s = ['a','b',10]\n",
    "\n",
    "print(10 in s)"
   ]
  },
  {
   "cell_type": "code",
   "execution_count": 56,
   "id": "6997ba95",
   "metadata": {},
   "outputs": [
    {
     "name": "stdout",
     "output_type": "stream",
     "text": [
      "10\n",
      "a\n",
      "b\n"
     ]
    }
   ],
   "source": [
    "for i in n:\n",
    "    print(i)"
   ]
  },
  {
   "cell_type": "markdown",
   "id": "1f38bc03",
   "metadata": {},
   "source": [
    "# Set operations\n",
    "\n",
    "#### union"
   ]
  },
  {
   "cell_type": "code",
   "execution_count": 57,
   "id": "cde829c8",
   "metadata": {},
   "outputs": [
    {
     "name": "stdout",
     "output_type": "stream",
     "text": [
      "{1, 2, 3, 4, 5, 6, 7, 8, 9}\n"
     ]
    }
   ],
   "source": [
    "f = {1,2,3,4,5,6}\n",
    "s = {4,5,6,7,8,9}\n",
    "\n",
    "print(f | s)   # union"
   ]
  },
  {
   "cell_type": "markdown",
   "id": "4f9ef43c",
   "metadata": {},
   "source": [
    "#### intersection"
   ]
  },
  {
   "cell_type": "code",
   "execution_count": 58,
   "id": "58b28ca7",
   "metadata": {},
   "outputs": [
    {
     "name": "stdout",
     "output_type": "stream",
     "text": [
      "{4, 5, 6}\n"
     ]
    }
   ],
   "source": [
    "f = {1,2,3,4,5,6}\n",
    "s = {4,5,6,7,8,9}\n",
    "\n",
    "print(f & s)   # intersection"
   ]
  },
  {
   "cell_type": "markdown",
   "id": "69c8e095",
   "metadata": {},
   "source": [
    "#### difference"
   ]
  },
  {
   "cell_type": "code",
   "execution_count": 59,
   "id": "81b857d2",
   "metadata": {},
   "outputs": [
    {
     "name": "stdout",
     "output_type": "stream",
     "text": [
      "{1, 2, 3}\n"
     ]
    }
   ],
   "source": [
    "f = {1,2,3,4,5,6}\n",
    "s = {4,5,6,7,8,9}\n",
    "\n",
    "print(f - s)   # difference"
   ]
  },
  {
   "cell_type": "code",
   "execution_count": 60,
   "id": "d9eaa143",
   "metadata": {},
   "outputs": [
    {
     "name": "stdout",
     "output_type": "stream",
     "text": [
      "{8, 9, 7}\n"
     ]
    }
   ],
   "source": [
    "f = {1,2,3,4,5,6}\n",
    "s = {4,5,6,7,8,9}\n",
    "\n",
    "print(s - f)   # difference"
   ]
  },
  {
   "cell_type": "markdown",
   "id": "17db78c6",
   "metadata": {},
   "source": [
    "#### symmetric"
   ]
  },
  {
   "cell_type": "code",
   "execution_count": 61,
   "id": "0200b5d0",
   "metadata": {},
   "outputs": [
    {
     "name": "stdout",
     "output_type": "stream",
     "text": [
      "{1, 2, 3, 7, 8, 9}\n"
     ]
    }
   ],
   "source": [
    "f = {1,2,3,4,5,6}\n",
    "s = {4,5,6,7,8,9}\n",
    "\n",
    "print(f ^ s)   # symmetric"
   ]
  },
  {
   "cell_type": "markdown",
   "id": "64ddb35d",
   "metadata": {},
   "source": [
    "# set functions"
   ]
  },
  {
   "cell_type": "code",
   "execution_count": 62,
   "id": "000b5af4",
   "metadata": {},
   "outputs": [
    {
     "name": "stdout",
     "output_type": "stream",
     "text": [
      "6\n",
      "21\n",
      "6\n"
     ]
    }
   ],
   "source": [
    "s = {1,2,3,4,5,6}\n",
    "\n",
    "print(len(s))\n",
    "print(sum(s))\n",
    "print(max(s))"
   ]
  },
  {
   "cell_type": "markdown",
   "id": "d07deba1",
   "metadata": {},
   "source": [
    "# set methods\n",
    "\n",
    "#### add"
   ]
  },
  {
   "cell_type": "code",
   "execution_count": 66,
   "id": "784b2205",
   "metadata": {},
   "outputs": [
    {
     "name": "stdout",
     "output_type": "stream",
     "text": [
      "{1, 2, 3, 4, 5, 6}\n",
      "{1, 2, 3, 4, 5, 6, -7}\n"
     ]
    }
   ],
   "source": [
    "n = {1,2,1,3,4,5,6}\n",
    "\n",
    "print(n)\n",
    "\n",
    "n.add(-7)\n",
    "\n",
    "print(n)"
   ]
  },
  {
   "cell_type": "markdown",
   "id": "e78cb535",
   "metadata": {},
   "source": [
    "#### clear"
   ]
  },
  {
   "cell_type": "code",
   "execution_count": 67,
   "id": "c948c4ff",
   "metadata": {},
   "outputs": [
    {
     "name": "stdout",
     "output_type": "stream",
     "text": [
      "{1, 2, 3, 4, 5, 6, -7}\n",
      "set()\n"
     ]
    }
   ],
   "source": [
    "print(n)\n",
    "n.clear()\n",
    "print(n)"
   ]
  },
  {
   "cell_type": "code",
   "execution_count": 68,
   "id": "a5ac2b2e",
   "metadata": {},
   "outputs": [
    {
     "name": "stdout",
     "output_type": "stream",
     "text": [
      "{1, 4, 5, 6}\n"
     ]
    }
   ],
   "source": [
    "s = {1,2,3,4,5,6}\n",
    "\n",
    "s.remove(3)\n",
    "s.remove(2)\n",
    "\n",
    "print(s)"
   ]
  },
  {
   "cell_type": "code",
   "execution_count": null,
   "id": "5fdb4232",
   "metadata": {},
   "outputs": [],
   "source": []
  }
 ],
 "metadata": {
  "kernelspec": {
   "display_name": "Python 3 (ipykernel)",
   "language": "python",
   "name": "python3"
  },
  "language_info": {
   "codemirror_mode": {
    "name": "ipython",
    "version": 3
   },
   "file_extension": ".py",
   "mimetype": "text/x-python",
   "name": "python",
   "nbconvert_exporter": "python",
   "pygments_lexer": "ipython3",
   "version": "3.9.12"
  }
 },
 "nbformat": 4,
 "nbformat_minor": 5
}
