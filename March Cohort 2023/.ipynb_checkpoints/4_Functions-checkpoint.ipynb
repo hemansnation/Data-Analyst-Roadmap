{
 "cells": [
  {
   "cell_type": "markdown",
   "id": "a98c255e",
   "metadata": {},
   "source": [
    "# Functions"
   ]
  },
  {
   "cell_type": "code",
   "execution_count": 1,
   "id": "18360579",
   "metadata": {},
   "outputs": [],
   "source": [
    "def myfunction():    # definition of function\n",
    "    print(\"Hey\")"
   ]
  },
  {
   "cell_type": "code",
   "execution_count": 2,
   "id": "22e39c3e",
   "metadata": {},
   "outputs": [
    {
     "name": "stdout",
     "output_type": "stream",
     "text": [
      "Hey\n"
     ]
    }
   ],
   "source": [
    "myfunction()         # calling of function"
   ]
  },
  {
   "cell_type": "code",
   "execution_count": 3,
   "id": "c24cd8e5",
   "metadata": {},
   "outputs": [
    {
     "name": "stdout",
     "output_type": "stream",
     "text": [
      "1\n",
      "2\n",
      "3\n"
     ]
    }
   ],
   "source": [
    "def paint():\n",
    "    print(1)\n",
    "    print(2)\n",
    "    print(3)\n",
    "\n",
    "paint()"
   ]
  },
  {
   "cell_type": "code",
   "execution_count": 4,
   "id": "1cd655a2",
   "metadata": {},
   "outputs": [
    {
     "name": "stdout",
     "output_type": "stream",
     "text": [
      "1\n",
      "2\n",
      "3\n"
     ]
    }
   ],
   "source": [
    "paint()"
   ]
  },
  {
   "cell_type": "code",
   "execution_count": 5,
   "id": "f6b4813a",
   "metadata": {},
   "outputs": [
    {
     "ename": "NameError",
     "evalue": "name 'hello' is not defined",
     "output_type": "error",
     "traceback": [
      "\u001b[1;31m---------------------------------------------------------------------------\u001b[0m",
      "\u001b[1;31mNameError\u001b[0m                                 Traceback (most recent call last)",
      "Input \u001b[1;32mIn [5]\u001b[0m, in \u001b[0;36m<cell line: 1>\u001b[1;34m()\u001b[0m\n\u001b[1;32m----> 1\u001b[0m \u001b[43mhello\u001b[49m()\n\u001b[0;32m      3\u001b[0m \u001b[38;5;28;01mdef\u001b[39;00m \u001b[38;5;21mhello\u001b[39m():\n\u001b[0;32m      4\u001b[0m     \u001b[38;5;28mprint\u001b[39m(\u001b[38;5;124m\"\u001b[39m\u001b[38;5;124mHello\u001b[39m\u001b[38;5;124m\"\u001b[39m)\n",
      "\u001b[1;31mNameError\u001b[0m: name 'hello' is not defined"
     ]
    }
   ],
   "source": [
    "hello()\n",
    "\n",
    "def hello():\n",
    "    print(\"Hello\")"
   ]
  },
  {
   "cell_type": "code",
   "execution_count": 6,
   "id": "28ae369c",
   "metadata": {},
   "outputs": [
    {
     "ename": "TypeError",
     "evalue": "indore() missing 1 required positional argument: 'a'",
     "output_type": "error",
     "traceback": [
      "\u001b[1;31m---------------------------------------------------------------------------\u001b[0m",
      "\u001b[1;31mTypeError\u001b[0m                                 Traceback (most recent call last)",
      "Input \u001b[1;32mIn [6]\u001b[0m, in \u001b[0;36m<cell line: 4>\u001b[1;34m()\u001b[0m\n\u001b[0;32m      1\u001b[0m \u001b[38;5;28;01mdef\u001b[39;00m \u001b[38;5;21mindore\u001b[39m(a):\n\u001b[0;32m      2\u001b[0m     \u001b[38;5;28mprint\u001b[39m(a)\n\u001b[1;32m----> 4\u001b[0m \u001b[43mindore\u001b[49m\u001b[43m(\u001b[49m\u001b[43m)\u001b[49m\n",
      "\u001b[1;31mTypeError\u001b[0m: indore() missing 1 required positional argument: 'a'"
     ]
    }
   ],
   "source": [
    "def indore(a):    # a = \"A\"\n",
    "    print(a)\n",
    "\n",
    "indore()"
   ]
  },
  {
   "cell_type": "code",
   "execution_count": 7,
   "id": "52bc36b9",
   "metadata": {
    "scrolled": true
   },
   "outputs": [
    {
     "name": "stdout",
     "output_type": "stream",
     "text": [
      "10\n"
     ]
    }
   ],
   "source": [
    "indore(10)"
   ]
  },
  {
   "cell_type": "code",
   "execution_count": 8,
   "id": "527fe9e4",
   "metadata": {},
   "outputs": [
    {
     "name": "stdout",
     "output_type": "stream",
     "text": [
      "A\n"
     ]
    }
   ],
   "source": [
    "indore(\"A\")"
   ]
  },
  {
   "cell_type": "code",
   "execution_count": 9,
   "id": "4af5fdc0",
   "metadata": {},
   "outputs": [
    {
     "name": "stdout",
     "output_type": "stream",
     "text": [
      "right\n"
     ]
    }
   ],
   "source": [
    "indore(\"right\")"
   ]
  },
  {
   "cell_type": "code",
   "execution_count": 10,
   "id": "aa11eea7",
   "metadata": {},
   "outputs": [
    {
     "name": "stdout",
     "output_type": "stream",
     "text": [
      "1\n",
      "One\n",
      "2\n",
      "Two\n",
      "right\n",
      "three\n"
     ]
    }
   ],
   "source": [
    "indore(1)\n",
    "print(\"One\")\n",
    "indore(2)\n",
    "print(\"Two\")\n",
    "indore(\"right\")\n",
    "print(\"three\")"
   ]
  },
  {
   "cell_type": "code",
   "execution_count": 11,
   "id": "84a3b11a",
   "metadata": {},
   "outputs": [
    {
     "name": "stdout",
     "output_type": "stream",
     "text": [
      "9\n"
     ]
    }
   ],
   "source": [
    "def add(x, y):\n",
    "    print(x + y)\n",
    "\n",
    "add(5,4)"
   ]
  },
  {
   "cell_type": "markdown",
   "id": "74774c31",
   "metadata": {},
   "source": [
    "# Return statement"
   ]
  },
  {
   "cell_type": "code",
   "execution_count": 12,
   "id": "bd50418a",
   "metadata": {},
   "outputs": [
    {
     "name": "stdout",
     "output_type": "stream",
     "text": [
      "7\n"
     ]
    }
   ],
   "source": [
    "def play(x, y):\n",
    "    if x >= y:\n",
    "        return x\n",
    "    else:\n",
    "        return y\n",
    "\n",
    "print(play(4,7))\n",
    "#        7"
   ]
  },
  {
   "cell_type": "code",
   "execution_count": 13,
   "id": "86b599e4",
   "metadata": {},
   "outputs": [
    {
     "name": "stdout",
     "output_type": "stream",
     "text": [
      "8\n"
     ]
    }
   ],
   "source": [
    "z = play(8,5)\n",
    "#z = 8\n",
    "\n",
    "print(z)"
   ]
  },
  {
   "cell_type": "code",
   "execution_count": 14,
   "id": "ad6e3060",
   "metadata": {},
   "outputs": [
    {
     "name": "stdout",
     "output_type": "stream",
     "text": [
      "9\n"
     ]
    }
   ],
   "source": [
    "def sub(x, y):\n",
    "    t = x + y\n",
    "    return t\n",
    "    print(\"Hi\")\n",
    "\n",
    "print(sub(4,5))"
   ]
  },
  {
   "cell_type": "code",
   "execution_count": 18,
   "id": "8cc83a2f",
   "metadata": {},
   "outputs": [
    {
     "name": "stdout",
     "output_type": "stream",
     "text": [
      "1\n",
      "2\n",
      "hello\n"
     ]
    }
   ],
   "source": [
    "def pre():\n",
    "    print(1)\n",
    "    print(2)\n",
    "    print(\"hello\")\n",
    "    return\n",
    "    print(3)\n",
    "    print(4)\n",
    "\n",
    "pre()"
   ]
  },
  {
   "cell_type": "code",
   "execution_count": 19,
   "id": "cb329c92",
   "metadata": {},
   "outputs": [
    {
     "name": "stdout",
     "output_type": "stream",
     "text": [
      "1\n",
      "2\n",
      "hello\n",
      "None\n"
     ]
    }
   ],
   "source": [
    "print(pre())"
   ]
  },
  {
   "cell_type": "code",
   "execution_count": 17,
   "id": "a463dbf9",
   "metadata": {},
   "outputs": [
    {
     "name": "stdout",
     "output_type": "stream",
     "text": [
      "1\n",
      "2\n",
      "None\n"
     ]
    }
   ],
   "source": [
    "r = pre()\n",
    "\n",
    "print(r)"
   ]
  },
  {
   "cell_type": "code",
   "execution_count": null,
   "id": "280c0539",
   "metadata": {},
   "outputs": [],
   "source": [
    "None ==> NULL ==> nothing"
   ]
  },
  {
   "cell_type": "code",
   "execution_count": 20,
   "id": "79b26fc0",
   "metadata": {},
   "outputs": [
    {
     "name": "stdout",
     "output_type": "stream",
     "text": [
      "None\n"
     ]
    }
   ],
   "source": [
    "print(None)"
   ]
  },
  {
   "cell_type": "code",
   "execution_count": 21,
   "id": "f781cf14",
   "metadata": {},
   "outputs": [
    {
     "name": "stdout",
     "output_type": "stream",
     "text": [
      "Hi\n",
      "None\n"
     ]
    }
   ],
   "source": [
    "print(print(\"Hi\"))\n",
    "# print(None)"
   ]
  },
  {
   "cell_type": "markdown",
   "id": "d25d6edf",
   "metadata": {},
   "source": [
    "# Default Argument"
   ]
  },
  {
   "cell_type": "code",
   "execution_count": 22,
   "id": "f6141d42",
   "metadata": {},
   "outputs": [
    {
     "ename": "TypeError",
     "evalue": "can only concatenate str (not \"int\") to str",
     "output_type": "error",
     "traceback": [
      "\u001b[1;31m---------------------------------------------------------------------------\u001b[0m",
      "\u001b[1;31mTypeError\u001b[0m                                 Traceback (most recent call last)",
      "Input \u001b[1;32mIn [22]\u001b[0m, in \u001b[0;36m<cell line: 1>\u001b[1;34m()\u001b[0m\n\u001b[1;32m----> 1\u001b[0m \u001b[38;5;124;43m\"\u001b[39;49m\u001b[38;5;124;43mhi\u001b[39;49m\u001b[38;5;124;43m\"\u001b[39;49m\u001b[43m \u001b[49m\u001b[38;5;241;43m+\u001b[39;49m\u001b[43m \u001b[49m\u001b[38;5;241;43m6\u001b[39;49m\n",
      "\u001b[1;31mTypeError\u001b[0m: can only concatenate str (not \"int\") to str"
     ]
    }
   ],
   "source": [
    "\"hi\" + 6"
   ]
  },
  {
   "cell_type": "code",
   "execution_count": 23,
   "id": "c3edf839",
   "metadata": {},
   "outputs": [
    {
     "data": {
      "text/plain": [
       "'hihihi'"
      ]
     },
     "execution_count": 23,
     "metadata": {},
     "output_type": "execute_result"
    }
   ],
   "source": [
    "\"hi\" * 3"
   ]
  },
  {
   "cell_type": "code",
   "execution_count": 24,
   "id": "2456f1b9",
   "metadata": {},
   "outputs": [
    {
     "name": "stdout",
     "output_type": "stream",
     "text": [
      "Hello\n"
     ]
    }
   ],
   "source": [
    "def say(msg, time = 1):\n",
    "    print(msg * time)\n",
    "\n",
    "say(\"Hello\")"
   ]
  },
  {
   "cell_type": "code",
   "execution_count": 25,
   "id": "4b65a1da",
   "metadata": {},
   "outputs": [
    {
     "name": "stdout",
     "output_type": "stream",
     "text": [
      "ByeByeByeByeBye\n"
     ]
    }
   ],
   "source": [
    "say(\"Bye\", 5)"
   ]
  },
  {
   "cell_type": "code",
   "execution_count": 27,
   "id": "a6382071",
   "metadata": {},
   "outputs": [
    {
     "name": "stdout",
     "output_type": "stream",
     "text": [
      "Hello+++Indore\n"
     ]
    }
   ],
   "source": [
    "print(\"Hello\", end='+++')\n",
    "print(\"Indore\")"
   ]
  },
  {
   "cell_type": "code",
   "execution_count": 28,
   "id": "d7115a71",
   "metadata": {},
   "outputs": [],
   "source": [
    "def said(a, b = 5, c = 10):\n",
    "    print(a)\n",
    "    print(b)\n",
    "    print(c)"
   ]
  },
  {
   "cell_type": "code",
   "execution_count": 29,
   "id": "811ff6b8",
   "metadata": {},
   "outputs": [
    {
     "name": "stdout",
     "output_type": "stream",
     "text": [
      "3\n",
      "7\n",
      "10\n"
     ]
    }
   ],
   "source": [
    "said(3,7)"
   ]
  },
  {
   "cell_type": "code",
   "execution_count": 30,
   "id": "dbd412b0",
   "metadata": {},
   "outputs": [
    {
     "name": "stdout",
     "output_type": "stream",
     "text": [
      "25\n",
      "5\n",
      "24\n"
     ]
    }
   ],
   "source": [
    "said(25, c = 24)"
   ]
  },
  {
   "cell_type": "code",
   "execution_count": 31,
   "id": "c29189f6",
   "metadata": {},
   "outputs": [
    {
     "name": "stdout",
     "output_type": "stream",
     "text": [
      "15\n",
      "5\n",
      "100\n"
     ]
    }
   ],
   "source": [
    "said(c = 100, a = 15)"
   ]
  },
  {
   "cell_type": "code",
   "execution_count": 32,
   "id": "e9d0ccbd",
   "metadata": {},
   "outputs": [
    {
     "ename": "SyntaxError",
     "evalue": "positional argument follows keyword argument (2634499495.py, line 1)",
     "output_type": "error",
     "traceback": [
      "\u001b[1;36m  Input \u001b[1;32mIn [32]\u001b[1;36m\u001b[0m\n\u001b[1;33m    said(c = 19, 20, 30)\u001b[0m\n\u001b[1;37m                       ^\u001b[0m\n\u001b[1;31mSyntaxError\u001b[0m\u001b[1;31m:\u001b[0m positional argument follows keyword argument\n"
     ]
    }
   ],
   "source": [
    "said(c = 19, 20, 30)"
   ]
  },
  {
   "cell_type": "code",
   "execution_count": 33,
   "id": "25993e69",
   "metadata": {},
   "outputs": [
    {
     "name": "stdout",
     "output_type": "stream",
     "text": [
      "0\n"
     ]
    }
   ],
   "source": [
    "i = 0                # i is a global variable\n",
    "\n",
    "def change(i):       # i is a local variable\n",
    "    i += 1           # i = 2\n",
    "    return 1\n",
    "\n",
    "change(1)  # 1\n",
    "print(i)"
   ]
  },
  {
   "cell_type": "code",
   "execution_count": 34,
   "id": "30f844d2",
   "metadata": {},
   "outputs": [
    {
     "name": "stdout",
     "output_type": "stream",
     "text": [
      "8\n",
      "3\n"
     ]
    }
   ],
   "source": [
    "x = 3                # global\n",
    "\n",
    "def add(x):          # local\n",
    "    x += 1           # x = x + 1\n",
    "    print(x)\n",
    "\n",
    "add(7)\n",
    "print(x)"
   ]
  },
  {
   "cell_type": "code",
   "execution_count": 35,
   "id": "bdce8f2a",
   "metadata": {},
   "outputs": [
    {
     "name": "stdout",
     "output_type": "stream",
     "text": [
      "11\n"
     ]
    },
    {
     "ename": "NameError",
     "evalue": "name 'v' is not defined",
     "output_type": "error",
     "traceback": [
      "\u001b[1;31m---------------------------------------------------------------------------\u001b[0m",
      "\u001b[1;31mNameError\u001b[0m                                 Traceback (most recent call last)",
      "Input \u001b[1;32mIn [35]\u001b[0m, in \u001b[0;36m<cell line: 6>\u001b[1;34m()\u001b[0m\n\u001b[0;32m      3\u001b[0m     \u001b[38;5;28mprint\u001b[39m(v)\n\u001b[0;32m      5\u001b[0m add(\u001b[38;5;241m10\u001b[39m)\n\u001b[1;32m----> 6\u001b[0m \u001b[38;5;28mprint\u001b[39m(\u001b[43mv\u001b[49m)\n",
      "\u001b[1;31mNameError\u001b[0m: name 'v' is not defined"
     ]
    }
   ],
   "source": [
    "def add(v):\n",
    "    v += 1\n",
    "    print(v)\n",
    "\n",
    "add(10)\n",
    "print(v)"
   ]
  },
  {
   "cell_type": "markdown",
   "id": "7578af9e",
   "metadata": {},
   "source": [
    "# Reference Function"
   ]
  },
  {
   "cell_type": "code",
   "execution_count": 36,
   "id": "ead4ef51",
   "metadata": {},
   "outputs": [
    {
     "name": "stdout",
     "output_type": "stream",
     "text": [
      "10\n"
     ]
    }
   ],
   "source": [
    "a = 10\n",
    "\n",
    "b = a\n",
    "\n",
    "print(b)"
   ]
  },
  {
   "cell_type": "code",
   "execution_count": 37,
   "id": "06f37e14",
   "metadata": {},
   "outputs": [
    {
     "name": "stdout",
     "output_type": "stream",
     "text": [
      "10\n"
     ]
    }
   ],
   "source": [
    "print(a)"
   ]
  },
  {
   "cell_type": "code",
   "execution_count": 38,
   "id": "6b6bb7d6",
   "metadata": {},
   "outputs": [
    {
     "name": "stdout",
     "output_type": "stream",
     "text": [
      "<class 'function'>\n"
     ]
    }
   ],
   "source": [
    "print(type(add))"
   ]
  },
  {
   "cell_type": "code",
   "execution_count": 39,
   "id": "fe8316b6",
   "metadata": {},
   "outputs": [],
   "source": [
    "def multiply(x, y):\n",
    "    return x * y\n"
   ]
  },
  {
   "cell_type": "code",
   "execution_count": 40,
   "id": "08e7fd6a",
   "metadata": {},
   "outputs": [
    {
     "name": "stdout",
     "output_type": "stream",
     "text": [
      "200\n"
     ]
    }
   ],
   "source": [
    "indore = multiply\n",
    "\n",
    "print(indore(10,20))\n",
    "#     multiply(10,20)"
   ]
  },
  {
   "cell_type": "code",
   "execution_count": 41,
   "id": "1578b9d0",
   "metadata": {},
   "outputs": [
    {
     "name": "stdout",
     "output_type": "stream",
     "text": [
      "15\n"
     ]
    }
   ],
   "source": [
    "print(multiply(3,5))"
   ]
  },
  {
   "cell_type": "markdown",
   "id": "9c39298b",
   "metadata": {},
   "source": [
    "# functions and an argument"
   ]
  },
  {
   "cell_type": "code",
   "execution_count": 42,
   "id": "28047e15",
   "metadata": {},
   "outputs": [
    {
     "name": "stdout",
     "output_type": "stream",
     "text": [
      "30\n"
     ]
    }
   ],
   "source": [
    "def sub(x, y):\n",
    "    return x + y\n",
    "\n",
    "def do(red, x, y):       # red = sub, x = 5, y = 10\n",
    "    return red(red(x,y), red(x,y))\n",
    "#          sub(sub(5,10),sub(5,10))\n",
    "#          sub(   15    ,   15    )\n",
    "#                     30\n",
    "\n",
    "a = 5\n",
    "b = 10\n",
    "\n",
    "\n",
    "print(do(sub, a, b))\n",
    "#        30"
   ]
  },
  {
   "cell_type": "code",
   "execution_count": 43,
   "id": "82b1bbd9",
   "metadata": {},
   "outputs": [
    {
     "name": "stdout",
     "output_type": "stream",
     "text": [
      "81\n"
     ]
    }
   ],
   "source": [
    "def square(x):\n",
    "    return x * x\n",
    "\n",
    "def test(blue, x):\n",
    "    print(blue(x))\n",
    "\n",
    "test(square, 9)"
   ]
  },
  {
   "cell_type": "code",
   "execution_count": 44,
   "id": "f438ee68",
   "metadata": {},
   "outputs": [
    {
     "name": "stdout",
     "output_type": "stream",
     "text": [
      "3\n",
      "1\n"
     ]
    }
   ],
   "source": [
    "def green(red, a):\n",
    "    print(red(a))\n",
    "\n",
    "green(max, [1,2,3])\n",
    "green(min, [1,2,3])"
   ]
  },
  {
   "cell_type": "code",
   "execution_count": 45,
   "id": "51c59408",
   "metadata": {},
   "outputs": [
    {
     "name": "stdout",
     "output_type": "stream",
     "text": [
      "0\n"
     ]
    }
   ],
   "source": [
    "def printn(x):\n",
    "    for i in range(x):\n",
    "        print(i)\n",
    "        return\n",
    "\n",
    "printn(10)"
   ]
  },
  {
   "cell_type": "markdown",
   "id": "3e07954c",
   "metadata": {},
   "source": [
    "# doc string"
   ]
  },
  {
   "cell_type": "code",
   "execution_count": 46,
   "id": "b6cc4e7d",
   "metadata": {},
   "outputs": [
    {
     "name": "stdout",
     "output_type": "stream",
     "text": [
      "Help on built-in function max in module builtins:\n",
      "\n",
      "max(...)\n",
      "    max(iterable, *[, default=obj, key=func]) -> value\n",
      "    max(arg1, arg2, *args, *[, key=func]) -> value\n",
      "    \n",
      "    With a single iterable argument, return its biggest item. The\n",
      "    default keyword-only argument specifies an object to return if\n",
      "    the provided iterable is empty.\n",
      "    With two or more arguments, return the largest argument.\n",
      "\n"
     ]
    }
   ],
   "source": [
    "help(max)"
   ]
  },
  {
   "cell_type": "code",
   "execution_count": 48,
   "id": "6596e128",
   "metadata": {},
   "outputs": [
    {
     "name": "stdout",
     "output_type": "stream",
     "text": [
      "this \n",
      "is an\n",
      "apple.\n",
      "\n",
      "<class 'str'>\n"
     ]
    }
   ],
   "source": [
    "# this is a single line comment\n",
    "\n",
    "s = '''this \n",
    "is an\n",
    "apple.\n",
    "'''\n",
    "print(s)\n",
    "print(type(s))"
   ]
  },
  {
   "cell_type": "code",
   "execution_count": 50,
   "id": "53161af0",
   "metadata": {},
   "outputs": [],
   "source": [
    "def function_one():\n",
    "    '''\n",
    "    this function print 10,\n",
    "    also this funtion will print 5\n",
    "    '''\n",
    "    print(10)\n",
    "    print(5)"
   ]
  },
  {
   "cell_type": "code",
   "execution_count": 51,
   "id": "2156a9ff",
   "metadata": {},
   "outputs": [
    {
     "name": "stdout",
     "output_type": "stream",
     "text": [
      "10\n",
      "5\n"
     ]
    }
   ],
   "source": [
    "function_one()"
   ]
  },
  {
   "cell_type": "code",
   "execution_count": 52,
   "id": "ad1302c3",
   "metadata": {},
   "outputs": [
    {
     "name": "stdout",
     "output_type": "stream",
     "text": [
      "Help on function function_one in module __main__:\n",
      "\n",
      "function_one()\n",
      "    this function print 10,\n",
      "    also this funtion will print 5\n",
      "\n"
     ]
    }
   ],
   "source": [
    "help(function_one)"
   ]
  },
  {
   "cell_type": "code",
   "execution_count": 53,
   "id": "50e6b7cb",
   "metadata": {},
   "outputs": [
    {
     "name": "stdout",
     "output_type": "stream",
     "text": [
      "\n",
      "    this function print 10,\n",
      "    also this funtion will print 5\n",
      "    \n"
     ]
    }
   ],
   "source": [
    "print(function_one.__doc__)  # dunder"
   ]
  },
  {
   "cell_type": "markdown",
   "id": "a1973a4e",
   "metadata": {},
   "source": [
    "# Map Function"
   ]
  },
  {
   "cell_type": "code",
   "execution_count": 54,
   "id": "66ca8c7e",
   "metadata": {},
   "outputs": [
    {
     "name": "stdout",
     "output_type": "stream",
     "text": [
      "Help on class map in module builtins:\n",
      "\n",
      "class map(object)\n",
      " |  map(func, *iterables) --> map object\n",
      " |  \n",
      " |  Make an iterator that computes the function using arguments from\n",
      " |  each of the iterables.  Stops when the shortest iterable is exhausted.\n",
      " |  \n",
      " |  Methods defined here:\n",
      " |  \n",
      " |  __getattribute__(self, name, /)\n",
      " |      Return getattr(self, name).\n",
      " |  \n",
      " |  __iter__(self, /)\n",
      " |      Implement iter(self).\n",
      " |  \n",
      " |  __next__(self, /)\n",
      " |      Implement next(self).\n",
      " |  \n",
      " |  __reduce__(...)\n",
      " |      Return state information for pickling.\n",
      " |  \n",
      " |  ----------------------------------------------------------------------\n",
      " |  Static methods defined here:\n",
      " |  \n",
      " |  __new__(*args, **kwargs) from builtins.type\n",
      " |      Create and return a new object.  See help(type) for accurate signature.\n",
      "\n"
     ]
    }
   ],
   "source": [
    "help(map)"
   ]
  },
  {
   "cell_type": "code",
   "execution_count": 55,
   "id": "f473bded",
   "metadata": {},
   "outputs": [
    {
     "name": "stdout",
     "output_type": "stream",
     "text": [
      "[6, 7, 8, 9, 10]\n"
     ]
    }
   ],
   "source": [
    "def add(x):\n",
    "    return x + 5\n",
    "\n",
    "n = [1,2,3,4,5]\n",
    "\n",
    "r = list(map(add, n))\n",
    "#        6, 7, 8, 9, 10\n",
    "\n",
    "print(r)"
   ]
  },
  {
   "cell_type": "code",
   "execution_count": 56,
   "id": "aeb1a9de",
   "metadata": {},
   "outputs": [
    {
     "ename": "TypeError",
     "evalue": "'int' object is not iterable",
     "output_type": "error",
     "traceback": [
      "\u001b[1;31m---------------------------------------------------------------------------\u001b[0m",
      "\u001b[1;31mTypeError\u001b[0m                                 Traceback (most recent call last)",
      "Input \u001b[1;32mIn [56]\u001b[0m, in \u001b[0;36m<cell line: 6>\u001b[1;34m()\u001b[0m\n\u001b[0;32m      2\u001b[0m     \u001b[38;5;28;01mreturn\u001b[39;00m x \u001b[38;5;241m+\u001b[39m \u001b[38;5;241m5\u001b[39m\n\u001b[0;32m      4\u001b[0m n \u001b[38;5;241m=\u001b[39m \u001b[38;5;241m7\u001b[39m\n\u001b[1;32m----> 6\u001b[0m r \u001b[38;5;241m=\u001b[39m \u001b[38;5;28mlist\u001b[39m(\u001b[38;5;28;43mmap\u001b[39;49m\u001b[43m(\u001b[49m\u001b[43madd\u001b[49m\u001b[43m,\u001b[49m\u001b[43m \u001b[49m\u001b[43mn\u001b[49m\u001b[43m)\u001b[49m)\n\u001b[0;32m      8\u001b[0m \u001b[38;5;28mprint\u001b[39m(r)\n",
      "\u001b[1;31mTypeError\u001b[0m: 'int' object is not iterable"
     ]
    }
   ],
   "source": [
    "def add(x):\n",
    "    return x + 5\n",
    "\n",
    "n = 7\n",
    "\n",
    "r = list(map(add, n))\n",
    "\n",
    "print(r)"
   ]
  },
  {
   "cell_type": "markdown",
   "id": "cbaca289",
   "metadata": {},
   "source": [
    "# lambda function\n",
    "\n",
    "anonymous function"
   ]
  },
  {
   "cell_type": "code",
   "execution_count": 57,
   "id": "fef01377",
   "metadata": {},
   "outputs": [
    {
     "name": "stdout",
     "output_type": "stream",
     "text": [
      "343\n"
     ]
    }
   ],
   "source": [
    "def cube(y):\n",
    "    return y * y * y\n",
    "\n",
    "\n",
    "# lambda argument: expresion\n",
    "\n",
    "g = lambda x: x * x * x\n",
    "\n",
    "print(g(7))"
   ]
  },
  {
   "cell_type": "code",
   "execution_count": 59,
   "id": "477123f3",
   "metadata": {},
   "outputs": [
    {
     "name": "stdout",
     "output_type": "stream",
     "text": [
      "343\n"
     ]
    }
   ],
   "source": [
    "print(cube(7))"
   ]
  },
  {
   "cell_type": "markdown",
   "id": "5caf7279",
   "metadata": {},
   "source": [
    "# lambda with map function"
   ]
  },
  {
   "cell_type": "code",
   "execution_count": 60,
   "id": "00915aaf",
   "metadata": {},
   "outputs": [
    {
     "name": "stdout",
     "output_type": "stream",
     "text": [
      "[1, 4, 9, 16, 25]\n"
     ]
    }
   ],
   "source": [
    "n = [1,2,3,4,5]\n",
    "\n",
    "r = list(map(lambda y: y * y, n))\n",
    "#           1, 4, 9, 16, 25\n",
    "\n",
    "print(r)"
   ]
  },
  {
   "cell_type": "markdown",
   "id": "0bc6d570",
   "metadata": {},
   "source": [
    "# filter function"
   ]
  },
  {
   "cell_type": "code",
   "execution_count": 61,
   "id": "74819624",
   "metadata": {},
   "outputs": [
    {
     "name": "stdout",
     "output_type": "stream",
     "text": [
      "Help on class filter in module builtins:\n",
      "\n",
      "class filter(object)\n",
      " |  filter(function or None, iterable) --> filter object\n",
      " |  \n",
      " |  Return an iterator yielding those items of iterable for which function(item)\n",
      " |  is true. If function is None, return the items that are true.\n",
      " |  \n",
      " |  Methods defined here:\n",
      " |  \n",
      " |  __getattribute__(self, name, /)\n",
      " |      Return getattr(self, name).\n",
      " |  \n",
      " |  __iter__(self, /)\n",
      " |      Implement iter(self).\n",
      " |  \n",
      " |  __next__(self, /)\n",
      " |      Implement next(self).\n",
      " |  \n",
      " |  __reduce__(...)\n",
      " |      Return state information for pickling.\n",
      " |  \n",
      " |  ----------------------------------------------------------------------\n",
      " |  Static methods defined here:\n",
      " |  \n",
      " |  __new__(*args, **kwargs) from builtins.type\n",
      " |      Create and return a new object.  See help(type) for accurate signature.\n",
      "\n"
     ]
    }
   ],
   "source": [
    "help(filter)"
   ]
  },
  {
   "cell_type": "code",
   "execution_count": 62,
   "id": "166df9b8",
   "metadata": {},
   "outputs": [
    {
     "name": "stdout",
     "output_type": "stream",
     "text": [
      "[22, 44]\n"
     ]
    }
   ],
   "source": [
    "n = [11,22,33,44,55]\n",
    "\n",
    "r = list(filter(lambda x: x%2 == 0 , n))\n",
    "#         22, 44\n",
    "\n",
    "print(r)"
   ]
  },
  {
   "cell_type": "code",
   "execution_count": null,
   "id": "6bb659fc",
   "metadata": {},
   "outputs": [],
   "source": []
  }
 ],
 "metadata": {
  "kernelspec": {
   "display_name": "Python 3 (ipykernel)",
   "language": "python",
   "name": "python3"
  },
  "language_info": {
   "codemirror_mode": {
    "name": "ipython",
    "version": 3
   },
   "file_extension": ".py",
   "mimetype": "text/x-python",
   "name": "python",
   "nbconvert_exporter": "python",
   "pygments_lexer": "ipython3",
   "version": "3.9.12"
  }
 },
 "nbformat": 4,
 "nbformat_minor": 5
}
