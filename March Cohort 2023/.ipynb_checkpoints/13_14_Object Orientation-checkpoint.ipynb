{
 "cells": [
  {
   "cell_type": "code",
   "execution_count": 1,
   "id": "f956ae23",
   "metadata": {},
   "outputs": [
    {
     "name": "stdout",
     "output_type": "stream",
     "text": [
      "<class 'int'>\n"
     ]
    }
   ],
   "source": [
    "a = 10\n",
    "\n",
    "print(type(a))"
   ]
  },
  {
   "cell_type": "code",
   "execution_count": 14,
   "id": "a8e19eec",
   "metadata": {
    "scrolled": false
   },
   "outputs": [],
   "source": [
    "# help(int)"
   ]
  },
  {
   "cell_type": "code",
   "execution_count": null,
   "id": "02596f25",
   "metadata": {},
   "outputs": [],
   "source": [
    "int a = 10;   # 2 bytes - 16 bits\n",
    "\n",
    "struct car{\n",
    "    int cust_id;  # 2 bytes\n",
    "    char name[10];# 10 bytes\n",
    "    float price;  # 4 bytes\n",
    "}\n",
    "\n",
    "struct car c1;\n",
    "       int a;"
   ]
  },
  {
   "cell_type": "code",
   "execution_count": null,
   "id": "73d30a38",
   "metadata": {},
   "outputs": [],
   "source": [
    "bit>numbers>characters>instructions>function(program)>class>modules>package>library>framework>software"
   ]
  },
  {
   "cell_type": "markdown",
   "id": "8ae18de9",
   "metadata": {},
   "source": [
    "# Object Orientation\n",
    "\n",
    "7 properties of OOP\n",
    "\n",
    "1. Class\n",
    "        Updated version of structures (struct -- C programming)\n",
    "        collection of variables and methods\n",
    "        class is a blueprint.\n",
    "2. Object\n",
    "        Run time or real time entity.\n",
    "        hash code/virtual code - ID(python)\n",
    "        \n",
    "3. Abstraction and Encapsulation\n",
    "        Abstraction - showing only essential features without showing any background details.\n",
    "        Encapsulation - wrapping up of data in a single unit.\n",
    "        \n",
    "4. Inheritance\n",
    "        Acquiring properties of one class into another.\n",
    "        code reusability\n",
    "        - single level\n",
    "        - multi level\n",
    "        - heirarchical\n",
    "        - multiple\n",
    "        - hybride\n",
    "        \n",
    "5. Polymorphism\n",
    "        same name multiple functionalities\n",
    "        - method overloading\n",
    "        - method overriding\n",
    "        \n",
    "6. Dynamic Memory Allocation\n",
    "        run time memory allocation\n",
    "        \n",
    "7. Message Passing\n",
    "        Communication between objects"
   ]
  },
  {
   "cell_type": "code",
   "execution_count": 8,
   "id": "d69e271e",
   "metadata": {},
   "outputs": [
    {
     "name": "stdout",
     "output_type": "stream",
     "text": [
      "2207057668688\n"
     ]
    }
   ],
   "source": [
    "a = 10\n",
    "\n",
    "print(id(a))"
   ]
  },
  {
   "cell_type": "code",
   "execution_count": 10,
   "id": "cb5639c1",
   "metadata": {},
   "outputs": [
    {
     "name": "stdout",
     "output_type": "stream",
     "text": [
      "2207057669008\n",
      "2207057669328\n"
     ]
    }
   ],
   "source": [
    "b = 20\n",
    "\n",
    "c = a + b\n",
    "print(id(b))\n",
    "\n",
    "print(id(c))"
   ]
  },
  {
   "cell_type": "code",
   "execution_count": 11,
   "id": "921fed62",
   "metadata": {},
   "outputs": [
    {
     "ename": "TypeError",
     "evalue": "can only concatenate str (not \"int\") to str",
     "output_type": "error",
     "traceback": [
      "\u001b[1;31m---------------------------------------------------------------------------\u001b[0m",
      "\u001b[1;31mTypeError\u001b[0m                                 Traceback (most recent call last)",
      "Input \u001b[1;32mIn [11]\u001b[0m, in \u001b[0;36m<cell line: 1>\u001b[1;34m()\u001b[0m\n\u001b[1;32m----> 1\u001b[0m s \u001b[38;5;241m=\u001b[39m \u001b[38;5;124;43m\"\u001b[39;49m\u001b[38;5;124;43mA\u001b[39;49m\u001b[38;5;124;43m\"\u001b[39;49m\u001b[43m \u001b[49m\u001b[38;5;241;43m+\u001b[39;49m\u001b[43m \u001b[49m\u001b[38;5;241;43m10\u001b[39;49m\n",
      "\u001b[1;31mTypeError\u001b[0m: can only concatenate str (not \"int\") to str"
     ]
    }
   ],
   "source": [
    "s = \"A\" + 10"
   ]
  },
  {
   "cell_type": "code",
   "execution_count": 12,
   "id": "0f26ad3e",
   "metadata": {},
   "outputs": [
    {
     "name": "stdout",
     "output_type": "stream",
     "text": [
      "AAAA\n"
     ]
    }
   ],
   "source": [
    "s = \"A\" * 4\n",
    "\n",
    "print(s)"
   ]
  },
  {
   "cell_type": "code",
   "execution_count": 15,
   "id": "ba90ba2a",
   "metadata": {},
   "outputs": [
    {
     "name": "stdout",
     "output_type": "stream",
     "text": [
      "<class 'function'>\n"
     ]
    }
   ],
   "source": [
    "def hello():\n",
    "    return \"Hi\"\n",
    "\n",
    "print(type(hello))"
   ]
  },
  {
   "cell_type": "code",
   "execution_count": 16,
   "id": "41a3ec56",
   "metadata": {},
   "outputs": [
    {
     "name": "stdout",
     "output_type": "stream",
     "text": [
      "2207169212128\n"
     ]
    }
   ],
   "source": [
    "print(id(hello))"
   ]
  },
  {
   "cell_type": "code",
   "execution_count": null,
   "id": "06ce3374",
   "metadata": {},
   "outputs": [],
   "source": [
    "class win7:\n",
    "def start()\n",
    "\n",
    "def controlpanel():\n",
    "    \n",
    "\n",
    "add(x, y)\n",
    "\n",
    "add(a,b,c)\n",
    "\n",
    "class win10(win7):\n",
    "    \n",
    "    \n",
    "product_id = wid10()\n",
    "\n",
    "product_id.controlpanel()"
   ]
  },
  {
   "cell_type": "code",
   "execution_count": null,
   "id": "53b1fb7c",
   "metadata": {},
   "outputs": [],
   "source": [
    "add()"
   ]
  },
  {
   "cell_type": "code",
   "execution_count": 17,
   "id": "67f2a3da",
   "metadata": {},
   "outputs": [
    {
     "data": {
      "text/plain": [
       "30"
      ]
     },
     "execution_count": 17,
     "metadata": {},
     "output_type": "execute_result"
    }
   ],
   "source": [
    "10 + 20"
   ]
  },
  {
   "cell_type": "markdown",
   "id": "8420ca86",
   "metadata": {},
   "source": [
    "# Day 14 "
   ]
  },
  {
   "cell_type": "code",
   "execution_count": 1,
   "id": "33e8ee69",
   "metadata": {},
   "outputs": [],
   "source": [
    "class Cricket:\n",
    "    \n",
    "    def bat():\n",
    "        print(\"Hello from Bat\")\n",
    "\n"
   ]
  },
  {
   "cell_type": "code",
   "execution_count": 2,
   "id": "aee1a50c",
   "metadata": {},
   "outputs": [],
   "source": [
    "c = Cricket()"
   ]
  },
  {
   "cell_type": "code",
   "execution_count": 3,
   "id": "c2d4fa85",
   "metadata": {},
   "outputs": [
    {
     "ename": "TypeError",
     "evalue": "bat() takes 0 positional arguments but 1 was given",
     "output_type": "error",
     "traceback": [
      "\u001b[1;31m---------------------------------------------------------------------------\u001b[0m",
      "\u001b[1;31mTypeError\u001b[0m                                 Traceback (most recent call last)",
      "Input \u001b[1;32mIn [3]\u001b[0m, in \u001b[0;36m<cell line: 1>\u001b[1;34m()\u001b[0m\n\u001b[1;32m----> 1\u001b[0m \u001b[43mc\u001b[49m\u001b[38;5;241;43m.\u001b[39;49m\u001b[43mbat\u001b[49m\u001b[43m(\u001b[49m\u001b[43m)\u001b[49m\n",
      "\u001b[1;31mTypeError\u001b[0m: bat() takes 0 positional arguments but 1 was given"
     ]
    }
   ],
   "source": [
    "c.bat()"
   ]
  },
  {
   "cell_type": "code",
   "execution_count": null,
   "id": "cf30bd7f",
   "metadata": {},
   "outputs": [],
   "source": [
    "# self --> current object"
   ]
  },
  {
   "cell_type": "code",
   "execution_count": 4,
   "id": "e50eb7d9",
   "metadata": {},
   "outputs": [
    {
     "name": "stdout",
     "output_type": "stream",
     "text": [
      "Hello from Bat\n"
     ]
    }
   ],
   "source": [
    "class Cricket:\n",
    "    \n",
    "    def bat(self):     # self = c\n",
    "        print(\"Hello from Bat\")\n",
    "\n",
    "c = Cricket()\n",
    "\n",
    "c.bat()"
   ]
  },
  {
   "cell_type": "code",
   "execution_count": 5,
   "id": "623c69db",
   "metadata": {},
   "outputs": [
    {
     "name": "stdout",
     "output_type": "stream",
     "text": [
      "<__main__.Cricket object at 0x0000020F34DB4A00>\n"
     ]
    }
   ],
   "source": [
    "print(c)"
   ]
  },
  {
   "cell_type": "code",
   "execution_count": 6,
   "id": "242b62af",
   "metadata": {},
   "outputs": [
    {
     "name": "stdout",
     "output_type": "stream",
     "text": [
      "2264334551552\n"
     ]
    }
   ],
   "source": [
    "print(id(c))"
   ]
  },
  {
   "cell_type": "code",
   "execution_count": 7,
   "id": "515da4b9",
   "metadata": {},
   "outputs": [
    {
     "name": "stdout",
     "output_type": "stream",
     "text": [
      "<__main__.Cricket object at 0x0000020F36BD6A90>\n"
     ]
    }
   ],
   "source": [
    "print(Cricket())"
   ]
  },
  {
   "cell_type": "code",
   "execution_count": null,
   "id": "b06677ce",
   "metadata": {},
   "outputs": [],
   "source": [
    "TV blueprint  - Class\n",
    "- smart tv\n",
    "- colors\n",
    "- usb\n",
    "- hdmi\n",
    "\n",
    "Actual TV     - Object\n",
    "product_id\n",
    "\n",
    "\n",
    "remote        - reference"
   ]
  },
  {
   "cell_type": "code",
   "execution_count": 8,
   "id": "8d0184d8",
   "metadata": {},
   "outputs": [],
   "source": [
    "class Football:\n",
    "    \n",
    "    def goal(self, x):   # self = f, x = 4\n",
    "        self.a = x       # a is class variable, x is local variable\n",
    "        #  f.a = 4\n",
    "    \n",
    "    def display(self):\n",
    "        print(self.a)\n",
    "        #        f.a\n",
    "    \n",
    "f = Football()"
   ]
  },
  {
   "cell_type": "code",
   "execution_count": 9,
   "id": "1d10510d",
   "metadata": {},
   "outputs": [],
   "source": [
    "f.goal(4)"
   ]
  },
  {
   "cell_type": "code",
   "execution_count": 10,
   "id": "3ddef9fb",
   "metadata": {},
   "outputs": [
    {
     "name": "stdout",
     "output_type": "stream",
     "text": [
      "4\n"
     ]
    }
   ],
   "source": [
    "f.display()"
   ]
  },
  {
   "cell_type": "code",
   "execution_count": 11,
   "id": "6216ae9a",
   "metadata": {},
   "outputs": [
    {
     "name": "stdout",
     "output_type": "stream",
     "text": [
      "4\n"
     ]
    }
   ],
   "source": [
    "print(f.a)"
   ]
  },
  {
   "cell_type": "code",
   "execution_count": 12,
   "id": "63e17007",
   "metadata": {},
   "outputs": [
    {
     "ename": "AttributeError",
     "evalue": "'Football' object has no attribute 'x'",
     "output_type": "error",
     "traceback": [
      "\u001b[1;31m---------------------------------------------------------------------------\u001b[0m",
      "\u001b[1;31mAttributeError\u001b[0m                            Traceback (most recent call last)",
      "Input \u001b[1;32mIn [12]\u001b[0m, in \u001b[0;36m<cell line: 1>\u001b[1;34m()\u001b[0m\n\u001b[1;32m----> 1\u001b[0m \u001b[38;5;28mprint\u001b[39m(\u001b[43mf\u001b[49m\u001b[38;5;241;43m.\u001b[39;49m\u001b[43mx\u001b[49m)\n",
      "\u001b[1;31mAttributeError\u001b[0m: 'Football' object has no attribute 'x'"
     ]
    }
   ],
   "source": [
    "print(f.x)"
   ]
  },
  {
   "cell_type": "code",
   "execution_count": 13,
   "id": "a84e2e93",
   "metadata": {},
   "outputs": [
    {
     "name": "stdout",
     "output_type": "stream",
     "text": [
      "<class '__main__.Football'>\n"
     ]
    }
   ],
   "source": [
    "print(type(f))"
   ]
  },
  {
   "cell_type": "code",
   "execution_count": 14,
   "id": "0e68d116",
   "metadata": {},
   "outputs": [
    {
     "name": "stdout",
     "output_type": "stream",
     "text": [
      "2264334513824\n"
     ]
    }
   ],
   "source": [
    "print(id(f))"
   ]
  },
  {
   "cell_type": "code",
   "execution_count": 15,
   "id": "8145572b",
   "metadata": {},
   "outputs": [
    {
     "name": "stdout",
     "output_type": "stream",
     "text": [
      "10\n",
      "<class 'int'>\n",
      "2264248117840\n",
      "2264248117840\n"
     ]
    }
   ],
   "source": [
    "a = 10\n",
    "\n",
    "print(a)\n",
    "\n",
    "print(type(a))\n",
    "\n",
    "print(id(a))\n",
    "\n",
    "print(id(10))"
   ]
  },
  {
   "cell_type": "code",
   "execution_count": 17,
   "id": "04a1cb6b",
   "metadata": {},
   "outputs": [
    {
     "name": "stdout",
     "output_type": "stream",
     "text": [
      "<__main__.Test object at 0x0000020F36BD6C70>\n",
      "2264366148720\n",
      "<__main__.Test object at 0x0000020F36BD6C70>\n",
      "2264366148720\n",
      "Finish\n"
     ]
    }
   ],
   "source": [
    "class Test:\n",
    "    def add(self):\n",
    "        print(self)\n",
    "        print(id(self))\n",
    "        print(\"Finish\")\n",
    "    \n",
    "t = Test()\n",
    "print(t)\n",
    "print(id(t))\n",
    "t.add()"
   ]
  },
  {
   "cell_type": "code",
   "execution_count": 18,
   "id": "e76165f0",
   "metadata": {},
   "outputs": [
    {
     "name": "stdout",
     "output_type": "stream",
     "text": [
      "<__main__.Test object at 0x0000020F37274610>\n",
      "2264373085712\n",
      "<__main__.Test object at 0x0000020F37274610>\n",
      "2264373085712\n",
      "Finish\n"
     ]
    }
   ],
   "source": [
    "t2 = Test()\n",
    "print(t2)\n",
    "print(id(t2))\n",
    "t2.add()"
   ]
  },
  {
   "cell_type": "markdown",
   "id": "c78e8f64",
   "metadata": {},
   "source": [
    "# Constructor\n",
    "\n",
    "constructors are special member method of a class"
   ]
  },
  {
   "cell_type": "code",
   "execution_count": null,
   "id": "18cd2b35",
   "metadata": {},
   "outputs": [],
   "source": [
    "__init__() -> magic method or dunders"
   ]
  },
  {
   "cell_type": "code",
   "execution_count": 19,
   "id": "0e5bc082",
   "metadata": {},
   "outputs": [],
   "source": [
    "class Cat:\n",
    "    \n",
    "    def __init__(self):\n",
    "        print(\"Hello from constructor\")  # write code that is for initializing \n",
    "#         coins = 0\n",
    "#         score = 0\n",
    "        "
   ]
  },
  {
   "cell_type": "code",
   "execution_count": 20,
   "id": "90a7183d",
   "metadata": {},
   "outputs": [
    {
     "name": "stdout",
     "output_type": "stream",
     "text": [
      "Hello from constructor\n"
     ]
    }
   ],
   "source": [
    "f = Cat()"
   ]
  },
  {
   "cell_type": "code",
   "execution_count": 22,
   "id": "7c63050d",
   "metadata": {
    "scrolled": false
   },
   "outputs": [],
   "source": [
    "# help(str)"
   ]
  },
  {
   "cell_type": "markdown",
   "id": "a89195ce",
   "metadata": {},
   "source": [
    "### paramatrized constructor"
   ]
  },
  {
   "cell_type": "code",
   "execution_count": 23,
   "id": "870a85c9",
   "metadata": {},
   "outputs": [],
   "source": [
    "class Car:\n",
    "    def __init__(self, x):\n",
    "        self.y = x\n",
    "    "
   ]
  },
  {
   "cell_type": "code",
   "execution_count": 24,
   "id": "3575a84e",
   "metadata": {},
   "outputs": [],
   "source": [
    "f = Car(10)"
   ]
  },
  {
   "cell_type": "code",
   "execution_count": 25,
   "id": "862c1549",
   "metadata": {},
   "outputs": [
    {
     "name": "stdout",
     "output_type": "stream",
     "text": [
      "10\n"
     ]
    }
   ],
   "source": [
    "print(f.y)"
   ]
  },
  {
   "cell_type": "markdown",
   "id": "04a7f0d7",
   "metadata": {},
   "source": [
    "### Write a class that can calculate area of square, circle, rectangle."
   ]
  },
  {
   "cell_type": "code",
   "execution_count": 26,
   "id": "7995dcda",
   "metadata": {},
   "outputs": [],
   "source": [
    "class Area:\n",
    "    \n",
    "    def square(self, x):\n",
    "        return x*x\n",
    "    \n",
    "    def circle(self, r):\n",
    "        return 3.14 * r * r\n",
    "    \n",
    "    def rectangle(self, l, b):\n",
    "        return l * b\n",
    "    \n"
   ]
  },
  {
   "cell_type": "code",
   "execution_count": 27,
   "id": "c19e6fac",
   "metadata": {},
   "outputs": [
    {
     "data": {
      "text/plain": [
       "16"
      ]
     },
     "execution_count": 27,
     "metadata": {},
     "output_type": "execute_result"
    }
   ],
   "source": [
    "ar = Area()\n",
    "\n",
    "ar.square(4)"
   ]
  },
  {
   "cell_type": "markdown",
   "id": "6528d7d2",
   "metadata": {},
   "source": [
    "### Write a program to create a class to reverse a string word by word."
   ]
  },
  {
   "cell_type": "code",
   "execution_count": null,
   "id": "87016fca",
   "metadata": {},
   "outputs": [],
   "source": [
    "\"this is an apple\"\n",
    "\n",
    "\"apple an is this\""
   ]
  },
  {
   "cell_type": "markdown",
   "id": "70e87437",
   "metadata": {},
   "source": [
    "# Inheritance\n",
    "\n",
    "\n",
    "### single level"
   ]
  },
  {
   "cell_type": "code",
   "execution_count": null,
   "id": "4213330d",
   "metadata": {},
   "outputs": [],
   "source": [
    "A     windows 7\n",
    "|         |\n",
    "B     windows 10"
   ]
  },
  {
   "cell_type": "code",
   "execution_count": 28,
   "id": "3cbdb564",
   "metadata": {},
   "outputs": [
    {
     "name": "stdout",
     "output_type": "stream",
     "text": [
      "This is add from class A\n",
      "This is add from class A\n"
     ]
    }
   ],
   "source": [
    "class A:\n",
    "    def add(self):\n",
    "        print(\"This is add from class A\")\n",
    "    \n",
    "\n",
    "class B(A):\n",
    "    def sub(self):\n",
    "        print(\"Sub from class B\")\n",
    "    \n",
    "x = A()\n",
    "y = B()\n",
    "\n",
    "x.add()\n",
    "y.add()"
   ]
  },
  {
   "cell_type": "code",
   "execution_count": 29,
   "id": "694d0edf",
   "metadata": {},
   "outputs": [
    {
     "ename": "AttributeError",
     "evalue": "'A' object has no attribute 'sub'",
     "output_type": "error",
     "traceback": [
      "\u001b[1;31m---------------------------------------------------------------------------\u001b[0m",
      "\u001b[1;31mAttributeError\u001b[0m                            Traceback (most recent call last)",
      "Input \u001b[1;32mIn [29]\u001b[0m, in \u001b[0;36m<cell line: 1>\u001b[1;34m()\u001b[0m\n\u001b[1;32m----> 1\u001b[0m \u001b[43mx\u001b[49m\u001b[38;5;241;43m.\u001b[39;49m\u001b[43msub\u001b[49m()\n",
      "\u001b[1;31mAttributeError\u001b[0m: 'A' object has no attribute 'sub'"
     ]
    }
   ],
   "source": [
    "x.sub()"
   ]
  },
  {
   "cell_type": "code",
   "execution_count": 30,
   "id": "da9ee247",
   "metadata": {},
   "outputs": [
    {
     "name": "stdout",
     "output_type": "stream",
     "text": [
      "Sub from class B\n"
     ]
    }
   ],
   "source": [
    "y.sub()"
   ]
  },
  {
   "cell_type": "markdown",
   "id": "61a935df",
   "metadata": {},
   "source": [
    "### multi level"
   ]
  },
  {
   "cell_type": "code",
   "execution_count": null,
   "id": "a163bf53",
   "metadata": {},
   "outputs": [],
   "source": [
    "A\n",
    "|\n",
    "B\n",
    "|\n",
    "C"
   ]
  },
  {
   "cell_type": "code",
   "execution_count": 31,
   "id": "b4a8158e",
   "metadata": {},
   "outputs": [
    {
     "name": "stdout",
     "output_type": "stream",
     "text": [
      "show from class C\n",
      "Sub from class B\n",
      "This is add from class A\n"
     ]
    }
   ],
   "source": [
    "class A:\n",
    "    def add(self):\n",
    "        print(\"This is add from class A\")\n",
    "    \n",
    "class B(A):\n",
    "    def sub(self):\n",
    "        print(\"Sub from class B\")\n",
    "    \n",
    "class C(B):\n",
    "    def show(self):\n",
    "        print(\"show from class C\")\n",
    "        \n",
    "z = C()\n",
    "z.show()\n",
    "z.sub()\n",
    "z.add()"
   ]
  },
  {
   "cell_type": "markdown",
   "id": "6d610afa",
   "metadata": {},
   "source": [
    "### hierarchical"
   ]
  },
  {
   "cell_type": "code",
   "execution_count": null,
   "id": "56edc720",
   "metadata": {},
   "outputs": [],
   "source": [
    "    A\n",
    "B       C"
   ]
  },
  {
   "cell_type": "code",
   "execution_count": 32,
   "id": "94cdc6e5",
   "metadata": {},
   "outputs": [
    {
     "name": "stdout",
     "output_type": "stream",
     "text": [
      "show from class C\n"
     ]
    },
    {
     "ename": "AttributeError",
     "evalue": "'C' object has no attribute 'sub'",
     "output_type": "error",
     "traceback": [
      "\u001b[1;31m---------------------------------------------------------------------------\u001b[0m",
      "\u001b[1;31mAttributeError\u001b[0m                            Traceback (most recent call last)",
      "Input \u001b[1;32mIn [32]\u001b[0m, in \u001b[0;36m<cell line: 15>\u001b[1;34m()\u001b[0m\n\u001b[0;32m     13\u001b[0m z \u001b[38;5;241m=\u001b[39m C()\n\u001b[0;32m     14\u001b[0m z\u001b[38;5;241m.\u001b[39mshow()\n\u001b[1;32m---> 15\u001b[0m \u001b[43mz\u001b[49m\u001b[38;5;241;43m.\u001b[39;49m\u001b[43msub\u001b[49m()\n\u001b[0;32m     16\u001b[0m z\u001b[38;5;241m.\u001b[39madd()\n",
      "\u001b[1;31mAttributeError\u001b[0m: 'C' object has no attribute 'sub'"
     ]
    }
   ],
   "source": [
    "class A:\n",
    "    def add(self):\n",
    "        print(\"This is add from class A\")\n",
    "    \n",
    "class B(A):\n",
    "    def sub(self):\n",
    "        print(\"Sub from class B\")\n",
    "    \n",
    "class C(A):\n",
    "    def show(self):\n",
    "        print(\"show from class C\")\n",
    "        \n",
    "z = C()\n",
    "z.show()\n",
    "z.sub()\n",
    "z.add()"
   ]
  },
  {
   "cell_type": "markdown",
   "id": "afa65f2f",
   "metadata": {},
   "source": [
    "### multiple\n",
    "\n",
    "C3 algorithm to solve ambiguty error\n",
    "\n",
    "MRO - Method Resolution Order"
   ]
  },
  {
   "cell_type": "code",
   "execution_count": null,
   "id": "520d2d17",
   "metadata": {},
   "outputs": [],
   "source": [
    "A       B\n",
    "    C"
   ]
  },
  {
   "cell_type": "code",
   "execution_count": 33,
   "id": "41a10af7",
   "metadata": {},
   "outputs": [
    {
     "name": "stdout",
     "output_type": "stream",
     "text": [
      "Add from class A\n"
     ]
    }
   ],
   "source": [
    "class A:\n",
    "    def add(self):\n",
    "        print(\"Add from class A\")\n",
    "    \n",
    "class B:\n",
    "    def add(self):\n",
    "        print(\"Add from class B\")\n",
    "    \n",
    "class C(A,B):\n",
    "    def show(self):\n",
    "        print(\"show from class C\")\n",
    "        \n",
    "z = C()\n",
    "z.add()"
   ]
  },
  {
   "cell_type": "code",
   "execution_count": 34,
   "id": "101bcde3",
   "metadata": {},
   "outputs": [
    {
     "name": "stdout",
     "output_type": "stream",
     "text": [
      "(<class '__main__.C'>, <class '__main__.A'>, <class '__main__.B'>, <class 'object'>)\n"
     ]
    }
   ],
   "source": [
    "print(C.__mro__)"
   ]
  },
  {
   "cell_type": "code",
   "execution_count": 36,
   "id": "e31f4dfc",
   "metadata": {},
   "outputs": [
    {
     "name": "stdout",
     "output_type": "stream",
     "text": [
      "Add from class B\n",
      "(<class '__main__.C'>, <class '__main__.B'>, <class '__main__.A'>, <class 'object'>)\n"
     ]
    }
   ],
   "source": [
    "class A:\n",
    "    def add(self):\n",
    "        print(\"Add from class A\")\n",
    "    \n",
    "class B:\n",
    "    def add(self):\n",
    "        print(\"Add from class B\")\n",
    "    \n",
    "class C(B,A):\n",
    "    def show(self):\n",
    "        print(\"show from class C\")\n",
    "        \n",
    "z = C()\n",
    "z.add()\n",
    "print(C.__mro__)"
   ]
  },
  {
   "cell_type": "markdown",
   "id": "9361ebca",
   "metadata": {},
   "source": [
    "### Hybrid"
   ]
  },
  {
   "cell_type": "code",
   "execution_count": null,
   "id": "e1434f79",
   "metadata": {},
   "outputs": [],
   "source": [
    "    A\n",
    "B       C\n",
    "    D"
   ]
  }
 ],
 "metadata": {
  "kernelspec": {
   "display_name": "Python 3 (ipykernel)",
   "language": "python",
   "name": "python3"
  },
  "language_info": {
   "codemirror_mode": {
    "name": "ipython",
    "version": 3
   },
   "file_extension": ".py",
   "mimetype": "text/x-python",
   "name": "python",
   "nbconvert_exporter": "python",
   "pygments_lexer": "ipython3",
   "version": "3.9.12"
  }
 },
 "nbformat": 4,
 "nbformat_minor": 5
}
