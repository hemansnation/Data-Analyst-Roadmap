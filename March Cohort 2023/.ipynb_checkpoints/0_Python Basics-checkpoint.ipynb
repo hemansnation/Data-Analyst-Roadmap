{
 "cells": [
  {
   "cell_type": "markdown",
   "id": "1dd9932f",
   "metadata": {},
   "source": [
    "# Python Basics\n",
    "\n",
    "we are working on print function in python"
   ]
  },
  {
   "cell_type": "code",
   "execution_count": 1,
   "id": "3ca45a0a",
   "metadata": {},
   "outputs": [
    {
     "name": "stdout",
     "output_type": "stream",
     "text": [
      "Hello World\n"
     ]
    }
   ],
   "source": [
    "print(\"Hello World\")"
   ]
  },
  {
   "cell_type": "code",
   "execution_count": 2,
   "id": "e2a86f94",
   "metadata": {},
   "outputs": [
    {
     "name": "stdout",
     "output_type": "stream",
     "text": [
      "Hello\n",
      "World\n"
     ]
    }
   ],
   "source": [
    "print(\"Hello\")\n",
    "print(\"World\")"
   ]
  },
  {
   "cell_type": "code",
   "execution_count": 3,
   "id": "07db254e",
   "metadata": {},
   "outputs": [
    {
     "name": "stdout",
     "output_type": "stream",
     "text": [
      "Hello\n",
      "World\n"
     ]
    }
   ],
   "source": [
    "print(\"Hello\\nWorld\")  # \\n -> new line character"
   ]
  },
  {
   "cell_type": "code",
   "execution_count": 4,
   "id": "46c947b9",
   "metadata": {},
   "outputs": [
    {
     "name": "stdout",
     "output_type": "stream",
     "text": [
      "Hello\tWorld\n"
     ]
    }
   ],
   "source": [
    "print(\"Hello\\tWorld\")  # \\t -> horizontal tab"
   ]
  },
  {
   "cell_type": "code",
   "execution_count": 5,
   "id": "fd07c92b",
   "metadata": {},
   "outputs": [],
   "source": [
    "# 8 spaces - \\t"
   ]
  },
  {
   "cell_type": "code",
   "execution_count": null,
   "id": "960ceae0",
   "metadata": {},
   "outputs": [],
   "source": [
    "# binary language -> 1010110\n",
    "\n",
    "0  ->  low voltage, no-charge\n",
    "\n",
    "1  ->  high voltage, charge\n"
   ]
  },
  {
   "cell_type": "code",
   "execution_count": null,
   "id": "10a75868",
   "metadata": {},
   "outputs": [],
   "source": [
    "bits > numbers >  character > instructions > program > software"
   ]
  },
  {
   "cell_type": "code",
   "execution_count": null,
   "id": "459a661b",
   "metadata": {},
   "outputs": [],
   "source": [
    "compiler\n",
    "\n",
    "interpreter -> python"
   ]
  },
  {
   "cell_type": "code",
   "execution_count": null,
   "id": "991396e2",
   "metadata": {},
   "outputs": [],
   "source": [
    "source code  ------->  Byte code  ----->   Output\n",
    "    .c      compile      .bak      Run       .exe\n",
    "    .cpp                 .obj\n",
    "    .java                .javac\n",
    "    .py                  .pyc"
   ]
  },
  {
   "cell_type": "markdown",
   "id": "9de76aa4",
   "metadata": {},
   "source": [
    "# Variables"
   ]
  },
  {
   "cell_type": "code",
   "execution_count": 6,
   "id": "ca83f18c",
   "metadata": {},
   "outputs": [
    {
     "name": "stdout",
     "output_type": "stream",
     "text": [
      "10\n"
     ]
    }
   ],
   "source": [
    "a = 10\n",
    "\n",
    "print(a)"
   ]
  },
  {
   "cell_type": "code",
   "execution_count": 7,
   "id": "3a7bac6d",
   "metadata": {},
   "outputs": [
    {
     "name": "stdout",
     "output_type": "stream",
     "text": [
      "45.13\n"
     ]
    }
   ],
   "source": [
    "b = 45.13\n",
    "\n",
    "print(b)"
   ]
  },
  {
   "cell_type": "code",
   "execution_count": 8,
   "id": "124cb33b",
   "metadata": {},
   "outputs": [
    {
     "name": "stdout",
     "output_type": "stream",
     "text": [
      "India\n"
     ]
    }
   ],
   "source": [
    "a = \"India\"\n",
    "\n",
    "print(a)"
   ]
  },
  {
   "cell_type": "markdown",
   "id": "406d111f",
   "metadata": {},
   "source": [
    "# Data type"
   ]
  },
  {
   "cell_type": "code",
   "execution_count": 9,
   "id": "707a85a0",
   "metadata": {},
   "outputs": [
    {
     "name": "stdout",
     "output_type": "stream",
     "text": [
      "10\n",
      "<class 'int'>\n"
     ]
    }
   ],
   "source": [
    "a = 10\n",
    "\n",
    "print(a)\n",
    "\n",
    "print(type(a))"
   ]
  },
  {
   "cell_type": "code",
   "execution_count": 10,
   "id": "bc9295ca",
   "metadata": {},
   "outputs": [
    {
     "name": "stdout",
     "output_type": "stream",
     "text": [
      "10.65\n",
      "<class 'float'>\n"
     ]
    }
   ],
   "source": [
    "b = 10.65\n",
    "\n",
    "print(b)\n",
    "\n",
    "print(type(b))"
   ]
  },
  {
   "cell_type": "code",
   "execution_count": 11,
   "id": "5632508a",
   "metadata": {},
   "outputs": [
    {
     "name": "stdout",
     "output_type": "stream",
     "text": [
      "Screen\n",
      "<class 'str'>\n"
     ]
    }
   ],
   "source": [
    "c = \"Screen\"\n",
    "\n",
    "print(c)\n",
    "\n",
    "print(type(c))"
   ]
  },
  {
   "cell_type": "code",
   "execution_count": 12,
   "id": "644ec54c",
   "metadata": {},
   "outputs": [
    {
     "name": "stdout",
     "output_type": "stream",
     "text": [
      "meet\n",
      "<class 'str'>\n"
     ]
    }
   ],
   "source": [
    "d = 'meet'\n",
    "\n",
    "print(d)\n",
    "\n",
    "print(type(d))"
   ]
  },
  {
   "cell_type": "code",
   "execution_count": 13,
   "id": "43f33389",
   "metadata": {},
   "outputs": [
    {
     "name": "stdout",
     "output_type": "stream",
     "text": [
      "it's an apple\n"
     ]
    }
   ],
   "source": [
    "x = \"it's an apple\"\n",
    "\n",
    "print(x)"
   ]
  },
  {
   "cell_type": "markdown",
   "id": "e04549b7",
   "metadata": {},
   "source": [
    "# Type Conversion"
   ]
  },
  {
   "cell_type": "code",
   "execution_count": 14,
   "id": "321b1438",
   "metadata": {},
   "outputs": [
    {
     "name": "stdout",
     "output_type": "stream",
     "text": [
      "10.56\n",
      "<class 'float'>\n",
      "10\n",
      "<class 'int'>\n"
     ]
    }
   ],
   "source": [
    "a = 10.56\n",
    "\n",
    "print(a)\n",
    "\n",
    "print(type(a))\n",
    "\n",
    "b = int(a)\n",
    "\n",
    "print(b)\n",
    "\n",
    "print(type(b))"
   ]
  },
  {
   "cell_type": "code",
   "execution_count": 15,
   "id": "873230fd",
   "metadata": {},
   "outputs": [
    {
     "name": "stdout",
     "output_type": "stream",
     "text": [
      "100\n",
      "<class 'str'>\n",
      "100.0\n",
      "<class 'float'>\n"
     ]
    }
   ],
   "source": [
    "a = \"100\"\n",
    "\n",
    "print(a)\n",
    "\n",
    "print(type(a))\n",
    "\n",
    "b = float(a)\n",
    "\n",
    "print(b)\n",
    "\n",
    "print(type(b))"
   ]
  },
  {
   "cell_type": "code",
   "execution_count": null,
   "id": "83db42ca",
   "metadata": {},
   "outputs": [],
   "source": [
    "int()\n",
    "float()\n",
    "str()\n",
    "bool()\n",
    "list()\n",
    "dict()\n",
    "tuple()\n",
    "set()"
   ]
  },
  {
   "cell_type": "markdown",
   "id": "a54b3b8f",
   "metadata": {},
   "source": [
    "# Input function"
   ]
  },
  {
   "cell_type": "code",
   "execution_count": 16,
   "id": "127dd9ee",
   "metadata": {},
   "outputs": [
    {
     "name": "stdout",
     "output_type": "stream",
     "text": [
      "10\n",
      "10\n"
     ]
    }
   ],
   "source": [
    "a = input()\n",
    "\n",
    "print(a)"
   ]
  },
  {
   "cell_type": "code",
   "execution_count": 17,
   "id": "6c872d87",
   "metadata": {},
   "outputs": [
    {
     "name": "stdout",
     "output_type": "stream",
     "text": [
      "Enter Your Name: Himanshu\n",
      "Himanshu\n"
     ]
    }
   ],
   "source": [
    "a = input(\"Enter Your Name: \")\n",
    "\n",
    "print(a)"
   ]
  },
  {
   "cell_type": "code",
   "execution_count": 18,
   "id": "f332e9d1",
   "metadata": {},
   "outputs": [
    {
     "name": "stdout",
     "output_type": "stream",
     "text": [
      "Enter Your Name: Himanshu\n",
      "Hello! How are you? Himanshu\n"
     ]
    }
   ],
   "source": [
    "a = input(\"Enter Your Name: \")\n",
    "\n",
    "print(\"Hello! How are you?\", a)"
   ]
  },
  {
   "cell_type": "code",
   "execution_count": null,
   "id": "076ba3aa",
   "metadata": {},
   "outputs": [],
   "source": []
  }
 ],
 "metadata": {
  "kernelspec": {
   "display_name": "Python 3 (ipykernel)",
   "language": "python",
   "name": "python3"
  },
  "language_info": {
   "codemirror_mode": {
    "name": "ipython",
    "version": 3
   },
   "file_extension": ".py",
   "mimetype": "text/x-python",
   "name": "python",
   "nbconvert_exporter": "python",
   "pygments_lexer": "ipython3",
   "version": "3.9.12"
  }
 },
 "nbformat": 4,
 "nbformat_minor": 5
}
