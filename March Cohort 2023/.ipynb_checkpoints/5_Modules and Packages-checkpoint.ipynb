{
 "cells": [
  {
   "cell_type": "markdown",
   "id": "507b0a7e",
   "metadata": {},
   "source": [
    "# OS\n",
    "\n",
    "operating system"
   ]
  },
  {
   "cell_type": "code",
   "execution_count": null,
   "id": "b4a5e0c7",
   "metadata": {},
   "outputs": [],
   "source": [
    "# hello.py\n",
    "# something.exe\n",
    "# .pdf .jpg  .png\n",
    "\n",
    "# os.py"
   ]
  },
  {
   "cell_type": "code",
   "execution_count": 7,
   "id": "c43e9e98",
   "metadata": {},
   "outputs": [],
   "source": [
    "import os"
   ]
  },
  {
   "cell_type": "code",
   "execution_count": 3,
   "id": "083fa6d1",
   "metadata": {
    "scrolled": false
   },
   "outputs": [],
   "source": [
    "# help(os)"
   ]
  },
  {
   "cell_type": "code",
   "execution_count": 8,
   "id": "3533b409",
   "metadata": {},
   "outputs": [],
   "source": [
    "# make directory\n",
    "\n",
    "os.mkdir('prime')"
   ]
  },
  {
   "cell_type": "code",
   "execution_count": 5,
   "id": "c73636df",
   "metadata": {},
   "outputs": [
    {
     "data": {
      "text/plain": [
       "'C:\\\\Users\\\\himan\\\\Documents\\\\Himanshu Ramchandani Live\\\\Data-Analyst-Roadmap'"
      ]
     },
     "execution_count": 5,
     "metadata": {},
     "output_type": "execute_result"
    }
   ],
   "source": [
    "# get current working directory\n",
    "\n",
    "os.getcwd()"
   ]
  },
  {
   "cell_type": "code",
   "execution_count": 9,
   "id": "8a5e48f9",
   "metadata": {},
   "outputs": [],
   "source": [
    "os.rmdir('prime')"
   ]
  },
  {
   "cell_type": "markdown",
   "id": "deb43505",
   "metadata": {},
   "source": [
    "# sys"
   ]
  },
  {
   "cell_type": "code",
   "execution_count": 13,
   "id": "fc53dc5b",
   "metadata": {},
   "outputs": [
    {
     "name": "stdout",
     "output_type": "stream",
     "text": [
      "3\n"
     ]
    }
   ],
   "source": [
    "import sys\n",
    "\n",
    "a = 5000\n",
    "\n",
    "print(sys.getrefcount(a))  # reference count of the object"
   ]
  },
  {
   "cell_type": "code",
   "execution_count": 16,
   "id": "4973d1d1",
   "metadata": {},
   "outputs": [
    {
     "name": "stdout",
     "output_type": "stream",
     "text": [
      "432\n",
      "431\n"
     ]
    }
   ],
   "source": [
    "a = 10\n",
    "\n",
    "b = a\n",
    "\n",
    "print(sys.getrefcount(a))\n",
    "\n",
    "del a\n",
    "\n",
    "print(sys.getrefcount(b))"
   ]
  },
  {
   "cell_type": "code",
   "execution_count": 17,
   "id": "d26bf1fa",
   "metadata": {},
   "outputs": [
    {
     "data": {
      "text/plain": [
       "9223372036854775807"
      ]
     },
     "execution_count": 17,
     "metadata": {},
     "output_type": "execute_result"
    }
   ],
   "source": [
    "sys.maxsize"
   ]
  },
  {
   "cell_type": "code",
   "execution_count": 18,
   "id": "1a9e67d3",
   "metadata": {},
   "outputs": [
    {
     "data": {
      "text/plain": [
       "['C:\\\\Users\\\\himan\\\\Documents\\\\Himanshu Ramchandani Live\\\\Data-Analyst-Roadmap',\n",
       " 'C:\\\\Users\\\\himan\\\\anaconda3\\\\python39.zip',\n",
       " 'C:\\\\Users\\\\himan\\\\anaconda3\\\\DLLs',\n",
       " 'C:\\\\Users\\\\himan\\\\anaconda3\\\\lib',\n",
       " 'C:\\\\Users\\\\himan\\\\anaconda3',\n",
       " '',\n",
       " 'C:\\\\Users\\\\himan\\\\anaconda3\\\\lib\\\\site-packages',\n",
       " 'C:\\\\Users\\\\himan\\\\anaconda3\\\\lib\\\\site-packages\\\\win32',\n",
       " 'C:\\\\Users\\\\himan\\\\anaconda3\\\\lib\\\\site-packages\\\\win32\\\\lib',\n",
       " 'C:\\\\Users\\\\himan\\\\anaconda3\\\\lib\\\\site-packages\\\\Pythonwin']"
      ]
     },
     "execution_count": 18,
     "metadata": {},
     "output_type": "execute_result"
    }
   ],
   "source": [
    "sys.path"
   ]
  },
  {
   "cell_type": "code",
   "execution_count": 19,
   "id": "e3a7ec79",
   "metadata": {},
   "outputs": [
    {
     "data": {
      "text/plain": [
       "'3.9.12 (main, Apr  4 2022, 05:22:27) [MSC v.1916 64 bit (AMD64)]'"
      ]
     },
     "execution_count": 19,
     "metadata": {},
     "output_type": "execute_result"
    }
   ],
   "source": [
    "sys.version"
   ]
  },
  {
   "cell_type": "markdown",
   "id": "b9d075a2",
   "metadata": {},
   "source": [
    "# statistics"
   ]
  },
  {
   "cell_type": "code",
   "execution_count": 21,
   "id": "7cab6f36",
   "metadata": {},
   "outputs": [],
   "source": [
    "# import statistics\n",
    "\n",
    "from statistics import *"
   ]
  },
  {
   "cell_type": "code",
   "execution_count": 22,
   "id": "1b06511a",
   "metadata": {},
   "outputs": [
    {
     "name": "stdout",
     "output_type": "stream",
     "text": [
      "35.666666666666664\n"
     ]
    }
   ],
   "source": [
    "ages = [20,10,40,33,45,66]\n",
    "\n",
    "print(mean(ages))"
   ]
  },
  {
   "cell_type": "code",
   "execution_count": 23,
   "id": "88b2b6d7",
   "metadata": {},
   "outputs": [
    {
     "name": "stdout",
     "output_type": "stream",
     "text": [
      "36.5\n"
     ]
    }
   ],
   "source": [
    "print(median(ages))"
   ]
  },
  {
   "cell_type": "code",
   "execution_count": 24,
   "id": "ea23370e",
   "metadata": {},
   "outputs": [
    {
     "name": "stdout",
     "output_type": "stream",
     "text": [
      "20\n"
     ]
    }
   ],
   "source": [
    "print(mode(ages))"
   ]
  },
  {
   "cell_type": "code",
   "execution_count": 25,
   "id": "63d2eb9d",
   "metadata": {},
   "outputs": [
    {
     "name": "stdout",
     "output_type": "stream",
     "text": [
      "19.684172999307506\n"
     ]
    }
   ],
   "source": [
    "print(stdev(ages))"
   ]
  },
  {
   "cell_type": "markdown",
   "id": "8aed4e64",
   "metadata": {},
   "source": [
    "# math"
   ]
  },
  {
   "cell_type": "code",
   "execution_count": 26,
   "id": "bd9eaf48",
   "metadata": {},
   "outputs": [],
   "source": [
    "import math"
   ]
  },
  {
   "cell_type": "code",
   "execution_count": 27,
   "id": "4cc7951a",
   "metadata": {},
   "outputs": [
    {
     "name": "stdout",
     "output_type": "stream",
     "text": [
      "3.141592653589793\n"
     ]
    }
   ],
   "source": [
    "print(math.pi)"
   ]
  },
  {
   "cell_type": "code",
   "execution_count": 28,
   "id": "d11c039f",
   "metadata": {},
   "outputs": [
    {
     "name": "stdout",
     "output_type": "stream",
     "text": [
      "2.0\n"
     ]
    }
   ],
   "source": [
    "print(math.sqrt(4))"
   ]
  },
  {
   "cell_type": "code",
   "execution_count": 29,
   "id": "d06915ac",
   "metadata": {},
   "outputs": [
    {
     "name": "stdout",
     "output_type": "stream",
     "text": [
      "8.0\n"
     ]
    }
   ],
   "source": [
    "print(math.pow(2,3))"
   ]
  },
  {
   "cell_type": "code",
   "execution_count": 30,
   "id": "1851237f",
   "metadata": {},
   "outputs": [
    {
     "name": "stdout",
     "output_type": "stream",
     "text": [
      "3\n"
     ]
    }
   ],
   "source": [
    "print(math.floor(3.4))"
   ]
  },
  {
   "cell_type": "code",
   "execution_count": 31,
   "id": "066f7ea3",
   "metadata": {},
   "outputs": [
    {
     "name": "stdout",
     "output_type": "stream",
     "text": [
      "5\n"
     ]
    }
   ],
   "source": [
    "print(math.floor(5.9))"
   ]
  },
  {
   "cell_type": "code",
   "execution_count": 32,
   "id": "ee095949",
   "metadata": {},
   "outputs": [
    {
     "name": "stdout",
     "output_type": "stream",
     "text": [
      "6\n"
     ]
    }
   ],
   "source": [
    "print(math.ceil(5.9))"
   ]
  },
  {
   "cell_type": "code",
   "execution_count": 34,
   "id": "bce4d491",
   "metadata": {},
   "outputs": [
    {
     "name": "stdout",
     "output_type": "stream",
     "text": [
      "4\n"
     ]
    }
   ],
   "source": [
    "print(math.ceil(3.14))"
   ]
  },
  {
   "cell_type": "code",
   "execution_count": 36,
   "id": "2fe20f12",
   "metadata": {},
   "outputs": [
    {
     "name": "stdout",
     "output_type": "stream",
     "text": [
      "3.141592653589793\n"
     ]
    }
   ],
   "source": [
    "from math import pi, sqrt, pow, floor, ceil\n",
    "\n",
    "\n",
    "print(pi)"
   ]
  },
  {
   "cell_type": "markdown",
   "id": "fffd6d73",
   "metadata": {},
   "source": [
    "# random"
   ]
  },
  {
   "cell_type": "code",
   "execution_count": 37,
   "id": "3686b11a",
   "metadata": {},
   "outputs": [],
   "source": [
    "import random as r"
   ]
  },
  {
   "cell_type": "code",
   "execution_count": 41,
   "id": "79f3ce91",
   "metadata": {},
   "outputs": [
    {
     "name": "stdout",
     "output_type": "stream",
     "text": [
      "0.36521596355895625\n"
     ]
    }
   ],
   "source": [
    "print(r.random())  # 0 to 1"
   ]
  },
  {
   "cell_type": "code",
   "execution_count": 48,
   "id": "fab41c2c",
   "metadata": {},
   "outputs": [
    {
     "name": "stdout",
     "output_type": "stream",
     "text": [
      "14\n"
     ]
    }
   ],
   "source": [
    "print(r.randint(5,20))"
   ]
  },
  {
   "cell_type": "code",
   "execution_count": 51,
   "id": "9ac057b2",
   "metadata": {},
   "outputs": [
    {
     "name": "stdout",
     "output_type": "stream",
     "text": [
      "0.12067598483950182\n",
      "1.2067598483950182\n",
      "1\n"
     ]
    }
   ],
   "source": [
    "x = r.random()\n",
    "print(x)\n",
    "\n",
    "x = x * 10\n",
    "print(x)\n",
    "\n",
    "print(math.floor(x))"
   ]
  },
  {
   "cell_type": "code",
   "execution_count": null,
   "id": "785f6932",
   "metadata": {},
   "outputs": [],
   "source": [
    "s = ['a', 'b', 'c', 'd', 'e', '1','2','5']\n",
    "#     0    1    2    3    4"
   ]
  },
  {
   "cell_type": "code",
   "execution_count": null,
   "id": "19c71f93",
   "metadata": {},
   "outputs": [],
   "source": [
    "flow of charges > electricity > bits > numbers > character > instructions > function > class > module > package > library > framework"
   ]
  },
  {
   "cell_type": "code",
   "execution_count": null,
   "id": "daf99091",
   "metadata": {},
   "outputs": [],
   "source": [
    "source code   ------>    byte code   ------>  output\n",
    "              compile                 run       \n",
    "   .py                     .pyc\n",
    "\n"
   ]
  },
  {
   "cell_type": "code",
   "execution_count": 52,
   "id": "3da5a878",
   "metadata": {},
   "outputs": [],
   "source": [
    "def color():\n",
    "    return \"red\"\n",
    "\n",
    "def flower():\n",
    "    return \"color of the flower is blue\""
   ]
  },
  {
   "cell_type": "code",
   "execution_count": null,
   "id": "3eff71a8",
   "metadata": {},
   "outputs": [],
   "source": []
  }
 ],
 "metadata": {
  "kernelspec": {
   "display_name": "Python 3 (ipykernel)",
   "language": "python",
   "name": "python3"
  },
  "language_info": {
   "codemirror_mode": {
    "name": "ipython",
    "version": 3
   },
   "file_extension": ".py",
   "mimetype": "text/x-python",
   "name": "python",
   "nbconvert_exporter": "python",
   "pygments_lexer": "ipython3",
   "version": "3.9.12"
  }
 },
 "nbformat": 4,
 "nbformat_minor": 5
}
