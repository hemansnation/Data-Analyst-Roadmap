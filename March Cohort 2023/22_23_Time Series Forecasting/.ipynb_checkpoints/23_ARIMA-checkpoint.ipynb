{
 "cells": [
  {
   "cell_type": "markdown",
   "id": "5e5ca069",
   "metadata": {},
   "source": [
    "# Auto Regressive Models\n",
    "\n",
    "AR and MA = ARMA = ARIMA\n",
    "\n",
    "\n",
    "### Auto-Regressive (AR) Models"
   ]
  },
  {
   "cell_type": "code",
   "execution_count": null,
   "id": "b389bf58",
   "metadata": {},
   "outputs": [],
   "source": [
    "- auto-correlation function\n",
    "- partial auto-correlation function"
   ]
  },
  {
   "cell_type": "code",
   "execution_count": 1,
   "id": "91a0231c",
   "metadata": {},
   "outputs": [],
   "source": [
    "import pandas as pd\n",
    "import numpy as np\n",
    "import matplotlib.pyplot as plt"
   ]
  },
  {
   "cell_type": "code",
   "execution_count": 2,
   "id": "8e78f456",
   "metadata": {},
   "outputs": [
    {
     "data": {
      "text/html": [
       "<div>\n",
       "<style scoped>\n",
       "    .dataframe tbody tr th:only-of-type {\n",
       "        vertical-align: middle;\n",
       "    }\n",
       "\n",
       "    .dataframe tbody tr th {\n",
       "        vertical-align: top;\n",
       "    }\n",
       "\n",
       "    .dataframe thead th {\n",
       "        text-align: right;\n",
       "    }\n",
       "</style>\n",
       "<table border=\"1\" class=\"dataframe\">\n",
       "  <thead>\n",
       "    <tr style=\"text-align: right;\">\n",
       "      <th></th>\n",
       "      <th>Month</th>\n",
       "      <th>demand</th>\n",
       "    </tr>\n",
       "  </thead>\n",
       "  <tbody>\n",
       "    <tr>\n",
       "      <th>0</th>\n",
       "      <td>1</td>\n",
       "      <td>457</td>\n",
       "    </tr>\n",
       "    <tr>\n",
       "      <th>1</th>\n",
       "      <td>2</td>\n",
       "      <td>439</td>\n",
       "    </tr>\n",
       "    <tr>\n",
       "      <th>2</th>\n",
       "      <td>3</td>\n",
       "      <td>404</td>\n",
       "    </tr>\n",
       "    <tr>\n",
       "      <th>3</th>\n",
       "      <td>4</td>\n",
       "      <td>392</td>\n",
       "    </tr>\n",
       "    <tr>\n",
       "      <th>4</th>\n",
       "      <td>5</td>\n",
       "      <td>403</td>\n",
       "    </tr>\n",
       "  </tbody>\n",
       "</table>\n",
       "</div>"
      ],
      "text/plain": [
       "   Month  demand\n",
       "0      1     457\n",
       "1      2     439\n",
       "2      3     404\n",
       "3      4     392\n",
       "4      5     403"
      ]
     },
     "execution_count": 2,
     "metadata": {},
     "output_type": "execute_result"
    }
   ],
   "source": [
    "df = pd.read_csv('vimana.csv')\n",
    "\n",
    "df.head()"
   ]
  },
  {
   "cell_type": "code",
   "execution_count": 3,
   "id": "1e17a7a3",
   "metadata": {},
   "outputs": [
    {
     "name": "stdout",
     "output_type": "stream",
     "text": [
      "<class 'pandas.core.frame.DataFrame'>\n",
      "RangeIndex: 37 entries, 0 to 36\n",
      "Data columns (total 2 columns):\n",
      " #   Column  Non-Null Count  Dtype\n",
      "---  ------  --------------  -----\n",
      " 0   Month   37 non-null     int64\n",
      " 1   demand  37 non-null     int64\n",
      "dtypes: int64(2)\n",
      "memory usage: 720.0 bytes\n"
     ]
    }
   ],
   "source": [
    "df.info()"
   ]
  },
  {
   "cell_type": "code",
   "execution_count": 4,
   "id": "49e834a8",
   "metadata": {},
   "outputs": [
    {
     "data": {
      "image/png": "[encoded data removed]",
      "text/plain": [
       "<Figure size 432x288 with 1 Axes>"
      ]
     },
     "metadata": {
      "needs_background": "light"
     },
     "output_type": "display_data"
    }
   ],
   "source": [
    "from statsmodels.graphics.tsaplots import plot_acf, plot_pacf\n",
    "\n",
    "acf_plot = plot_acf(df.demand, lags=20)"
   ]
  },
  {
   "cell_type": "code",
   "execution_count": 7,
   "id": "05dffa14",
   "metadata": {},
   "outputs": [
    {
     "data": {
      "image/png": "[encoded data removed]",
      "text/plain": [
       "<Figure size 432x288 with 1 Axes>"
      ]
     },
     "metadata": {
      "needs_background": "light"
     },
     "output_type": "display_data"
    }
   ],
   "source": [
    "pacf_plot = plot_pacf(df.demand, lags=17)"
   ]
  },
  {
   "cell_type": "markdown",
   "id": "538cb705",
   "metadata": {},
   "source": [
    "1. partial auto-correlation is significant for first p lags\n",
    "2. there is a sign of stationary"
   ]
  },
  {
   "cell_type": "markdown",
   "id": "1b96e85a",
   "metadata": {},
   "source": [
    "### building AR model"
   ]
  },
  {
   "cell_type": "code",
   "execution_count": 22,
   "id": "9b68728d",
   "metadata": {},
   "outputs": [],
   "source": [
    "from statsmodels.tsa.arima.model import ARIMA"
   ]
  },
  {
   "cell_type": "code",
   "execution_count": 26,
   "id": "3a318c0a",
   "metadata": {},
   "outputs": [],
   "source": [
    "arima = ARIMA(df.demand[0:30].to_numpy(),\n",
    "             order=(1,0,0))\n",
    "\n",
    "model = arima.fit()"
   ]
  },
  {
   "cell_type": "code",
   "execution_count": 27,
   "id": "d7c7e91f",
   "metadata": {},
   "outputs": [
    {
     "data": {
      "text/html": [
       "<table class=\"simpletable\">\n",
       "<caption>SARIMAX Results</caption>\n",
       "<tr>\n",
       "  <th>Dep. Variable:</th>           <td>y</td>        <th>  No. Observations:  </th>    <td>30</td>   \n",
       "</tr>\n",
       "<tr>\n",
       "  <th>Model:</th>            <td>ARIMA(1, 0, 0)</td>  <th>  Log Likelihood     </th> <td>-182.765</td>\n",
       "</tr>\n",
       "<tr>\n",
       "  <th>Date:</th>            <td>Tue, 16 May 2023</td> <th>  AIC                </th>  <td>371.530</td>\n",
       "</tr>\n",
       "<tr>\n",
       "  <th>Time:</th>                <td>21:40:39</td>     <th>  BIC                </th>  <td>375.734</td>\n",
       "</tr>\n",
       "<tr>\n",
       "  <th>Sample:</th>                  <td>0</td>        <th>  HQIC               </th>  <td>372.875</td>\n",
       "</tr>\n",
       "<tr>\n",
       "  <th></th>                       <td> - 30</td>      <th>                     </th>     <td> </td>   \n",
       "</tr>\n",
       "<tr>\n",
       "  <th>Covariance Type:</th>        <td>opg</td>       <th>                     </th>     <td> </td>   \n",
       "</tr>\n",
       "</table>\n",
       "<table class=\"simpletable\">\n",
       "<tr>\n",
       "     <td></td>       <th>coef</th>     <th>std err</th>      <th>z</th>      <th>P>|z|</th>  <th>[0.025</th>    <th>0.975]</th>  \n",
       "</tr>\n",
       "<tr>\n",
       "  <th>const</th>  <td>  513.4426</td> <td>   43.815</td> <td>   11.718</td> <td> 0.000</td> <td>  427.567</td> <td>  599.318</td>\n",
       "</tr>\n",
       "<tr>\n",
       "  <th>ar.L1</th>  <td>    0.4726</td> <td>    0.181</td> <td>    2.617</td> <td> 0.009</td> <td>    0.119</td> <td>    0.827</td>\n",
       "</tr>\n",
       "<tr>\n",
       "  <th>sigma2</th> <td> 1.136e+04</td> <td> 3299.003</td> <td>    3.444</td> <td> 0.001</td> <td> 4896.110</td> <td> 1.78e+04</td>\n",
       "</tr>\n",
       "</table>\n",
       "<table class=\"simpletable\">\n",
       "<tr>\n",
       "  <th>Ljung-Box (L1) (Q):</th>     <td>0.55</td> <th>  Jarque-Bera (JB):  </th> <td>1.72</td>\n",
       "</tr>\n",
       "<tr>\n",
       "  <th>Prob(Q):</th>                <td>0.46</td> <th>  Prob(JB):          </th> <td>0.42</td>\n",
       "</tr>\n",
       "<tr>\n",
       "  <th>Heteroskedasticity (H):</th> <td>2.72</td> <th>  Skew:              </th> <td>0.59</td>\n",
       "</tr>\n",
       "<tr>\n",
       "  <th>Prob(H) (two-sided):</th>    <td>0.13</td> <th>  Kurtosis:          </th> <td>2.96</td>\n",
       "</tr>\n",
       "</table><br/><br/>Warnings:<br/>[1] Covariance matrix calculated using the outer product of gradients (complex-step)."
      ],
      "text/plain": [
       "<class 'statsmodels.iolib.summary.Summary'>\n",
       "\"\"\"\n",
       "                               SARIMAX Results                                \n",
       "==============================================================================\n",
       "Dep. Variable:                      y   No. Observations:                   30\n",
       "Model:                 ARIMA(1, 0, 0)   Log Likelihood                -182.765\n",
       "Date:                Tue, 16 May 2023   AIC                            371.530\n",
       "Time:                        21:40:39   BIC                            375.734\n",
       "Sample:                             0   HQIC                           372.875\n",
       "                                 - 30                                         \n",
       "Covariance Type:                  opg                                         \n",
       "==============================================================================\n",
       "                 coef    std err          z      P>|z|      [0.025      0.975]\n",
       "------------------------------------------------------------------------------\n",
       "const        513.4426     43.815     11.718      0.000     427.567     599.318\n",
       "ar.L1          0.4726      0.181      2.617      0.009       0.119       0.827\n",
       "sigma2      1.136e+04   3299.003      3.444      0.001    4896.110    1.78e+04\n",
       "===================================================================================\n",
       "Ljung-Box (L1) (Q):                   0.55   Jarque-Bera (JB):                 1.72\n",
       "Prob(Q):                              0.46   Prob(JB):                         0.42\n",
       "Heteroskedasticity (H):               2.72   Skew:                             0.59\n",
       "Prob(H) (two-sided):                  0.13   Kurtosis:                         2.96\n",
       "===================================================================================\n",
       "\n",
       "Warnings:\n",
       "[1] Covariance matrix calculated using the outer product of gradients (complex-step).\n",
       "\"\"\""
      ]
     },
     "execution_count": 27,
     "metadata": {},
     "output_type": "execute_result"
    }
   ],
   "source": [
    "model.summary()"
   ]
  },
  {
   "cell_type": "code",
   "execution_count": 28,
   "id": "a5289c6f",
   "metadata": {},
   "outputs": [],
   "source": [
    "# AR with lag 1 is significant variable in the model"
   ]
  },
  {
   "cell_type": "markdown",
   "id": "86fea566",
   "metadata": {},
   "source": [
    "#### forecast and measure accuracy"
   ]
  },
  {
   "cell_type": "code",
   "execution_count": 29,
   "id": "e6d3acb1",
   "metadata": {},
   "outputs": [
    {
     "data": {
      "text/plain": [
       "array([480.15274444, 497.71044684, 506.00789345, 509.92911382,\n",
       "       511.78221031, 512.65794956, 513.0718078 ])"
      ]
     },
     "execution_count": 29,
     "metadata": {},
     "output_type": "execute_result"
    }
   ],
   "source": [
    "forecast_31_37 = model.predict(30,36)\n",
    "\n",
    "forecast_31_37"
   ]
  },
  {
   "cell_type": "code",
   "execution_count": 30,
   "id": "7a473526",
   "metadata": {},
   "outputs": [],
   "source": [
    "def get_MAPE(actual, predicted):\n",
    "    ytrue, ypred = np.array(actual), np.array(predicted)\n",
    "    \n",
    "    return np.round(np.mean(np.abs((actual - predicted) / actual))*100, 2)"
   ]
  },
  {
   "cell_type": "code",
   "execution_count": 31,
   "id": "f5df3b3a",
   "metadata": {},
   "outputs": [
    {
     "data": {
      "text/plain": [
       "19.12"
      ]
     },
     "execution_count": 31,
     "metadata": {},
     "output_type": "execute_result"
    }
   ],
   "source": [
    "get_MAPE(df.demand[30:], forecast_31_37)"
   ]
  },
  {
   "cell_type": "markdown",
   "id": "8f8bcf16",
   "metadata": {},
   "source": [
    "### moving average (MA) "
   ]
  },
  {
   "cell_type": "code",
   "execution_count": 32,
   "id": "59388c6b",
   "metadata": {},
   "outputs": [
    {
     "data": {
      "text/html": [
       "<table class=\"simpletable\">\n",
       "<caption>SARIMAX Results</caption>\n",
       "<tr>\n",
       "  <th>Dep. Variable:</th>           <td>y</td>        <th>  No. Observations:  </th>    <td>30</td>   \n",
       "</tr>\n",
       "<tr>\n",
       "  <th>Model:</th>            <td>ARIMA(0, 0, 1)</td>  <th>  Log Likelihood     </th> <td>-184.297</td>\n",
       "</tr>\n",
       "<tr>\n",
       "  <th>Date:</th>            <td>Tue, 16 May 2023</td> <th>  AIC                </th>  <td>374.595</td>\n",
       "</tr>\n",
       "<tr>\n",
       "  <th>Time:</th>                <td>21:47:29</td>     <th>  BIC                </th>  <td>378.799</td>\n",
       "</tr>\n",
       "<tr>\n",
       "  <th>Sample:</th>                  <td>0</td>        <th>  HQIC               </th>  <td>375.940</td>\n",
       "</tr>\n",
       "<tr>\n",
       "  <th></th>                       <td> - 30</td>      <th>                     </th>     <td> </td>   \n",
       "</tr>\n",
       "<tr>\n",
       "  <th>Covariance Type:</th>        <td>opg</td>       <th>                     </th>     <td> </td>   \n",
       "</tr>\n",
       "</table>\n",
       "<table class=\"simpletable\">\n",
       "<tr>\n",
       "     <td></td>       <th>coef</th>     <th>std err</th>      <th>z</th>      <th>P>|z|</th>  <th>[0.025</th>    <th>0.975]</th>  \n",
       "</tr>\n",
       "<tr>\n",
       "  <th>const</th>  <td>  517.0213</td> <td>   31.024</td> <td>   16.665</td> <td> 0.000</td> <td>  456.215</td> <td>  577.827</td>\n",
       "</tr>\n",
       "<tr>\n",
       "  <th>ma.L1</th>  <td>    0.3173</td> <td>    0.224</td> <td>    1.414</td> <td> 0.157</td> <td>   -0.122</td> <td>    0.757</td>\n",
       "</tr>\n",
       "<tr>\n",
       "  <th>sigma2</th> <td> 1.265e+04</td> <td> 4209.483</td> <td>    3.004</td> <td> 0.003</td> <td> 4395.561</td> <td> 2.09e+04</td>\n",
       "</tr>\n",
       "</table>\n",
       "<table class=\"simpletable\">\n",
       "<tr>\n",
       "  <th>Ljung-Box (L1) (Q):</th>     <td>0.41</td> <th>  Jarque-Bera (JB):  </th> <td>2.21</td>\n",
       "</tr>\n",
       "<tr>\n",
       "  <th>Prob(Q):</th>                <td>0.52</td> <th>  Prob(JB):          </th> <td>0.33</td>\n",
       "</tr>\n",
       "<tr>\n",
       "  <th>Heteroskedasticity (H):</th> <td>2.25</td> <th>  Skew:              </th> <td>0.66</td>\n",
       "</tr>\n",
       "<tr>\n",
       "  <th>Prob(H) (two-sided):</th>    <td>0.22</td> <th>  Kurtosis:          </th> <td>2.90</td>\n",
       "</tr>\n",
       "</table><br/><br/>Warnings:<br/>[1] Covariance matrix calculated using the outer product of gradients (complex-step)."
      ],
      "text/plain": [
       "<class 'statsmodels.iolib.summary.Summary'>\n",
       "\"\"\"\n",
       "                               SARIMAX Results                                \n",
       "==============================================================================\n",
       "Dep. Variable:                      y   No. Observations:                   30\n",
       "Model:                 ARIMA(0, 0, 1)   Log Likelihood                -184.297\n",
       "Date:                Tue, 16 May 2023   AIC                            374.595\n",
       "Time:                        21:47:29   BIC                            378.799\n",
       "Sample:                             0   HQIC                           375.940\n",
       "                                 - 30                                         \n",
       "Covariance Type:                  opg                                         \n",
       "==============================================================================\n",
       "                 coef    std err          z      P>|z|      [0.025      0.975]\n",
       "------------------------------------------------------------------------------\n",
       "const        517.0213     31.024     16.665      0.000     456.215     577.827\n",
       "ma.L1          0.3173      0.224      1.414      0.157      -0.122       0.757\n",
       "sigma2      1.265e+04   4209.483      3.004      0.003    4395.561    2.09e+04\n",
       "===================================================================================\n",
       "Ljung-Box (L1) (Q):                   0.41   Jarque-Bera (JB):                 2.21\n",
       "Prob(Q):                              0.52   Prob(JB):                         0.33\n",
       "Heteroskedasticity (H):               2.25   Skew:                             0.66\n",
       "Prob(H) (two-sided):                  0.22   Kurtosis:                         2.90\n",
       "===================================================================================\n",
       "\n",
       "Warnings:\n",
       "[1] Covariance matrix calculated using the outer product of gradients (complex-step).\n",
       "\"\"\""
      ]
     },
     "execution_count": 32,
     "metadata": {},
     "output_type": "execute_result"
    }
   ],
   "source": [
    "arima = ARIMA(df.demand[0:30].to_numpy(),\n",
    "             order=(0,0,1))\n",
    "\n",
    "ma_model = arima.fit()\n",
    "\n",
    "ma_model.summary()"
   ]
  },
  {
   "cell_type": "code",
   "execution_count": 33,
   "id": "3803c499",
   "metadata": {},
   "outputs": [
    {
     "data": {
      "text/plain": [
       "17.78"
      ]
     },
     "execution_count": 33,
     "metadata": {},
     "output_type": "execute_result"
    }
   ],
   "source": [
    "forecast_31_37 = ma_model.predict(30,36)\n",
    "\n",
    "get_MAPE(df.demand[30:], forecast_31_37)"
   ]
  },
  {
   "cell_type": "code",
   "execution_count": 34,
   "id": "878fd131",
   "metadata": {},
   "outputs": [
    {
     "data": {
      "text/html": [
       "<table class=\"simpletable\">\n",
       "<caption>SARIMAX Results</caption>\n",
       "<tr>\n",
       "  <th>Dep. Variable:</th>           <td>y</td>        <th>  No. Observations:  </th>    <td>30</td>   \n",
       "</tr>\n",
       "<tr>\n",
       "  <th>Model:</th>            <td>ARIMA(1, 0, 1)</td>  <th>  Log Likelihood     </th> <td>-181.846</td>\n",
       "</tr>\n",
       "<tr>\n",
       "  <th>Date:</th>            <td>Tue, 16 May 2023</td> <th>  AIC                </th>  <td>371.692</td>\n",
       "</tr>\n",
       "<tr>\n",
       "  <th>Time:</th>                <td>21:50:14</td>     <th>  BIC                </th>  <td>377.296</td>\n",
       "</tr>\n",
       "<tr>\n",
       "  <th>Sample:</th>                  <td>0</td>        <th>  HQIC               </th>  <td>373.485</td>\n",
       "</tr>\n",
       "<tr>\n",
       "  <th></th>                       <td> - 30</td>      <th>                     </th>     <td> </td>   \n",
       "</tr>\n",
       "<tr>\n",
       "  <th>Covariance Type:</th>        <td>opg</td>       <th>                     </th>     <td> </td>   \n",
       "</tr>\n",
       "</table>\n",
       "<table class=\"simpletable\">\n",
       "<tr>\n",
       "     <td></td>       <th>coef</th>     <th>std err</th>      <th>z</th>      <th>P>|z|</th>  <th>[0.025</th>    <th>0.975]</th>  \n",
       "</tr>\n",
       "<tr>\n",
       "  <th>const</th>  <td>  508.3844</td> <td>   59.146</td> <td>    8.595</td> <td> 0.000</td> <td>  392.461</td> <td>  624.308</td>\n",
       "</tr>\n",
       "<tr>\n",
       "  <th>ar.L1</th>  <td>    0.7421</td> <td>    0.316</td> <td>    2.348</td> <td> 0.019</td> <td>    0.123</td> <td>    1.362</td>\n",
       "</tr>\n",
       "<tr>\n",
       "  <th>ma.L1</th>  <td>   -0.3395</td> <td>    0.539</td> <td>   -0.629</td> <td> 0.529</td> <td>   -1.397</td> <td>    0.718</td>\n",
       "</tr>\n",
       "<tr>\n",
       "  <th>sigma2</th> <td> 1.065e+04</td> <td> 3040.079</td> <td>    3.505</td> <td> 0.000</td> <td> 4696.418</td> <td> 1.66e+04</td>\n",
       "</tr>\n",
       "</table>\n",
       "<table class=\"simpletable\">\n",
       "<tr>\n",
       "  <th>Ljung-Box (L1) (Q):</th>     <td>0.13</td> <th>  Jarque-Bera (JB):  </th> <td>2.46</td>\n",
       "</tr>\n",
       "<tr>\n",
       "  <th>Prob(Q):</th>                <td>0.72</td> <th>  Prob(JB):          </th> <td>0.29</td>\n",
       "</tr>\n",
       "<tr>\n",
       "  <th>Heteroskedasticity (H):</th> <td>3.07</td> <th>  Skew:              </th> <td>0.67</td>\n",
       "</tr>\n",
       "<tr>\n",
       "  <th>Prob(H) (two-sided):</th>    <td>0.09</td> <th>  Kurtosis:          </th> <td>3.38</td>\n",
       "</tr>\n",
       "</table><br/><br/>Warnings:<br/>[1] Covariance matrix calculated using the outer product of gradients (complex-step)."
      ],
      "text/plain": [
       "<class 'statsmodels.iolib.summary.Summary'>\n",
       "\"\"\"\n",
       "                               SARIMAX Results                                \n",
       "==============================================================================\n",
       "Dep. Variable:                      y   No. Observations:                   30\n",
       "Model:                 ARIMA(1, 0, 1)   Log Likelihood                -181.846\n",
       "Date:                Tue, 16 May 2023   AIC                            371.692\n",
       "Time:                        21:50:14   BIC                            377.296\n",
       "Sample:                             0   HQIC                           373.485\n",
       "                                 - 30                                         \n",
       "Covariance Type:                  opg                                         \n",
       "==============================================================================\n",
       "                 coef    std err          z      P>|z|      [0.025      0.975]\n",
       "------------------------------------------------------------------------------\n",
       "const        508.3844     59.146      8.595      0.000     392.461     624.308\n",
       "ar.L1          0.7421      0.316      2.348      0.019       0.123       1.362\n",
       "ma.L1         -0.3395      0.539     -0.629      0.529      -1.397       0.718\n",
       "sigma2      1.065e+04   3040.079      3.505      0.000    4696.418    1.66e+04\n",
       "===================================================================================\n",
       "Ljung-Box (L1) (Q):                   0.13   Jarque-Bera (JB):                 2.46\n",
       "Prob(Q):                              0.72   Prob(JB):                         0.29\n",
       "Heteroskedasticity (H):               3.07   Skew:                             0.67\n",
       "Prob(H) (two-sided):                  0.09   Kurtosis:                         3.38\n",
       "===================================================================================\n",
       "\n",
       "Warnings:\n",
       "[1] Covariance matrix calculated using the outer product of gradients (complex-step).\n",
       "\"\"\""
      ]
     },
     "execution_count": 34,
     "metadata": {},
     "output_type": "execute_result"
    }
   ],
   "source": [
    "arima = ARIMA(df.demand[0:30].to_numpy(),\n",
    "             order=(1,0,1))\n",
    "\n",
    "arma_model = arima.fit()\n",
    "\n",
    "arma_model.summary()"
   ]
  },
  {
   "cell_type": "code",
   "execution_count": 35,
   "id": "6f5703b7",
   "metadata": {},
   "outputs": [
    {
     "data": {
      "text/plain": [
       "20.27"
      ]
     },
     "execution_count": 35,
     "metadata": {},
     "output_type": "execute_result"
    }
   ],
   "source": [
    "forecast_31_37 = arma_model.predict(30,36)\n",
    "\n",
    "get_MAPE(df.demand[30:], forecast_31_37)"
   ]
  },
  {
   "cell_type": "markdown",
   "id": "30adbf67",
   "metadata": {},
   "source": [
    "## ARIMA\n",
    "time-series data is stationary - ARMA\n",
    "\n",
    "\n",
    "                non-stationary - ARIMA"
   ]
  },
  {
   "cell_type": "code",
   "execution_count": 36,
   "id": "aba6b783",
   "metadata": {},
   "outputs": [
    {
     "data": {
      "text/html": [
       "<div>\n",
       "<style scoped>\n",
       "    .dataframe tbody tr th:only-of-type {\n",
       "        vertical-align: middle;\n",
       "    }\n",
       "\n",
       "    .dataframe tbody tr th {\n",
       "        vertical-align: top;\n",
       "    }\n",
       "\n",
       "    .dataframe thead th {\n",
       "        text-align: right;\n",
       "    }\n",
       "</style>\n",
       "<table border=\"1\" class=\"dataframe\">\n",
       "  <thead>\n",
       "    <tr style=\"text-align: right;\">\n",
       "      <th></th>\n",
       "      <th>Date</th>\n",
       "      <th>demand</th>\n",
       "    </tr>\n",
       "  </thead>\n",
       "  <tbody>\n",
       "    <tr>\n",
       "      <th>0</th>\n",
       "      <td>2014-10-01</td>\n",
       "      <td>15</td>\n",
       "    </tr>\n",
       "    <tr>\n",
       "      <th>1</th>\n",
       "      <td>2014-10-02</td>\n",
       "      <td>7</td>\n",
       "    </tr>\n",
       "    <tr>\n",
       "      <th>2</th>\n",
       "      <td>2014-10-03</td>\n",
       "      <td>8</td>\n",
       "    </tr>\n",
       "    <tr>\n",
       "      <th>3</th>\n",
       "      <td>2014-10-04</td>\n",
       "      <td>10</td>\n",
       "    </tr>\n",
       "    <tr>\n",
       "      <th>4</th>\n",
       "      <td>2014-10-05</td>\n",
       "      <td>13</td>\n",
       "    </tr>\n",
       "  </tbody>\n",
       "</table>\n",
       "</div>"
      ],
      "text/plain": [
       "        Date  demand\n",
       "0 2014-10-01      15\n",
       "1 2014-10-02       7\n",
       "2 2014-10-03       8\n",
       "3 2014-10-04      10\n",
       "4 2014-10-05      13"
      ]
     },
     "execution_count": 36,
     "metadata": {},
     "output_type": "execute_result"
    }
   ],
   "source": [
    "store_df = pd.read_excel('store.xls')\n",
    "\n",
    "store_df.head()"
   ]
  },
  {
   "cell_type": "code",
   "execution_count": 37,
   "id": "c1deb62f",
   "metadata": {},
   "outputs": [
    {
     "name": "stdout",
     "output_type": "stream",
     "text": [
      "<class 'pandas.core.frame.DataFrame'>\n",
      "RangeIndex: 115 entries, 0 to 114\n",
      "Data columns (total 2 columns):\n",
      " #   Column  Non-Null Count  Dtype         \n",
      "---  ------  --------------  -----         \n",
      " 0   Date    115 non-null    datetime64[ns]\n",
      " 1   demand  115 non-null    int64         \n",
      "dtypes: datetime64[ns](1), int64(1)\n",
      "memory usage: 1.9 KB\n"
     ]
    }
   ],
   "source": [
    "store_df.info()"
   ]
  },
  {
   "cell_type": "code",
   "execution_count": 38,
   "id": "ecff6ab2",
   "metadata": {},
   "outputs": [
    {
     "data": {
      "text/html": [
       "<div>\n",
       "<style scoped>\n",
       "    .dataframe tbody tr th:only-of-type {\n",
       "        vertical-align: middle;\n",
       "    }\n",
       "\n",
       "    .dataframe tbody tr th {\n",
       "        vertical-align: top;\n",
       "    }\n",
       "\n",
       "    .dataframe thead th {\n",
       "        text-align: right;\n",
       "    }\n",
       "</style>\n",
       "<table border=\"1\" class=\"dataframe\">\n",
       "  <thead>\n",
       "    <tr style=\"text-align: right;\">\n",
       "      <th></th>\n",
       "      <th>demand</th>\n",
       "    </tr>\n",
       "    <tr>\n",
       "      <th>Date</th>\n",
       "      <th></th>\n",
       "    </tr>\n",
       "  </thead>\n",
       "  <tbody>\n",
       "    <tr>\n",
       "      <th>2014-10-01</th>\n",
       "      <td>15</td>\n",
       "    </tr>\n",
       "    <tr>\n",
       "      <th>2014-10-02</th>\n",
       "      <td>7</td>\n",
       "    </tr>\n",
       "    <tr>\n",
       "      <th>2014-10-03</th>\n",
       "      <td>8</td>\n",
       "    </tr>\n",
       "    <tr>\n",
       "      <th>2014-10-04</th>\n",
       "      <td>10</td>\n",
       "    </tr>\n",
       "    <tr>\n",
       "      <th>2014-10-05</th>\n",
       "      <td>13</td>\n",
       "    </tr>\n",
       "  </tbody>\n",
       "</table>\n",
       "</div>"
      ],
      "text/plain": [
       "            demand\n",
       "Date              \n",
       "2014-10-01      15\n",
       "2014-10-02       7\n",
       "2014-10-03       8\n",
       "2014-10-04      10\n",
       "2014-10-05      13"
      ]
     },
     "execution_count": 38,
     "metadata": {},
     "output_type": "execute_result"
    }
   ],
   "source": [
    "store_df.set_index(pd.to_datetime(store_df.Date), inplace=True)\n",
    "\n",
    "store_df.drop('Date', axis=1, inplace=True)\n",
    "\n",
    "store_df[:5]"
   ]
  },
  {
   "cell_type": "code",
   "execution_count": 39,
   "id": "6bd71b19",
   "metadata": {},
   "outputs": [
    {
     "data": {
      "text/plain": [
       "[<matplotlib.lines.Line2D at 0x220593bf4c0>]"
      ]
     },
     "execution_count": 39,
     "metadata": {},
     "output_type": "execute_result"
    },
    {
     "data": {
      "image/png": "[encoded data removed]",
      "text/plain": [
       "<Figure size 720x288 with 1 Axes>"
      ]
     },
     "metadata": {
      "needs_background": "light"
     },
     "output_type": "display_data"
    }
   ],
   "source": [
    "plt.figure(figsize=(10,4))\n",
    "plt.xlabel('Date')\n",
    "plt.ylabel('Demand')\n",
    "\n",
    "plt.plot(store_df.demand)"
   ]
  },
  {
   "cell_type": "code",
   "execution_count": 40,
   "id": "3aeb1f33",
   "metadata": {},
   "outputs": [
    {
     "data": {
      "image/png": "[encoded data removed]",
      "text/plain": [
       "<Figure size 432x288 with 1 Axes>"
      ]
     },
     "metadata": {
      "needs_background": "light"
     },
     "output_type": "display_data"
    }
   ],
   "source": [
    "acf_plot = plot_acf(store_df.demand, lags=20)"
   ]
  },
  {
   "cell_type": "code",
   "execution_count": 41,
   "id": "362258a9",
   "metadata": {},
   "outputs": [],
   "source": [
    "from statsmodels.tsa.stattools import adfuller"
   ]
  },
  {
   "cell_type": "code",
   "execution_count": 42,
   "id": "9c78933a",
   "metadata": {},
   "outputs": [
    {
     "name": "stdout",
     "output_type": "stream",
     "text": [
      "Test Statistics                 -1.649533\n",
      "p-value                          0.457284\n",
      "Lags Used                       13.000000\n",
      "Number of Observations Used    101.000000\n",
      "dtype: float64\n"
     ]
    }
   ],
   "source": [
    "def adfuller_test(ts):\n",
    "    adfuller_result = adfuller(ts, autolag=None)\n",
    "    adfuller_out = pd.Series(adfuller_result[0:4],\n",
    "                            index=['Test Statistics',\n",
    "                                  'p-value',\n",
    "                                  'Lags Used',\n",
    "                                  'Number of Observations Used'])\n",
    "    print(adfuller_out)\n",
    "    \n",
    "adfuller_test(store_df.demand)"
   ]
  },
  {
   "cell_type": "code",
   "execution_count": null,
   "id": "2f7b1ad8",
   "metadata": {},
   "outputs": [],
   "source": [
    "# p-value > 0.05 that means we cannot reject the null hypothesis, \n",
    "# as series is not stationary"
   ]
  },
  {
   "cell_type": "markdown",
   "id": "eb42a0fa",
   "metadata": {},
   "source": [
    "#### differencing"
   ]
  },
  {
   "cell_type": "code",
   "execution_count": 43,
   "id": "5a1055ea",
   "metadata": {},
   "outputs": [
    {
     "data": {
      "text/html": [
       "<div>\n",
       "<style scoped>\n",
       "    .dataframe tbody tr th:only-of-type {\n",
       "        vertical-align: middle;\n",
       "    }\n",
       "\n",
       "    .dataframe tbody tr th {\n",
       "        vertical-align: top;\n",
       "    }\n",
       "\n",
       "    .dataframe thead th {\n",
       "        text-align: right;\n",
       "    }\n",
       "</style>\n",
       "<table border=\"1\" class=\"dataframe\">\n",
       "  <thead>\n",
       "    <tr style=\"text-align: right;\">\n",
       "      <th></th>\n",
       "      <th>demand</th>\n",
       "      <th>demand_diff</th>\n",
       "    </tr>\n",
       "    <tr>\n",
       "      <th>Date</th>\n",
       "      <th></th>\n",
       "      <th></th>\n",
       "    </tr>\n",
       "  </thead>\n",
       "  <tbody>\n",
       "    <tr>\n",
       "      <th>2014-10-01</th>\n",
       "      <td>15</td>\n",
       "      <td>NaN</td>\n",
       "    </tr>\n",
       "    <tr>\n",
       "      <th>2014-10-02</th>\n",
       "      <td>7</td>\n",
       "      <td>-8.0</td>\n",
       "    </tr>\n",
       "    <tr>\n",
       "      <th>2014-10-03</th>\n",
       "      <td>8</td>\n",
       "      <td>1.0</td>\n",
       "    </tr>\n",
       "    <tr>\n",
       "      <th>2014-10-04</th>\n",
       "      <td>10</td>\n",
       "      <td>2.0</td>\n",
       "    </tr>\n",
       "    <tr>\n",
       "      <th>2014-10-05</th>\n",
       "      <td>13</td>\n",
       "      <td>3.0</td>\n",
       "    </tr>\n",
       "  </tbody>\n",
       "</table>\n",
       "</div>"
      ],
      "text/plain": [
       "            demand  demand_diff\n",
       "Date                           \n",
       "2014-10-01      15          NaN\n",
       "2014-10-02       7         -8.0\n",
       "2014-10-03       8          1.0\n",
       "2014-10-04      10          2.0\n",
       "2014-10-05      13          3.0"
      ]
     },
     "execution_count": 43,
     "metadata": {},
     "output_type": "execute_result"
    }
   ],
   "source": [
    "store_df['demand_diff'] = store_df.demand - store_df.demand.shift(1)\n",
    "\n",
    "store_df.head()"
   ]
  },
  {
   "cell_type": "code",
   "execution_count": 44,
   "id": "78378db1",
   "metadata": {},
   "outputs": [],
   "source": [
    "store_diff_df = store_df.dropna()"
   ]
  },
  {
   "cell_type": "code",
   "execution_count": 45,
   "id": "e4c4e738",
   "metadata": {},
   "outputs": [
    {
     "data": {
      "text/plain": [
       "[<matplotlib.lines.Line2D at 0x2205aaef430>]"
      ]
     },
     "execution_count": 45,
     "metadata": {},
     "output_type": "execute_result"
    },
    {
     "data": {
      "image/png": "[encoded data removed]",
      "text/plain": [
       "<Figure size 720x288 with 1 Axes>"
      ]
     },
     "metadata": {
      "needs_background": "light"
     },
     "output_type": "display_data"
    }
   ],
   "source": [
    "plt.figure(figsize=(10,4))\n",
    "plt.xlabel('Date')\n",
    "plt.ylabel('First Order Differencing')\n",
    "\n",
    "plt.plot(store_diff_df.demand_diff)"
   ]
  },
  {
   "cell_type": "code",
   "execution_count": 46,
   "id": "9ac6af67",
   "metadata": {},
   "outputs": [
    {
     "name": "stderr",
     "output_type": "stream",
     "text": [
      "C:\\Users\\himan\\anaconda3\\lib\\site-packages\\statsmodels\\graphics\\tsaplots.py:348: FutureWarning: The default method 'yw' can produce PACF values outside of the [-1,1] interval. After 0.13, the default will change tounadjusted Yule-Walker ('ywm'). You can use this method now by setting method='ywm'.\n",
      "  warnings.warn(\n"
     ]
    },
    {
     "data": {
      "image/png": "[encoded data removed]",
      "text/plain": [
       "<Figure size 432x288 with 1 Axes>"
      ]
     },
     "metadata": {
      "needs_background": "light"
     },
     "output_type": "display_data"
    }
   ],
   "source": [
    "pacf_plot = plot_pacf(store_df.demand_diff.dropna(),\n",
    "                     lags=10)"
   ]
  },
  {
   "cell_type": "code",
   "execution_count": 47,
   "id": "41d50dfe",
   "metadata": {},
   "outputs": [],
   "source": [
    "store_train = store_df[0:100]\n",
    "store_test = store_df[100:0]"
   ]
  },
  {
   "cell_type": "code",
   "execution_count": 48,
   "id": "78743a66",
   "metadata": {},
   "outputs": [
    {
     "name": "stderr",
     "output_type": "stream",
     "text": [
      "C:\\Users\\himan\\anaconda3\\lib\\site-packages\\statsmodels\\tsa\\statespace\\sarimax.py:978: UserWarning: Non-invertible starting MA parameters found. Using zeros as starting parameters.\n",
      "  warn('Non-invertible starting MA parameters found.'\n"
     ]
    },
    {
     "data": {
      "text/html": [
       "<table class=\"simpletable\">\n",
       "<caption>SARIMAX Results</caption>\n",
       "<tr>\n",
       "  <th>Dep. Variable:</th>           <td>y</td>        <th>  No. Observations:  </th>    <td>100</td>  \n",
       "</tr>\n",
       "<tr>\n",
       "  <th>Model:</th>            <td>ARIMA(1, 1, 1)</td>  <th>  Log Likelihood     </th> <td>-256.910</td>\n",
       "</tr>\n",
       "<tr>\n",
       "  <th>Date:</th>            <td>Tue, 16 May 2023</td> <th>  AIC                </th>  <td>519.821</td>\n",
       "</tr>\n",
       "<tr>\n",
       "  <th>Time:</th>                <td>22:15:55</td>     <th>  BIC                </th>  <td>527.606</td>\n",
       "</tr>\n",
       "<tr>\n",
       "  <th>Sample:</th>                  <td>0</td>        <th>  HQIC               </th>  <td>522.971</td>\n",
       "</tr>\n",
       "<tr>\n",
       "  <th></th>                      <td> - 100</td>      <th>                     </th>     <td> </td>   \n",
       "</tr>\n",
       "<tr>\n",
       "  <th>Covariance Type:</th>        <td>opg</td>       <th>                     </th>     <td> </td>   \n",
       "</tr>\n",
       "</table>\n",
       "<table class=\"simpletable\">\n",
       "<tr>\n",
       "     <td></td>       <th>coef</th>     <th>std err</th>      <th>z</th>      <th>P>|z|</th>  <th>[0.025</th>    <th>0.975]</th>  \n",
       "</tr>\n",
       "<tr>\n",
       "  <th>ar.L1</th>  <td>    0.4091</td> <td>    0.311</td> <td>    1.315</td> <td> 0.189</td> <td>   -0.201</td> <td>    1.019</td>\n",
       "</tr>\n",
       "<tr>\n",
       "  <th>ma.L1</th>  <td>   -0.7179</td> <td>    0.236</td> <td>   -3.039</td> <td> 0.002</td> <td>   -1.181</td> <td>   -0.255</td>\n",
       "</tr>\n",
       "<tr>\n",
       "  <th>sigma2</th> <td>   10.4865</td> <td>    1.026</td> <td>   10.223</td> <td> 0.000</td> <td>    8.476</td> <td>   12.497</td>\n",
       "</tr>\n",
       "</table>\n",
       "<table class=\"simpletable\">\n",
       "<tr>\n",
       "  <th>Ljung-Box (L1) (Q):</th>     <td>0.06</td> <th>  Jarque-Bera (JB):  </th> <td>75.18</td>\n",
       "</tr>\n",
       "<tr>\n",
       "  <th>Prob(Q):</th>                <td>0.81</td> <th>  Prob(JB):          </th> <td>0.00</td> \n",
       "</tr>\n",
       "<tr>\n",
       "  <th>Heteroskedasticity (H):</th> <td>0.76</td> <th>  Skew:              </th> <td>-0.79</td>\n",
       "</tr>\n",
       "<tr>\n",
       "  <th>Prob(H) (two-sided):</th>    <td>0.44</td> <th>  Kurtosis:          </th> <td>6.97</td> \n",
       "</tr>\n",
       "</table><br/><br/>Warnings:<br/>[1] Covariance matrix calculated using the outer product of gradients (complex-step)."
      ],
      "text/plain": [
       "<class 'statsmodels.iolib.summary.Summary'>\n",
       "\"\"\"\n",
       "                               SARIMAX Results                                \n",
       "==============================================================================\n",
       "Dep. Variable:                      y   No. Observations:                  100\n",
       "Model:                 ARIMA(1, 1, 1)   Log Likelihood                -256.910\n",
       "Date:                Tue, 16 May 2023   AIC                            519.821\n",
       "Time:                        22:15:55   BIC                            527.606\n",
       "Sample:                             0   HQIC                           522.971\n",
       "                                - 100                                         \n",
       "Covariance Type:                  opg                                         \n",
       "==============================================================================\n",
       "                 coef    std err          z      P>|z|      [0.025      0.975]\n",
       "------------------------------------------------------------------------------\n",
       "ar.L1          0.4091      0.311      1.315      0.189      -0.201       1.019\n",
       "ma.L1         -0.7179      0.236     -3.039      0.002      -1.181      -0.255\n",
       "sigma2        10.4865      1.026     10.223      0.000       8.476      12.497\n",
       "===================================================================================\n",
       "Ljung-Box (L1) (Q):                   0.06   Jarque-Bera (JB):                75.18\n",
       "Prob(Q):                              0.81   Prob(JB):                         0.00\n",
       "Heteroskedasticity (H):               0.76   Skew:                            -0.79\n",
       "Prob(H) (two-sided):                  0.44   Kurtosis:                         6.97\n",
       "===================================================================================\n",
       "\n",
       "Warnings:\n",
       "[1] Covariance matrix calculated using the outer product of gradients (complex-step).\n",
       "\"\"\""
      ]
     },
     "execution_count": 48,
     "metadata": {},
     "output_type": "execute_result"
    }
   ],
   "source": [
    "arima = ARIMA(store_train.demand.to_numpy(),\n",
    "             order=(1,1,1))\n",
    "\n",
    "arima_model = arima.fit()\n",
    "\n",
    "arima_model.summary()"
   ]
  },
  {
   "cell_type": "markdown",
   "id": "35dce0cf",
   "metadata": {},
   "source": [
    "### forecasting and accuracy"
   ]
  },
  {
   "cell_type": "code",
   "execution_count": 50,
   "id": "bd238d6f",
   "metadata": {},
   "outputs": [
    {
     "data": {
      "text/plain": [
       "array([17.25076347, 16.12611976, 15.66605623, 15.47785577, 15.40086769,\n",
       "       15.36937379, 15.35649043, 15.35122017, 15.34906424, 15.3481823 ,\n",
       "       15.34782152, 15.34767394, 15.34761356, 15.34758887, 15.34757876])"
      ]
     },
     "execution_count": 50,
     "metadata": {},
     "output_type": "execute_result"
    }
   ],
   "source": [
    "store_predict = arima_model.forecast(steps=15)\n",
    "\n",
    "store_predict"
   ]
  },
  {
   "cell_type": "code",
   "execution_count": 51,
   "id": "6cf83df8",
   "metadata": {},
   "outputs": [
    {
     "data": {
      "text/plain": [
       "24.12"
      ]
     },
     "execution_count": 51,
     "metadata": {},
     "output_type": "execute_result"
    }
   ],
   "source": [
    "get_MAPE(store_df.demand[100:], store_predict)"
   ]
  },
  {
   "cell_type": "code",
   "execution_count": null,
   "id": "3d8e9051",
   "metadata": {},
   "outputs": [],
   "source": []
  }
 ],
 "metadata": {
  "kernelspec": {
   "display_name": "Python 3 (ipykernel)",
   "language": "python",
   "name": "python3"
  },
  "language_info": {
   "codemirror_mode": {
    "name": "ipython",
    "version": 3
   },
   "file_extension": ".py",
   "mimetype": "text/x-python",
   "name": "python",
   "nbconvert_exporter": "python",
   "pygments_lexer": "ipython3",
   "version": "3.9.12"
  }
 },
 "nbformat": 4,
 "nbformat_minor": 5
}
