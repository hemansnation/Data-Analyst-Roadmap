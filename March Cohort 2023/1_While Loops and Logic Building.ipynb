{
 "cells": [
  {
   "cell_type": "markdown",
   "id": "dfbc28de",
   "metadata": {},
   "source": [
    "# While Loop"
   ]
  },
  {
   "cell_type": "code",
   "execution_count": 2,
   "id": "c1f425e3",
   "metadata": {},
   "outputs": [
    {
     "name": "stdout",
     "output_type": "stream",
     "text": [
      "Himanshu\n",
      "Himanshu\n"
     ]
    }
   ],
   "source": [
    "print(\"Himanshu\")\n",
    "print(\"Himanshu\")"
   ]
  },
  {
   "cell_type": "code",
   "execution_count": 4,
   "id": "55a46f9f",
   "metadata": {},
   "outputs": [
    {
     "name": "stdout",
     "output_type": "stream",
     "text": [
      "True\n",
      "False\n"
     ]
    }
   ],
   "source": [
    "i = 1\n",
    "\n",
    "print(i <= 5)\n",
    "\n",
    "print(i >= 5)"
   ]
  },
  {
   "cell_type": "code",
   "execution_count": 5,
   "id": "7a204214",
   "metadata": {},
   "outputs": [
    {
     "name": "stdout",
     "output_type": "stream",
     "text": [
      "Himanshu\n",
      "Himanshu\n",
      "Himanshu\n",
      "Himanshu\n",
      "Himanshu\n"
     ]
    }
   ],
   "source": [
    "i = 1\n",
    "\n",
    "while i <= 5 :\n",
    "    print(\"Himanshu\")\n",
    "    i = i + 1        # i = 1, 2, 3, 4, 5, 6"
   ]
  },
  {
   "cell_type": "code",
   "execution_count": 6,
   "id": "b5ef4f72",
   "metadata": {},
   "outputs": [
    {
     "name": "stdout",
     "output_type": "stream",
     "text": [
      "Himanshu\n",
      "Himanshu\n",
      "Himanshu\n",
      "Himanshu\n",
      "Himanshu\n",
      "Himanshu\n",
      "Himanshu\n",
      "Himanshu\n",
      "Himanshu\n",
      "Himanshu\n"
     ]
    }
   ],
   "source": [
    "i = 1\n",
    "\n",
    "while i <= 10 :\n",
    "    print(\"Himanshu\")\n",
    "    i = i + 1"
   ]
  },
  {
   "cell_type": "code",
   "execution_count": 7,
   "id": "a3fc06bd",
   "metadata": {},
   "outputs": [
    {
     "name": "stdout",
     "output_type": "stream",
     "text": [
      "1\n",
      "2\n",
      "3\n",
      "4\n",
      "5\n"
     ]
    }
   ],
   "source": [
    "i = 1\n",
    "\n",
    "while i <= 5 :\n",
    "    print(i)\n",
    "    i = i + 1"
   ]
  },
  {
   "cell_type": "code",
   "execution_count": null,
   "id": "2b2a54cb",
   "metadata": {},
   "outputs": [],
   "source": [
    "1\n",
    "2\n",
    "3\n",
    "4\n",
    "5\n",
    "6\n",
    "7\n",
    "8\n",
    "9\n",
    "10"
   ]
  },
  {
   "cell_type": "code",
   "execution_count": 8,
   "id": "9b83ffab",
   "metadata": {},
   "outputs": [
    {
     "name": "stdout",
     "output_type": "stream",
     "text": [
      "1\n",
      "2\n",
      "3\n",
      "4\n",
      "5\n",
      "6\n",
      "7\n",
      "8\n",
      "9\n",
      "10\n"
     ]
    }
   ],
   "source": [
    "i = 1\n",
    "\n",
    "while i <= 10:\n",
    "    print(i)\n",
    "    i = i + 1"
   ]
  },
  {
   "cell_type": "code",
   "execution_count": 9,
   "id": "9522e499",
   "metadata": {},
   "outputs": [
    {
     "name": "stdout",
     "output_type": "stream",
     "text": [
      "Hello\n",
      "World\n"
     ]
    }
   ],
   "source": [
    "print(\"Hello\")\n",
    "print(\"World\")"
   ]
  },
  {
   "cell_type": "code",
   "execution_count": 10,
   "id": "dd5d35e6",
   "metadata": {},
   "outputs": [
    {
     "name": "stdout",
     "output_type": "stream",
     "text": [
      "Hello\n",
      "World\n"
     ]
    }
   ],
   "source": [
    "print(\"Hello\", end='\\n')\n",
    "print(\"World\")"
   ]
  },
  {
   "cell_type": "code",
   "execution_count": 11,
   "id": "c54de4e2",
   "metadata": {},
   "outputs": [
    {
     "name": "stdout",
     "output_type": "stream",
     "text": [
      "Hello+World\n"
     ]
    }
   ],
   "source": [
    "print(\"Hello\", end='+')\n",
    "print(\"World\")"
   ]
  },
  {
   "cell_type": "code",
   "execution_count": 12,
   "id": "54a31434",
   "metadata": {},
   "outputs": [
    {
     "name": "stdout",
     "output_type": "stream",
     "text": [
      "Hello World\n"
     ]
    }
   ],
   "source": [
    "print(\"Hello\", end=' ')\n",
    "print(\"World\")"
   ]
  },
  {
   "cell_type": "code",
   "execution_count": 13,
   "id": "b4f03f6d",
   "metadata": {},
   "outputs": [
    {
     "name": "stdout",
     "output_type": "stream",
     "text": [
      "HelloWorld\n"
     ]
    }
   ],
   "source": [
    "print(\"Hello\", end='')\n",
    "print(\"World\")"
   ]
  },
  {
   "cell_type": "code",
   "execution_count": 14,
   "id": "2a48a921",
   "metadata": {},
   "outputs": [
    {
     "name": "stdout",
     "output_type": "stream",
     "text": [
      "Hello@World\n"
     ]
    }
   ],
   "source": [
    "print(\"Hello\", end='@')\n",
    "print(\"World\")"
   ]
  },
  {
   "cell_type": "code",
   "execution_count": 15,
   "id": "1357e71d",
   "metadata": {},
   "outputs": [
    {
     "name": "stdout",
     "output_type": "stream",
     "text": [
      "Hello@World$"
     ]
    }
   ],
   "source": [
    "print(\"Hello\", end='@')\n",
    "print(\"World\", end='$')"
   ]
  },
  {
   "cell_type": "code",
   "execution_count": null,
   "id": "f48834ba",
   "metadata": {},
   "outputs": [],
   "source": [
    "1  2  3  4  5  6  7  8  9  10"
   ]
  },
  {
   "cell_type": "code",
   "execution_count": 16,
   "id": "1c74034c",
   "metadata": {},
   "outputs": [
    {
     "name": "stdout",
     "output_type": "stream",
     "text": [
      "1  2  3  4  5  6  7  8  9  10  "
     ]
    }
   ],
   "source": [
    "i = 1\n",
    "\n",
    "while i <= 10:\n",
    "    print(i, end='  ')\n",
    "    i = i + 1"
   ]
  },
  {
   "cell_type": "code",
   "execution_count": null,
   "id": "0649f1ee",
   "metadata": {},
   "outputs": [],
   "source": [
    "1  4  9  16  25  36  49  64  81  100"
   ]
  },
  {
   "cell_type": "code",
   "execution_count": 17,
   "id": "9bb2cd28",
   "metadata": {},
   "outputs": [
    {
     "name": "stdout",
     "output_type": "stream",
     "text": [
      "30\n",
      "10\n"
     ]
    }
   ],
   "source": [
    "a = 10\n",
    "\n",
    "print(a*3)\n",
    "\n",
    "print(a)\n",
    "\n",
    "# a = a * 3"
   ]
  },
  {
   "cell_type": "code",
   "execution_count": 18,
   "id": "67f5a9b8",
   "metadata": {},
   "outputs": [
    {
     "name": "stdout",
     "output_type": "stream",
     "text": [
      "1  4  9  16  25  36  49  64  81  100  "
     ]
    }
   ],
   "source": [
    "i = 1\n",
    "\n",
    "while i <= 10:\n",
    "    print(i*i, end='  ')\n",
    "    i = i + 1"
   ]
  },
  {
   "cell_type": "markdown",
   "id": "2ad2e158",
   "metadata": {},
   "source": [
    "**Write a program to enter 5 values from user and print them.**"
   ]
  },
  {
   "cell_type": "code",
   "execution_count": 19,
   "id": "aeee4fe6",
   "metadata": {},
   "outputs": [
    {
     "name": "stdout",
     "output_type": "stream",
     "text": [
      "Enter your number: 10\n",
      "10\n",
      "Enter your number: 20\n",
      "20\n",
      "Enter your number: 30\n",
      "30\n",
      "Enter your number: 40\n",
      "40\n",
      "Enter your number: 50\n",
      "50\n"
     ]
    }
   ],
   "source": [
    "i = 1\n",
    "\n",
    "while i <= 5:\n",
    "    a = input(\"Enter your number: \")\n",
    "    \n",
    "    print(a)\n",
    "    \n",
    "    i = i + 1"
   ]
  },
  {
   "cell_type": "markdown",
   "id": "3773b36f",
   "metadata": {},
   "source": [
    "**Write a program to enter a number from user and print reverse of it.**"
   ]
  },
  {
   "cell_type": "code",
   "execution_count": null,
   "id": "34362203",
   "metadata": {},
   "outputs": [],
   "source": [
    "153\n",
    "\n",
    "351"
   ]
  },
  {
   "cell_type": "code",
   "execution_count": 20,
   "id": "3dcb3a2f",
   "metadata": {},
   "outputs": [
    {
     "data": {
      "text/plain": [
       "1"
      ]
     },
     "execution_count": 20,
     "metadata": {},
     "output_type": "execute_result"
    }
   ],
   "source": [
    "7 % 2  # return reminder"
   ]
  },
  {
   "cell_type": "code",
   "execution_count": 21,
   "id": "42cfdbf1",
   "metadata": {},
   "outputs": [
    {
     "data": {
      "text/plain": [
       "3.5"
      ]
     },
     "execution_count": 21,
     "metadata": {},
     "output_type": "execute_result"
    }
   ],
   "source": [
    "7 / 2"
   ]
  },
  {
   "cell_type": "code",
   "execution_count": 22,
   "id": "885d87d3",
   "metadata": {},
   "outputs": [
    {
     "data": {
      "text/plain": [
       "3"
      ]
     },
     "execution_count": 22,
     "metadata": {},
     "output_type": "execute_result"
    }
   ],
   "source": [
    "7 // 2"
   ]
  },
  {
   "cell_type": "code",
   "execution_count": 24,
   "id": "d7cbb652",
   "metadata": {},
   "outputs": [
    {
     "data": {
      "text/plain": [
       "3"
      ]
     },
     "execution_count": 24,
     "metadata": {},
     "output_type": "execute_result"
    }
   ],
   "source": [
    "153 % 10"
   ]
  },
  {
   "cell_type": "code",
   "execution_count": null,
   "id": "59f14345",
   "metadata": {},
   "outputs": [],
   "source": [
    " x   % 10 = z\n",
    "153  % 10 = 3\n",
    "153 // 10 = 15\n",
    "\n",
    "15  % 10 = 5\n",
    "15 // 10 = 1\n",
    "\n",
    "1  %  10 = 1\n",
    "1  // 10 = 0"
   ]
  },
  {
   "cell_type": "code",
   "execution_count": 26,
   "id": "f759b069",
   "metadata": {},
   "outputs": [
    {
     "name": "stdout",
     "output_type": "stream",
     "text": [
      "Enter a number: 10\n",
      "10\n",
      "<class 'int'>\n"
     ]
    }
   ],
   "source": [
    "n = int(input(\"Enter a number: \"))\n",
    "\n",
    "print(n)\n",
    "\n",
    "print(type(n))"
   ]
  },
  {
   "cell_type": "code",
   "execution_count": 28,
   "id": "6fc34b04",
   "metadata": {},
   "outputs": [
    {
     "name": "stdout",
     "output_type": "stream",
     "text": [
      "Enter a Number: 12345\n",
      "54321"
     ]
    }
   ],
   "source": [
    "n = int(input(\"Enter a Number: \"))\n",
    "\n",
    "while n > 0:\n",
    "    r = n % 10\n",
    "    print(r, end='')   # 351\n",
    "    n = n // 10        # n = 153, 15, 1"
   ]
  },
  {
   "cell_type": "markdown",
   "id": "5d585434",
   "metadata": {},
   "source": [
    "**Write a program to enter a number from user and print sum of its individual digits**"
   ]
  },
  {
   "cell_type": "code",
   "execution_count": null,
   "id": "aaffcb41",
   "metadata": {},
   "outputs": [],
   "source": [
    "153\n",
    "\n",
    "1 + 5 + 3\n",
    "\n",
    "9\n",
    "\n",
    "\n",
    "0  s\n",
    "3  s + 3 = 3\n",
    "5  s + 5 = 8\n",
    "1  s + 1 = 9"
   ]
  },
  {
   "cell_type": "code",
   "execution_count": 30,
   "id": "1b2f5fbb",
   "metadata": {},
   "outputs": [
    {
     "name": "stdout",
     "output_type": "stream",
     "text": [
      "Enter a Number: 2345\n",
      "Sum = 14\n"
     ]
    }
   ],
   "source": [
    "n = int(input(\"Enter a Number: \"))\n",
    "s = 0\n",
    "\n",
    "while n > 0:\n",
    "    r = n % 10\n",
    "    s = s + r     # s = 0, 3, 8, 9\n",
    "    n = n // 10\n",
    "\n",
    "print(\"Sum =\", s)"
   ]
  },
  {
   "cell_type": "markdown",
   "id": "88e40510",
   "metadata": {},
   "source": [
    "**Write a program to enter a number from user and check if it palindrome or not**"
   ]
  },
  {
   "cell_type": "code",
   "execution_count": null,
   "id": "643c209d",
   "metadata": {},
   "outputs": [],
   "source": [
    "121\n",
    "\n",
    "121\n",
    "\n",
    "153 = 351  not a palindrome"
   ]
  },
  {
   "cell_type": "code",
   "execution_count": 34,
   "id": "432cbedf",
   "metadata": {},
   "outputs": [
    {
     "name": "stdout",
     "output_type": "stream",
     "text": [
      "Enter a Number: 153\n",
      "351\n",
      "702\n"
     ]
    }
   ],
   "source": [
    "n = int(input(\"Enter a Number: \"))\n",
    "s = 0\n",
    "\n",
    "while n > 0:\n",
    "    r = n % 10\n",
    "    s = s * 10 + r    # s = 0, 3, 35, 351\n",
    "    n = n // 10\n",
    "\n",
    "print(s)\n",
    "print(s * 2)"
   ]
  },
  {
   "cell_type": "code",
   "execution_count": 40,
   "id": "59333ae3",
   "metadata": {},
   "outputs": [
    {
     "name": "stdout",
     "output_type": "stream",
     "text": [
      "Enter a Number: 121\n",
      "Palindrome\n"
     ]
    }
   ],
   "source": [
    "n = int(input(\"Enter a Number: \"))\n",
    "t = n\n",
    "s = 0\n",
    "\n",
    "while n > 0:\n",
    "    r = n % 10\n",
    "    s = s * 10 + r    # s = 0, 3, 35, 351\n",
    "    n = n // 10\n",
    "\n",
    "if s == t:\n",
    "    print(\"Palindrome\")\n",
    "else:\n",
    "    print(\"Not a Palindrome\")"
   ]
  },
  {
   "cell_type": "code",
   "execution_count": 38,
   "id": "dc812c1e",
   "metadata": {},
   "outputs": [
    {
     "data": {
      "text/plain": [
       "False"
      ]
     },
     "execution_count": 38,
     "metadata": {},
     "output_type": "execute_result"
    }
   ],
   "source": [
    "10 == 11"
   ]
  },
  {
   "cell_type": "markdown",
   "id": "28edc5f6",
   "metadata": {},
   "source": [
    "**Write a program to enter a number from user and check if it is armstrong or not**"
   ]
  },
  {
   "cell_type": "code",
   "execution_count": null,
   "id": "b78ef4cd",
   "metadata": {},
   "outputs": [],
   "source": [
    "153\n",
    "\n",
    "cube(1) + cube(5) + cube(3) = 153\n",
    "\n",
    "370\n",
    "\n",
    "371"
   ]
  },
  {
   "cell_type": "code",
   "execution_count": 44,
   "id": "de686ea3",
   "metadata": {},
   "outputs": [
    {
     "name": "stdout",
     "output_type": "stream",
     "text": [
      "Enter a Number: 371\n",
      "Armstrong Number\n"
     ]
    }
   ],
   "source": [
    "n = int(input(\"Enter a Number: \"))\n",
    "t = n\n",
    "s = 0\n",
    "\n",
    "while n > 0:\n",
    "    r = n % 10\n",
    "    s = s + r*r*r\n",
    "    n = n // 10\n",
    "\n",
    "if s == t:\n",
    "    print(\"Armstrong Number\")\n",
    "else:\n",
    "    print(\"Not an Armstrong Number\")"
   ]
  },
  {
   "cell_type": "markdown",
   "id": "b4fc183f",
   "metadata": {},
   "source": [
    "**Write a program to enter a number from user and print its individual digits on seperate line.**"
   ]
  },
  {
   "cell_type": "code",
   "execution_count": null,
   "id": "75092737",
   "metadata": {},
   "outputs": [],
   "source": [
    "153\n",
    "\n",
    "1\n",
    "5\n",
    "3"
   ]
  },
  {
   "cell_type": "code",
   "execution_count": 45,
   "id": "56d6ec0d",
   "metadata": {},
   "outputs": [
    {
     "name": "stdout",
     "output_type": "stream",
     "text": [
      "Enter a Number: 153\n",
      "3\n",
      "5\n",
      "1\n"
     ]
    }
   ],
   "source": [
    "n = int(input(\"Enter a Number: \"))\n",
    "s = 0\n",
    "\n",
    "while n > 0:\n",
    "    r = n % 10\n",
    "    print(r)\n",
    "    n = n // 10\n"
   ]
  },
  {
   "cell_type": "code",
   "execution_count": 47,
   "id": "e13e7967",
   "metadata": {},
   "outputs": [
    {
     "name": "stdout",
     "output_type": "stream",
     "text": [
      "Enter a Number: 12345\n",
      "1\n",
      "2\n",
      "3\n",
      "4\n",
      "5\n"
     ]
    }
   ],
   "source": [
    "n = int(input(\"Enter a Number: \"))\n",
    "s = 0\n",
    "\n",
    "while n > 0:\n",
    "    r = n % 10\n",
    "    s = s * 10 + r\n",
    "    n = n // 10\n",
    "\n",
    "# s = 351\n",
    "\n",
    "while s > 0:\n",
    "    r = s % 10\n",
    "    print(r)\n",
    "    s = s // 10"
   ]
  },
  {
   "cell_type": "code",
   "execution_count": null,
   "id": "4864ff19",
   "metadata": {},
   "outputs": [],
   "source": []
  }
 ],
 "metadata": {
  "kernelspec": {
   "display_name": "Python 3 (ipykernel)",
   "language": "python",
   "name": "python3"
  },
  "language_info": {
   "codemirror_mode": {
    "name": "ipython",
    "version": 3
   },
   "file_extension": ".py",
   "mimetype": "text/x-python",
   "name": "python",
   "nbconvert_exporter": "python",
   "pygments_lexer": "ipython3",
   "version": "3.9.12"
  }
 },
 "nbformat": 4,
 "nbformat_minor": 5
}
