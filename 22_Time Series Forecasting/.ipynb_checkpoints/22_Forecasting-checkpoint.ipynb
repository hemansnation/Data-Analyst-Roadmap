{
 "cells": [
  {
   "cell_type": "markdown",
   "id": "12c7b612",
   "metadata": {},
   "source": [
    "# Time series data and forecasting\n",
    "\n",
    "components\n",
    "- trend\n",
    "- seasonality\n",
    "- cyclical \n",
    "- random\n",
    "\n",
    "Models/ forecasting techniques\n",
    "- AR\n",
    "- MA\n",
    "- ARMA\n",
    "- ARIMA"
   ]
  },
  {
   "cell_type": "code",
   "execution_count": null,
   "id": "861324fd",
   "metadata": {},
   "outputs": [],
   "source": [
    "time series data -> random variable\n",
    "- single variable (demand of the product at time t) univariate time series data\n",
    "- multivariate time series data -> \n",
    "\n",
    "4 components\n",
    "- trend\n",
    "- seasonal\n",
    "- cyclical\n",
    "- irregular"
   ]
  },
  {
   "cell_type": "markdown",
   "id": "c3f8bc6b",
   "metadata": {},
   "source": [
    "## Moving Average\n"
   ]
  },
  {
   "cell_type": "code",
   "execution_count": 2,
   "id": "dacb8d91",
   "metadata": {},
   "outputs": [
    {
     "data": {
      "text/html": [
       "<div>\n",
       "<style scoped>\n",
       "    .dataframe tbody tr th:only-of-type {\n",
       "        vertical-align: middle;\n",
       "    }\n",
       "\n",
       "    .dataframe tbody tr th {\n",
       "        vertical-align: top;\n",
       "    }\n",
       "\n",
       "    .dataframe thead th {\n",
       "        text-align: right;\n",
       "    }\n",
       "</style>\n",
       "<table border=\"1\" class=\"dataframe\">\n",
       "  <thead>\n",
       "    <tr style=\"text-align: right;\">\n",
       "      <th></th>\n",
       "      <th>Month</th>\n",
       "      <th>Sale Quantity</th>\n",
       "      <th>Promotion Expenses</th>\n",
       "      <th>Competition Promotion</th>\n",
       "    </tr>\n",
       "  </thead>\n",
       "  <tbody>\n",
       "    <tr>\n",
       "      <th>0</th>\n",
       "      <td>1</td>\n",
       "      <td>3002666</td>\n",
       "      <td>105</td>\n",
       "      <td>1</td>\n",
       "    </tr>\n",
       "    <tr>\n",
       "      <th>1</th>\n",
       "      <td>2</td>\n",
       "      <td>4401553</td>\n",
       "      <td>145</td>\n",
       "      <td>0</td>\n",
       "    </tr>\n",
       "    <tr>\n",
       "      <th>2</th>\n",
       "      <td>3</td>\n",
       "      <td>3205279</td>\n",
       "      <td>118</td>\n",
       "      <td>1</td>\n",
       "    </tr>\n",
       "    <tr>\n",
       "      <th>3</th>\n",
       "      <td>4</td>\n",
       "      <td>4245349</td>\n",
       "      <td>130</td>\n",
       "      <td>0</td>\n",
       "    </tr>\n",
       "    <tr>\n",
       "      <th>4</th>\n",
       "      <td>5</td>\n",
       "      <td>3001940</td>\n",
       "      <td>98</td>\n",
       "      <td>1</td>\n",
       "    </tr>\n",
       "    <tr>\n",
       "      <th>5</th>\n",
       "      <td>6</td>\n",
       "      <td>4377766</td>\n",
       "      <td>156</td>\n",
       "      <td>0</td>\n",
       "    </tr>\n",
       "    <tr>\n",
       "      <th>6</th>\n",
       "      <td>7</td>\n",
       "      <td>2798343</td>\n",
       "      <td>98</td>\n",
       "      <td>1</td>\n",
       "    </tr>\n",
       "    <tr>\n",
       "      <th>7</th>\n",
       "      <td>8</td>\n",
       "      <td>4303668</td>\n",
       "      <td>144</td>\n",
       "      <td>0</td>\n",
       "    </tr>\n",
       "    <tr>\n",
       "      <th>8</th>\n",
       "      <td>9</td>\n",
       "      <td>2958185</td>\n",
       "      <td>112</td>\n",
       "      <td>1</td>\n",
       "    </tr>\n",
       "    <tr>\n",
       "      <th>9</th>\n",
       "      <td>10</td>\n",
       "      <td>3623386</td>\n",
       "      <td>120</td>\n",
       "      <td>0</td>\n",
       "    </tr>\n",
       "  </tbody>\n",
       "</table>\n",
       "</div>"
      ],
      "text/plain": [
       "   Month  Sale Quantity  Promotion Expenses  Competition Promotion\n",
       "0      1        3002666                 105                      1\n",
       "1      2        4401553                 145                      0\n",
       "2      3        3205279                 118                      1\n",
       "3      4        4245349                 130                      0\n",
       "4      5        3001940                  98                      1\n",
       "5      6        4377766                 156                      0\n",
       "6      7        2798343                  98                      1\n",
       "7      8        4303668                 144                      0\n",
       "8      9        2958185                 112                      1\n",
       "9     10        3623386                 120                      0"
      ]
     },
     "execution_count": 2,
     "metadata": {},
     "output_type": "execute_result"
    }
   ],
   "source": [
    "import pandas as pd\n",
    "\n",
    "df = pd.read_csv('wsb.csv')\n",
    "\n",
    "df.head(10)"
   ]
  },
  {
   "cell_type": "code",
   "execution_count": 3,
   "id": "fecf8a63",
   "metadata": {},
   "outputs": [],
   "source": [
    "import matplotlib.pyplot as plt\n",
    "import seaborn as sns"
   ]
  },
  {
   "cell_type": "code",
   "execution_count": 4,
   "id": "b1c6bf16",
   "metadata": {},
   "outputs": [
    {
     "data": {
      "text/plain": [
       "[<matplotlib.lines.Line2D at 0x1fa4e7c7730>]"
      ]
     },
     "execution_count": 4,
     "metadata": {},
     "output_type": "execute_result"
    },
    {
     "data": {
      "image/png": "[encoded data removed]",
      "text/plain": [
       "<Figure size 720x288 with 1 Axes>"
      ]
     },
     "metadata": {
      "needs_background": "light"
     },
     "output_type": "display_data"
    }
   ],
   "source": [
    "plt.figure(figsize=(10,4))\n",
    "\n",
    "plt.xlabel(\"Months\")\n",
    "plt.ylabel(\"Quantity\")\n",
    "\n",
    "plt.plot(df['Sale Quantity'])"
   ]
  },
  {
   "cell_type": "code",
   "execution_count": 5,
   "id": "174ee2cc",
   "metadata": {},
   "outputs": [
    {
     "name": "stdout",
     "output_type": "stream",
     "text": [
      "<class 'pandas.core.frame.DataFrame'>\n",
      "RangeIndex: 48 entries, 0 to 47\n",
      "Data columns (total 4 columns):\n",
      " #   Column                 Non-Null Count  Dtype\n",
      "---  ------                 --------------  -----\n",
      " 0   Month                  48 non-null     int64\n",
      " 1   Sale Quantity          48 non-null     int64\n",
      " 2   Promotion Expenses     48 non-null     int64\n",
      " 3   Competition Promotion  48 non-null     int64\n",
      "dtypes: int64(4)\n",
      "memory usage: 1.6 KB\n"
     ]
    }
   ],
   "source": [
    "df.info()"
   ]
  },
  {
   "cell_type": "code",
   "execution_count": 6,
   "id": "c6f568ae",
   "metadata": {},
   "outputs": [],
   "source": [
    "df['moving_avg_12'] = df['Sale Quantity'].rolling(window=12).mean().shift(1)"
   ]
  },
  {
   "cell_type": "code",
   "execution_count": 7,
   "id": "c367ee45",
   "metadata": {},
   "outputs": [
    {
     "data": {
      "text/html": [
       "<div>\n",
       "<style scoped>\n",
       "    .dataframe tbody tr th:only-of-type {\n",
       "        vertical-align: middle;\n",
       "    }\n",
       "\n",
       "    .dataframe tbody tr th {\n",
       "        vertical-align: top;\n",
       "    }\n",
       "\n",
       "    .dataframe thead th {\n",
       "        text-align: right;\n",
       "    }\n",
       "</style>\n",
       "<table border=\"1\" class=\"dataframe\">\n",
       "  <thead>\n",
       "    <tr style=\"text-align: right;\">\n",
       "      <th></th>\n",
       "      <th>Sale Quantity</th>\n",
       "      <th>moving_avg_12</th>\n",
       "    </tr>\n",
       "  </thead>\n",
       "  <tbody>\n",
       "    <tr>\n",
       "      <th>0</th>\n",
       "      <td>3002666</td>\n",
       "      <td>NaN</td>\n",
       "    </tr>\n",
       "    <tr>\n",
       "      <th>1</th>\n",
       "      <td>4401553</td>\n",
       "      <td>NaN</td>\n",
       "    </tr>\n",
       "    <tr>\n",
       "      <th>2</th>\n",
       "      <td>3205279</td>\n",
       "      <td>NaN</td>\n",
       "    </tr>\n",
       "    <tr>\n",
       "      <th>3</th>\n",
       "      <td>4245349</td>\n",
       "      <td>NaN</td>\n",
       "    </tr>\n",
       "    <tr>\n",
       "      <th>4</th>\n",
       "      <td>3001940</td>\n",
       "      <td>NaN</td>\n",
       "    </tr>\n",
       "    <tr>\n",
       "      <th>5</th>\n",
       "      <td>4377766</td>\n",
       "      <td>NaN</td>\n",
       "    </tr>\n",
       "    <tr>\n",
       "      <th>6</th>\n",
       "      <td>2798343</td>\n",
       "      <td>NaN</td>\n",
       "    </tr>\n",
       "    <tr>\n",
       "      <th>7</th>\n",
       "      <td>4303668</td>\n",
       "      <td>NaN</td>\n",
       "    </tr>\n",
       "    <tr>\n",
       "      <th>8</th>\n",
       "      <td>2958185</td>\n",
       "      <td>NaN</td>\n",
       "    </tr>\n",
       "    <tr>\n",
       "      <th>9</th>\n",
       "      <td>3623386</td>\n",
       "      <td>NaN</td>\n",
       "    </tr>\n",
       "    <tr>\n",
       "      <th>10</th>\n",
       "      <td>3279115</td>\n",
       "      <td>NaN</td>\n",
       "    </tr>\n",
       "    <tr>\n",
       "      <th>11</th>\n",
       "      <td>2843766</td>\n",
       "      <td>NaN</td>\n",
       "    </tr>\n",
       "    <tr>\n",
       "      <th>12</th>\n",
       "      <td>4447581</td>\n",
       "      <td>3503418.00</td>\n",
       "    </tr>\n",
       "    <tr>\n",
       "      <th>13</th>\n",
       "      <td>3675305</td>\n",
       "      <td>3623827.58</td>\n",
       "    </tr>\n",
       "    <tr>\n",
       "      <th>14</th>\n",
       "      <td>3477156</td>\n",
       "      <td>3563306.92</td>\n",
       "    </tr>\n",
       "    <tr>\n",
       "      <th>15</th>\n",
       "      <td>3720794</td>\n",
       "      <td>3585963.33</td>\n",
       "    </tr>\n",
       "    <tr>\n",
       "      <th>16</th>\n",
       "      <td>3834086</td>\n",
       "      <td>3542250.42</td>\n",
       "    </tr>\n",
       "    <tr>\n",
       "      <th>17</th>\n",
       "      <td>3888913</td>\n",
       "      <td>3611595.92</td>\n",
       "    </tr>\n",
       "    <tr>\n",
       "      <th>18</th>\n",
       "      <td>3871342</td>\n",
       "      <td>3570858.17</td>\n",
       "    </tr>\n",
       "    <tr>\n",
       "      <th>19</th>\n",
       "      <td>3679862</td>\n",
       "      <td>3660274.75</td>\n",
       "    </tr>\n",
       "    <tr>\n",
       "      <th>20</th>\n",
       "      <td>3358242</td>\n",
       "      <td>3608290.92</td>\n",
       "    </tr>\n",
       "    <tr>\n",
       "      <th>21</th>\n",
       "      <td>3361488</td>\n",
       "      <td>3641629.00</td>\n",
       "    </tr>\n",
       "    <tr>\n",
       "      <th>22</th>\n",
       "      <td>3670362</td>\n",
       "      <td>3619804.17</td>\n",
       "    </tr>\n",
       "    <tr>\n",
       "      <th>23</th>\n",
       "      <td>3123966</td>\n",
       "      <td>3652408.08</td>\n",
       "    </tr>\n",
       "    <tr>\n",
       "      <th>24</th>\n",
       "      <td>4634047</td>\n",
       "      <td>3675758.08</td>\n",
       "    </tr>\n",
       "    <tr>\n",
       "      <th>25</th>\n",
       "      <td>3772879</td>\n",
       "      <td>3691296.92</td>\n",
       "    </tr>\n",
       "    <tr>\n",
       "      <th>26</th>\n",
       "      <td>3187110</td>\n",
       "      <td>3699428.08</td>\n",
       "    </tr>\n",
       "    <tr>\n",
       "      <th>27</th>\n",
       "      <td>3093683</td>\n",
       "      <td>3675257.58</td>\n",
       "    </tr>\n",
       "    <tr>\n",
       "      <th>28</th>\n",
       "      <td>4557363</td>\n",
       "      <td>3622998.33</td>\n",
       "    </tr>\n",
       "    <tr>\n",
       "      <th>29</th>\n",
       "      <td>3816956</td>\n",
       "      <td>3683271.42</td>\n",
       "    </tr>\n",
       "    <tr>\n",
       "      <th>30</th>\n",
       "      <td>4410887</td>\n",
       "      <td>3677275.00</td>\n",
       "    </tr>\n",
       "    <tr>\n",
       "      <th>31</th>\n",
       "      <td>3694713</td>\n",
       "      <td>3722237.08</td>\n",
       "    </tr>\n",
       "    <tr>\n",
       "      <th>32</th>\n",
       "      <td>3822669</td>\n",
       "      <td>3723474.67</td>\n",
       "    </tr>\n",
       "    <tr>\n",
       "      <th>33</th>\n",
       "      <td>3689286</td>\n",
       "      <td>3762176.92</td>\n",
       "    </tr>\n",
       "    <tr>\n",
       "      <th>34</th>\n",
       "      <td>3728654</td>\n",
       "      <td>3789493.42</td>\n",
       "    </tr>\n",
       "    <tr>\n",
       "      <th>35</th>\n",
       "      <td>4732677</td>\n",
       "      <td>3794351.08</td>\n",
       "    </tr>\n",
       "    <tr>\n",
       "      <th>36</th>\n",
       "      <td>3216483</td>\n",
       "      <td>3928410.33</td>\n",
       "    </tr>\n",
       "    <tr>\n",
       "      <th>37</th>\n",
       "      <td>3453239</td>\n",
       "      <td>3810280.00</td>\n",
       "    </tr>\n",
       "    <tr>\n",
       "      <th>38</th>\n",
       "      <td>5431651</td>\n",
       "      <td>3783643.33</td>\n",
       "    </tr>\n",
       "    <tr>\n",
       "      <th>39</th>\n",
       "      <td>4241851</td>\n",
       "      <td>3970688.42</td>\n",
       "    </tr>\n",
       "    <tr>\n",
       "      <th>40</th>\n",
       "      <td>3909887</td>\n",
       "      <td>4066369.08</td>\n",
       "    </tr>\n",
       "    <tr>\n",
       "      <th>41</th>\n",
       "      <td>3216438</td>\n",
       "      <td>4012412.75</td>\n",
       "    </tr>\n",
       "    <tr>\n",
       "      <th>42</th>\n",
       "      <td>4222005</td>\n",
       "      <td>3962369.58</td>\n",
       "    </tr>\n",
       "    <tr>\n",
       "      <th>43</th>\n",
       "      <td>3621034</td>\n",
       "      <td>3946629.42</td>\n",
       "    </tr>\n",
       "    <tr>\n",
       "      <th>44</th>\n",
       "      <td>5162201</td>\n",
       "      <td>3940489.50</td>\n",
       "    </tr>\n",
       "    <tr>\n",
       "      <th>45</th>\n",
       "      <td>4627177</td>\n",
       "      <td>4052117.17</td>\n",
       "    </tr>\n",
       "    <tr>\n",
       "      <th>46</th>\n",
       "      <td>4623945</td>\n",
       "      <td>4130274.75</td>\n",
       "    </tr>\n",
       "    <tr>\n",
       "      <th>47</th>\n",
       "      <td>4599368</td>\n",
       "      <td>4204882.33</td>\n",
       "    </tr>\n",
       "  </tbody>\n",
       "</table>\n",
       "</div>"
      ],
      "text/plain": [
       "    Sale Quantity  moving_avg_12\n",
       "0         3002666            NaN\n",
       "1         4401553            NaN\n",
       "2         3205279            NaN\n",
       "3         4245349            NaN\n",
       "4         3001940            NaN\n",
       "5         4377766            NaN\n",
       "6         2798343            NaN\n",
       "7         4303668            NaN\n",
       "8         2958185            NaN\n",
       "9         3623386            NaN\n",
       "10        3279115            NaN\n",
       "11        2843766            NaN\n",
       "12        4447581     3503418.00\n",
       "13        3675305     3623827.58\n",
       "14        3477156     3563306.92\n",
       "15        3720794     3585963.33\n",
       "16        3834086     3542250.42\n",
       "17        3888913     3611595.92\n",
       "18        3871342     3570858.17\n",
       "19        3679862     3660274.75\n",
       "20        3358242     3608290.92\n",
       "21        3361488     3641629.00\n",
       "22        3670362     3619804.17\n",
       "23        3123966     3652408.08\n",
       "24        4634047     3675758.08\n",
       "25        3772879     3691296.92\n",
       "26        3187110     3699428.08\n",
       "27        3093683     3675257.58\n",
       "28        4557363     3622998.33\n",
       "29        3816956     3683271.42\n",
       "30        4410887     3677275.00\n",
       "31        3694713     3722237.08\n",
       "32        3822669     3723474.67\n",
       "33        3689286     3762176.92\n",
       "34        3728654     3789493.42\n",
       "35        4732677     3794351.08\n",
       "36        3216483     3928410.33\n",
       "37        3453239     3810280.00\n",
       "38        5431651     3783643.33\n",
       "39        4241851     3970688.42\n",
       "40        3909887     4066369.08\n",
       "41        3216438     4012412.75\n",
       "42        4222005     3962369.58\n",
       "43        3621034     3946629.42\n",
       "44        5162201     3940489.50\n",
       "45        4627177     4052117.17\n",
       "46        4623945     4130274.75\n",
       "47        4599368     4204882.33"
      ]
     },
     "execution_count": 7,
     "metadata": {},
     "output_type": "execute_result"
    }
   ],
   "source": [
    "pd.set_option('display.float_format', lambda x: '%.2f' % x)\n",
    "\n",
    "df[['Sale Quantity', 'moving_avg_12']]"
   ]
  },
  {
   "cell_type": "code",
   "execution_count": 8,
   "id": "7081bfa8",
   "metadata": {},
   "outputs": [
    {
     "data": {
      "text/html": [
       "<div>\n",
       "<style scoped>\n",
       "    .dataframe tbody tr th:only-of-type {\n",
       "        vertical-align: middle;\n",
       "    }\n",
       "\n",
       "    .dataframe tbody tr th {\n",
       "        vertical-align: top;\n",
       "    }\n",
       "\n",
       "    .dataframe thead th {\n",
       "        text-align: right;\n",
       "    }\n",
       "</style>\n",
       "<table border=\"1\" class=\"dataframe\">\n",
       "  <thead>\n",
       "    <tr style=\"text-align: right;\">\n",
       "      <th></th>\n",
       "      <th>Sale Quantity</th>\n",
       "      <th>moving_avg_12</th>\n",
       "    </tr>\n",
       "  </thead>\n",
       "  <tbody>\n",
       "    <tr>\n",
       "      <th>36</th>\n",
       "      <td>3216483</td>\n",
       "      <td>3928410.33</td>\n",
       "    </tr>\n",
       "    <tr>\n",
       "      <th>37</th>\n",
       "      <td>3453239</td>\n",
       "      <td>3810280.00</td>\n",
       "    </tr>\n",
       "    <tr>\n",
       "      <th>38</th>\n",
       "      <td>5431651</td>\n",
       "      <td>3783643.33</td>\n",
       "    </tr>\n",
       "    <tr>\n",
       "      <th>39</th>\n",
       "      <td>4241851</td>\n",
       "      <td>3970688.42</td>\n",
       "    </tr>\n",
       "    <tr>\n",
       "      <th>40</th>\n",
       "      <td>3909887</td>\n",
       "      <td>4066369.08</td>\n",
       "    </tr>\n",
       "    <tr>\n",
       "      <th>41</th>\n",
       "      <td>3216438</td>\n",
       "      <td>4012412.75</td>\n",
       "    </tr>\n",
       "    <tr>\n",
       "      <th>42</th>\n",
       "      <td>4222005</td>\n",
       "      <td>3962369.58</td>\n",
       "    </tr>\n",
       "    <tr>\n",
       "      <th>43</th>\n",
       "      <td>3621034</td>\n",
       "      <td>3946629.42</td>\n",
       "    </tr>\n",
       "    <tr>\n",
       "      <th>44</th>\n",
       "      <td>5162201</td>\n",
       "      <td>3940489.50</td>\n",
       "    </tr>\n",
       "    <tr>\n",
       "      <th>45</th>\n",
       "      <td>4627177</td>\n",
       "      <td>4052117.17</td>\n",
       "    </tr>\n",
       "    <tr>\n",
       "      <th>46</th>\n",
       "      <td>4623945</td>\n",
       "      <td>4130274.75</td>\n",
       "    </tr>\n",
       "    <tr>\n",
       "      <th>47</th>\n",
       "      <td>4599368</td>\n",
       "      <td>4204882.33</td>\n",
       "    </tr>\n",
       "  </tbody>\n",
       "</table>\n",
       "</div>"
      ],
      "text/plain": [
       "    Sale Quantity  moving_avg_12\n",
       "36        3216483     3928410.33\n",
       "37        3453239     3810280.00\n",
       "38        5431651     3783643.33\n",
       "39        4241851     3970688.42\n",
       "40        3909887     4066369.08\n",
       "41        3216438     4012412.75\n",
       "42        4222005     3962369.58\n",
       "43        3621034     3946629.42\n",
       "44        5162201     3940489.50\n",
       "45        4627177     4052117.17\n",
       "46        4623945     4130274.75\n",
       "47        4599368     4204882.33"
      ]
     },
     "execution_count": 8,
     "metadata": {},
     "output_type": "execute_result"
    }
   ],
   "source": [
    "df[['Sale Quantity', 'moving_avg_12']][36:]"
   ]
  },
  {
   "cell_type": "code",
   "execution_count": 9,
   "id": "ad26c086",
   "metadata": {},
   "outputs": [
    {
     "name": "stderr",
     "output_type": "stream",
     "text": [
      "No artists with labels found to put in legend.  Note that artists whose label start with an underscore are ignored when legend() is called with no argument.\n"
     ]
    },
    {
     "data": {
      "text/plain": [
       "<matplotlib.legend.Legend at 0x1fa51049370>"
      ]
     },
     "execution_count": 9,
     "metadata": {},
     "output_type": "execute_result"
    },
    {
     "data": {
      "image/png": "[encoded data removed]",
      "text/plain": [
       "<Figure size 720x288 with 1 Axes>"
      ]
     },
     "metadata": {
      "needs_background": "light"
     },
     "output_type": "display_data"
    }
   ],
   "source": [
    "plt.figure(figsize=(10,4))\n",
    "\n",
    "plt.xlabel('Months')\n",
    "plt.ylabel('Quantity')\n",
    "\n",
    "plt.plot(df['Sale Quantity'][12:])\n",
    "plt.plot(df['moving_avg_12'][12:], '.')\n",
    "\n",
    "plt.legend()"
   ]
  },
  {
   "cell_type": "code",
   "execution_count": 10,
   "id": "a018f130",
   "metadata": {},
   "outputs": [],
   "source": [
    "# there is an increasing trend in sales quantity over the months"
   ]
  },
  {
   "cell_type": "markdown",
   "id": "613775c8",
   "metadata": {},
   "source": [
    "## Forecast Accurary"
   ]
  },
  {
   "cell_type": "code",
   "execution_count": null,
   "id": "d985e8e1",
   "metadata": {},
   "outputs": [],
   "source": [
    "- RMSE\n",
    "- MAPE"
   ]
  },
  {
   "cell_type": "markdown",
   "id": "94146992",
   "metadata": {},
   "source": [
    "### Mean Absolute Percentage Error"
   ]
  },
  {
   "cell_type": "code",
   "execution_count": 11,
   "id": "dafa7a48",
   "metadata": {},
   "outputs": [],
   "source": [
    "import numpy as np"
   ]
  },
  {
   "cell_type": "code",
   "execution_count": 13,
   "id": "183268aa",
   "metadata": {},
   "outputs": [],
   "source": [
    "def get_MAPE(actual, predicted):\n",
    "    ytrue, ypred = np.array(actual), np.array(predicted)\n",
    "    \n",
    "    return np.round(np.mean(np.abs((actual - predicted) / actual))*100, 2)"
   ]
  },
  {
   "cell_type": "code",
   "execution_count": 14,
   "id": "43515dac",
   "metadata": {},
   "outputs": [
    {
     "data": {
      "text/plain": [
       "14.04"
      ]
     },
     "execution_count": 14,
     "metadata": {},
     "output_type": "execute_result"
    }
   ],
   "source": [
    "get_MAPE(df['Sale Quantity'][36:].values, df['moving_avg_12'][36:].values)"
   ]
  },
  {
   "cell_type": "code",
   "execution_count": 15,
   "id": "2cd8e001",
   "metadata": {},
   "outputs": [
    {
     "data": {
      "text/plain": [
       "734725.8359239782"
      ]
     },
     "execution_count": 15,
     "metadata": {},
     "output_type": "execute_result"
    }
   ],
   "source": [
    "from sklearn.metrics import mean_squared_error\n",
    "\n",
    "np.sqrt(mean_squared_error(df['Sale Quantity'][36:].values,\n",
    "                           df['moving_avg_12'][36:].values))"
   ]
  },
  {
   "cell_type": "markdown",
   "id": "88910119",
   "metadata": {},
   "source": [
    "## Exponential Smoothing"
   ]
  },
  {
   "cell_type": "code",
   "execution_count": 16,
   "id": "06de766f",
   "metadata": {},
   "outputs": [],
   "source": [
    "df['ewm'] = df['Sale Quantity'].ewm(alpha=0.2).mean()"
   ]
  },
  {
   "cell_type": "code",
   "execution_count": 18,
   "id": "d9ad437b",
   "metadata": {},
   "outputs": [],
   "source": [
    "pd.options.display.float_format = '{:.2f}'.format"
   ]
  },
  {
   "cell_type": "code",
   "execution_count": 19,
   "id": "a1a0f4a2",
   "metadata": {},
   "outputs": [
    {
     "data": {
      "text/html": [
       "<div>\n",
       "<style scoped>\n",
       "    .dataframe tbody tr th:only-of-type {\n",
       "        vertical-align: middle;\n",
       "    }\n",
       "\n",
       "    .dataframe tbody tr th {\n",
       "        vertical-align: top;\n",
       "    }\n",
       "\n",
       "    .dataframe thead th {\n",
       "        text-align: right;\n",
       "    }\n",
       "</style>\n",
       "<table border=\"1\" class=\"dataframe\">\n",
       "  <thead>\n",
       "    <tr style=\"text-align: right;\">\n",
       "      <th></th>\n",
       "      <th>Month</th>\n",
       "      <th>Sale Quantity</th>\n",
       "      <th>Promotion Expenses</th>\n",
       "      <th>Competition Promotion</th>\n",
       "      <th>moving_avg_12</th>\n",
       "      <th>ewm</th>\n",
       "    </tr>\n",
       "  </thead>\n",
       "  <tbody>\n",
       "    <tr>\n",
       "      <th>36</th>\n",
       "      <td>37</td>\n",
       "      <td>3216483</td>\n",
       "      <td>121</td>\n",
       "      <td>1</td>\n",
       "      <td>3928410.33</td>\n",
       "      <td>3828234.64</td>\n",
       "    </tr>\n",
       "    <tr>\n",
       "      <th>37</th>\n",
       "      <td>38</td>\n",
       "      <td>3453239</td>\n",
       "      <td>128</td>\n",
       "      <td>0</td>\n",
       "      <td>3810280.00</td>\n",
       "      <td>3753219.93</td>\n",
       "    </tr>\n",
       "    <tr>\n",
       "      <th>38</th>\n",
       "      <td>39</td>\n",
       "      <td>5431651</td>\n",
       "      <td>170</td>\n",
       "      <td>0</td>\n",
       "      <td>3783643.33</td>\n",
       "      <td>4088961.93</td>\n",
       "    </tr>\n",
       "    <tr>\n",
       "      <th>39</th>\n",
       "      <td>40</td>\n",
       "      <td>4241851</td>\n",
       "      <td>160</td>\n",
       "      <td>0</td>\n",
       "      <td>3970688.42</td>\n",
       "      <td>4119543.81</td>\n",
       "    </tr>\n",
       "    <tr>\n",
       "      <th>40</th>\n",
       "      <td>41</td>\n",
       "      <td>3909887</td>\n",
       "      <td>151</td>\n",
       "      <td>1</td>\n",
       "      <td>4066369.08</td>\n",
       "      <td>4077607.99</td>\n",
       "    </tr>\n",
       "    <tr>\n",
       "      <th>41</th>\n",
       "      <td>42</td>\n",
       "      <td>3216438</td>\n",
       "      <td>120</td>\n",
       "      <td>1</td>\n",
       "      <td>4012412.75</td>\n",
       "      <td>3905359.34</td>\n",
       "    </tr>\n",
       "    <tr>\n",
       "      <th>42</th>\n",
       "      <td>43</td>\n",
       "      <td>4222005</td>\n",
       "      <td>152</td>\n",
       "      <td>0</td>\n",
       "      <td>3962369.58</td>\n",
       "      <td>3968692.78</td>\n",
       "    </tr>\n",
       "    <tr>\n",
       "      <th>43</th>\n",
       "      <td>44</td>\n",
       "      <td>3621034</td>\n",
       "      <td>125</td>\n",
       "      <td>0</td>\n",
       "      <td>3946629.42</td>\n",
       "      <td>3899157.24</td>\n",
       "    </tr>\n",
       "    <tr>\n",
       "      <th>44</th>\n",
       "      <td>45</td>\n",
       "      <td>5162201</td>\n",
       "      <td>170</td>\n",
       "      <td>0</td>\n",
       "      <td>3940489.50</td>\n",
       "      <td>4151776.99</td>\n",
       "    </tr>\n",
       "    <tr>\n",
       "      <th>45</th>\n",
       "      <td>46</td>\n",
       "      <td>4627177</td>\n",
       "      <td>160</td>\n",
       "      <td>0</td>\n",
       "      <td>4052117.17</td>\n",
       "      <td>4246860.31</td>\n",
       "    </tr>\n",
       "    <tr>\n",
       "      <th>46</th>\n",
       "      <td>47</td>\n",
       "      <td>4623945</td>\n",
       "      <td>168</td>\n",
       "      <td>0</td>\n",
       "      <td>4130274.75</td>\n",
       "      <td>4322279.35</td>\n",
       "    </tr>\n",
       "    <tr>\n",
       "      <th>47</th>\n",
       "      <td>48</td>\n",
       "      <td>4599368</td>\n",
       "      <td>166</td>\n",
       "      <td>0</td>\n",
       "      <td>4204882.33</td>\n",
       "      <td>4377698.31</td>\n",
       "    </tr>\n",
       "  </tbody>\n",
       "</table>\n",
       "</div>"
      ],
      "text/plain": [
       "    Month  Sale Quantity  Promotion Expenses  Competition Promotion  \\\n",
       "36     37        3216483                 121                      1   \n",
       "37     38        3453239                 128                      0   \n",
       "38     39        5431651                 170                      0   \n",
       "39     40        4241851                 160                      0   \n",
       "40     41        3909887                 151                      1   \n",
       "41     42        3216438                 120                      1   \n",
       "42     43        4222005                 152                      0   \n",
       "43     44        3621034                 125                      0   \n",
       "44     45        5162201                 170                      0   \n",
       "45     46        4627177                 160                      0   \n",
       "46     47        4623945                 168                      0   \n",
       "47     48        4599368                 166                      0   \n",
       "\n",
       "    moving_avg_12        ewm  \n",
       "36     3928410.33 3828234.64  \n",
       "37     3810280.00 3753219.93  \n",
       "38     3783643.33 4088961.93  \n",
       "39     3970688.42 4119543.81  \n",
       "40     4066369.08 4077607.99  \n",
       "41     4012412.75 3905359.34  \n",
       "42     3962369.58 3968692.78  \n",
       "43     3946629.42 3899157.24  \n",
       "44     3940489.50 4151776.99  \n",
       "45     4052117.17 4246860.31  \n",
       "46     4130274.75 4322279.35  \n",
       "47     4204882.33 4377698.31  "
      ]
     },
     "execution_count": 19,
     "metadata": {},
     "output_type": "execute_result"
    }
   ],
   "source": [
    "df[36:]"
   ]
  },
  {
   "cell_type": "code",
   "execution_count": 20,
   "id": "875b1af2",
   "metadata": {},
   "outputs": [
    {
     "data": {
      "text/plain": [
       "11.15"
      ]
     },
     "execution_count": 20,
     "metadata": {},
     "output_type": "execute_result"
    }
   ],
   "source": [
    "get_MAPE(df[['Sale Quantity']][36:].values,\n",
    "        df[['ewm']][36:].values)"
   ]
  },
  {
   "cell_type": "code",
   "execution_count": 21,
   "id": "1630eed7",
   "metadata": {},
   "outputs": [
    {
     "name": "stderr",
     "output_type": "stream",
     "text": [
      "No artists with labels found to put in legend.  Note that artists whose label start with an underscore are ignored when legend() is called with no argument.\n"
     ]
    },
    {
     "data": {
      "text/plain": [
       "<matplotlib.legend.Legend at 0x1fa50090790>"
      ]
     },
     "execution_count": 21,
     "metadata": {},
     "output_type": "execute_result"
    },
    {
     "data": {
      "image/png": "[encoded data removed]",
      "text/plain": [
       "<Figure size 720x288 with 1 Axes>"
      ]
     },
     "metadata": {
      "needs_background": "light"
     },
     "output_type": "display_data"
    }
   ],
   "source": [
    "plt.figure(figsize=(10,4))\n",
    "\n",
    "plt.xlabel('Months')\n",
    "plt.ylabel('Quantity')\n",
    "\n",
    "plt.plot(df['Sale Quantity'][12:])\n",
    "plt.plot(df['ewm'][12:], '.')\n",
    "\n",
    "plt.legend()"
   ]
  },
  {
   "cell_type": "code",
   "execution_count": 25,
   "id": "0f326133",
   "metadata": {},
   "outputs": [
    {
     "data": {
      "image/png": "[encoded data removed]",
      "text/plain": [
       "<Figure size 432x288 with 4 Axes>"
      ]
     },
     "metadata": {
      "needs_background": "light"
     },
     "output_type": "display_data"
    }
   ],
   "source": [
    "from statsmodels.tsa.seasonal import seasonal_decompose\n",
    "\n",
    "ts_decompose = seasonal_decompose(np.array(df['Sale Quantity']),\n",
    "                                 model='multiplicative',\n",
    "                                 period = 12)\n",
    "\n",
    "ts_plot = ts_decompose.plot()\n",
    "\n",
    "df['seasonal'] = ts_decompose.seasonal\n",
    "df['trend'] = ts_decompose.trend"
   ]
  },
  {
   "cell_type": "code",
   "execution_count": null,
   "id": "1a68c1b4",
   "metadata": {},
   "outputs": [],
   "source": []
  }
 ],
 "metadata": {
  "kernelspec": {
   "display_name": "Python 3 (ipykernel)",
   "language": "python",
   "name": "python3"
  },
  "language_info": {
   "codemirror_mode": {
    "name": "ipython",
    "version": 3
   },
   "file_extension": ".py",
   "mimetype": "text/x-python",
   "name": "python",
   "nbconvert_exporter": "python",
   "pygments_lexer": "ipython3",
   "version": "3.9.12"
  }
 },
 "nbformat": 4,
 "nbformat_minor": 5
}
