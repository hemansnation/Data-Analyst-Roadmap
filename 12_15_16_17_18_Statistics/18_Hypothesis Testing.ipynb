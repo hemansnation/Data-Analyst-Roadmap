{
 "cells": [
  {
   "cell_type": "markdown",
   "id": "c585a495",
   "metadata": {},
   "source": [
    "# Hypothesis Testing\n",
    "Proposed Explanation\n",
    "\n",
    "1. Null Hypothesis H0: It is considered true till it proven false.\n",
    "2. Alternative Hypothesis: It is the negation of the null hypothesis.\n"
   ]
  },
  {
   "cell_type": "markdown",
   "id": "8c03609b",
   "metadata": {},
   "source": [
    "Select a test: and apply it -> test statistics\n",
    "\n",
    "we need to convert this test statistics to a p-value\n",
    "\n",
    "#### significance level\n",
    "threshold for luck -> 5%\n",
    "\n",
    "p-value < 0.05 -> we will reject the null hypothesis and accept the alternative hypothesis.\n",
    "\n",
    "#### a large p-value indicates that the results are due to luck."
   ]
  },
  {
   "cell_type": "code",
   "execution_count": 2,
   "id": "1262f0c8",
   "metadata": {},
   "outputs": [],
   "source": [
    "# Lady tasting Tea\n",
    "\n",
    "#is it possible for you to tell weather the tea added before or after the milk?"
   ]
  },
  {
   "cell_type": "markdown",
   "id": "4ebc5491",
   "metadata": {},
   "source": [
    "H0: the lady cannot tell if the milk was poured first.\n",
    "                (NH possess no relationship and no difference)\n",
    "H1: the lady can tell if the milk was poured first."
   ]
  },
  {
   "cell_type": "markdown",
   "id": "c46c9066",
   "metadata": {},
   "source": [
    "#### select a test\n",
    "\n",
    "8 cups of tea, 4 of each type\n",
    "\n",
    "Lady got all 8 correct -> test statistics\n",
    "\n",
    "8C4 -> 70 is the number of combinations\n",
    "\n",
    "p-value = 1/70 = 1.4%\n",
    "\n",
    "1.4% < 5% => Reject the H0\n",
    "\n",
    "\n",
    "### Errors in Hypothesis Testing\n",
    "\n",
    "Type I error\n",
    "When you reject the null hypothesis when it was actually true.\n",
    "\n",
    "Type II error\n",
    "When we don't reject the null hypothesis and accept the alternative hypothesis.\n",
    "\n",
    "\n",
    "### Power (Recall)\n",
    "power of statistical test\n",
    "\n",
    "probability of rejecting H0 when H1 is true.\n",
    "\n",
    "If the value of power is high than it is good.\n",
    "\n",
    "if it is high that means the low probability of Type-II error\n",
    "\n",
    "\n",
    "### alpha\n",
    "\n",
    "alpha is the probability of rejecting H0 when H0 is true.\n",
    "\n",
    "alpha = probability of commiting a Type-I error.\n",
    "\n",
    "if the test has high alpha value that is not good."
   ]
  },
  {
   "cell_type": "markdown",
   "id": "0cf026df",
   "metadata": {},
   "source": [
    "# Chi-Square Test"
   ]
  },
  {
   "cell_type": "code",
   "execution_count": 6,
   "id": "a36e5cfa",
   "metadata": {},
   "outputs": [],
   "source": [
    "import scipy.stats as stats"
   ]
  },
  {
   "cell_type": "code",
   "execution_count": 7,
   "id": "08662308",
   "metadata": {},
   "outputs": [],
   "source": [
    "import seaborn as sns\n",
    "import pandas as pd\n",
    "import numpy as np"
   ]
  },
  {
   "cell_type": "code",
   "execution_count": 8,
   "id": "8316d566",
   "metadata": {},
   "outputs": [
    {
     "data": {
      "text/html": [
       "<div>\n",
       "<style scoped>\n",
       "    .dataframe tbody tr th:only-of-type {\n",
       "        vertical-align: middle;\n",
       "    }\n",
       "\n",
       "    .dataframe tbody tr th {\n",
       "        vertical-align: top;\n",
       "    }\n",
       "\n",
       "    .dataframe thead th {\n",
       "        text-align: right;\n",
       "    }\n",
       "</style>\n",
       "<table border=\"1\" class=\"dataframe\">\n",
       "  <thead>\n",
       "    <tr style=\"text-align: right;\">\n",
       "      <th></th>\n",
       "      <th>total_bill</th>\n",
       "      <th>tip</th>\n",
       "      <th>sex</th>\n",
       "      <th>smoker</th>\n",
       "      <th>day</th>\n",
       "      <th>time</th>\n",
       "      <th>size</th>\n",
       "    </tr>\n",
       "  </thead>\n",
       "  <tbody>\n",
       "    <tr>\n",
       "      <th>0</th>\n",
       "      <td>16.99</td>\n",
       "      <td>1.01</td>\n",
       "      <td>Female</td>\n",
       "      <td>No</td>\n",
       "      <td>Sun</td>\n",
       "      <td>Dinner</td>\n",
       "      <td>2</td>\n",
       "    </tr>\n",
       "    <tr>\n",
       "      <th>1</th>\n",
       "      <td>10.34</td>\n",
       "      <td>1.66</td>\n",
       "      <td>Male</td>\n",
       "      <td>No</td>\n",
       "      <td>Sun</td>\n",
       "      <td>Dinner</td>\n",
       "      <td>3</td>\n",
       "    </tr>\n",
       "    <tr>\n",
       "      <th>2</th>\n",
       "      <td>21.01</td>\n",
       "      <td>3.50</td>\n",
       "      <td>Male</td>\n",
       "      <td>No</td>\n",
       "      <td>Sun</td>\n",
       "      <td>Dinner</td>\n",
       "      <td>3</td>\n",
       "    </tr>\n",
       "    <tr>\n",
       "      <th>3</th>\n",
       "      <td>23.68</td>\n",
       "      <td>3.31</td>\n",
       "      <td>Male</td>\n",
       "      <td>No</td>\n",
       "      <td>Sun</td>\n",
       "      <td>Dinner</td>\n",
       "      <td>2</td>\n",
       "    </tr>\n",
       "    <tr>\n",
       "      <th>4</th>\n",
       "      <td>24.59</td>\n",
       "      <td>3.61</td>\n",
       "      <td>Female</td>\n",
       "      <td>No</td>\n",
       "      <td>Sun</td>\n",
       "      <td>Dinner</td>\n",
       "      <td>4</td>\n",
       "    </tr>\n",
       "  </tbody>\n",
       "</table>\n",
       "</div>"
      ],
      "text/plain": [
       "   total_bill   tip     sex smoker  day    time  size\n",
       "0       16.99  1.01  Female     No  Sun  Dinner     2\n",
       "1       10.34  1.66    Male     No  Sun  Dinner     3\n",
       "2       21.01  3.50    Male     No  Sun  Dinner     3\n",
       "3       23.68  3.31    Male     No  Sun  Dinner     2\n",
       "4       24.59  3.61  Female     No  Sun  Dinner     4"
      ]
     },
     "execution_count": 8,
     "metadata": {},
     "output_type": "execute_result"
    }
   ],
   "source": [
    "dataset = sns.load_dataset('tips')\n",
    "\n",
    "dataset.head()"
   ]
  },
  {
   "cell_type": "code",
   "execution_count": 9,
   "id": "4dd3d2da",
   "metadata": {},
   "outputs": [
    {
     "name": "stdout",
     "output_type": "stream",
     "text": [
      "smoker  Yes  No\n",
      "sex            \n",
      "Male     60  97\n",
      "Female   33  54\n"
     ]
    }
   ],
   "source": [
    "dataset_table = pd.crosstab(dataset['sex'], dataset['smoker'])\n",
    "\n",
    "print(dataset_table)"
   ]
  },
  {
   "cell_type": "code",
   "execution_count": 13,
   "id": "2464bd7a",
   "metadata": {},
   "outputs": [
    {
     "data": {
      "text/plain": [
       "array([[60, 97],\n",
       "       [33, 54]], dtype=int64)"
      ]
     },
     "execution_count": 13,
     "metadata": {},
     "output_type": "execute_result"
    }
   ],
   "source": [
    "observed_values = dataset_table.values\n",
    "observed_values"
   ]
  },
  {
   "cell_type": "code",
   "execution_count": 11,
   "id": "3a55191e",
   "metadata": {},
   "outputs": [
    {
     "data": {
      "text/plain": [
       "(0.0,\n",
       " 1.0,\n",
       " 1,\n",
       " array([[59.84016393, 97.15983607],\n",
       "        [33.15983607, 53.84016393]]))"
      ]
     },
     "execution_count": 11,
     "metadata": {},
     "output_type": "execute_result"
    }
   ],
   "source": [
    "val = stats.chi2_contingency(dataset_table)\n",
    "\n",
    "val"
   ]
  },
  {
   "cell_type": "code",
   "execution_count": 12,
   "id": "5c52c6d3",
   "metadata": {},
   "outputs": [],
   "source": [
    "expected_values = val[3]"
   ]
  },
  {
   "cell_type": "code",
   "execution_count": 14,
   "id": "55db1242",
   "metadata": {},
   "outputs": [],
   "source": [
    "from scipy.stats import chi2\n",
    "\n",
    "chi_square = sum([(o-e)**2./e for o, e in  zip(observed_values, expected_values)])\n",
    "\n",
    "chi_square_stats = chi_square[0] + chi_square[1]"
   ]
  },
  {
   "cell_type": "code",
   "execution_count": 15,
   "id": "f1f1261b",
   "metadata": {},
   "outputs": [
    {
     "data": {
      "text/plain": [
       "0.001934818536627623"
      ]
     },
     "execution_count": 15,
     "metadata": {},
     "output_type": "execute_result"
    }
   ],
   "source": [
    "chi_square_stats"
   ]
  },
  {
   "cell_type": "code",
   "execution_count": 17,
   "id": "9ae6c359",
   "metadata": {},
   "outputs": [
    {
     "name": "stdout",
     "output_type": "stream",
     "text": [
      "Degree of Freedom: 1\n"
     ]
    }
   ],
   "source": [
    "no_of_rows = len(dataset_table.iloc[0:2,0])\n",
    "no_of_columns = len(dataset_table.iloc[0,0:2])\n",
    "ddof = (no_of_rows - 1) * (no_of_columns - 1)\n",
    "\n",
    "print(\"Degree of Freedom:\",ddof)"
   ]
  },
  {
   "cell_type": "code",
   "execution_count": 19,
   "id": "5d7188ed",
   "metadata": {},
   "outputs": [],
   "source": [
    "alpha = 0.05"
   ]
  },
  {
   "cell_type": "code",
   "execution_count": 20,
   "id": "6aa1816a",
   "metadata": {},
   "outputs": [
    {
     "name": "stdout",
     "output_type": "stream",
     "text": [
      "Critical Value: 3.841458820694124\n"
     ]
    }
   ],
   "source": [
    "critical_value = chi2.ppf(q=1-alpha, df=ddof)\n",
    "\n",
    "print(\"Critical Value:\", critical_value)"
   ]
  },
  {
   "cell_type": "code",
   "execution_count": 21,
   "id": "0dc7e08d",
   "metadata": {},
   "outputs": [
    {
     "name": "stdout",
     "output_type": "stream",
     "text": [
      "p-value: 0.964915107315732\n",
      "Significance Level: 0.05\n",
      "Degree of Freedom: 1\n"
     ]
    }
   ],
   "source": [
    "# p-value\n",
    "\n",
    "p_value = 1 - chi2.cdf(x=chi_square_stats, df=ddof)\n",
    "\n",
    "print(\"p-value:\", p_value)\n",
    "print(\"Significance Level:\", alpha)\n",
    "print(\"Degree of Freedom:\", ddof)"
   ]
  },
  {
   "cell_type": "code",
   "execution_count": 23,
   "id": "cbcc9460",
   "metadata": {},
   "outputs": [
    {
     "name": "stdout",
     "output_type": "stream",
     "text": [
      "Accepting H0, there is no relationship between 2 categorical variables\n"
     ]
    }
   ],
   "source": [
    "if chi_square_stats >= critical_value:\n",
    "    print(\"Reject H0, there is a relationship between 2 categorical variables\")\n",
    "else:\n",
    "    print(\"Accepting H0, there is no relationship between 2 categorical variables\")"
   ]
  },
  {
   "cell_type": "code",
   "execution_count": 24,
   "id": "822ee03e",
   "metadata": {},
   "outputs": [
    {
     "name": "stdout",
     "output_type": "stream",
     "text": [
      "Accepting H0, there is no relationship between 2 categorical variables\n"
     ]
    }
   ],
   "source": [
    "if p_value <= alpha:\n",
    "    print(\"Reject H0, there is a relationship between 2 categorical variables\")\n",
    "else:\n",
    "    print(\"Accepting H0, there is no relationship between 2 categorical variables\")"
   ]
  },
  {
   "cell_type": "markdown",
   "id": "d4ee4b89",
   "metadata": {},
   "source": [
    "# t-test\n",
    "\n",
    "if there is a significant difference between the means of two groups"
   ]
  },
  {
   "cell_type": "code",
   "execution_count": 25,
   "id": "497d7ce4",
   "metadata": {},
   "outputs": [],
   "source": [
    "ages = [10,20,35,50,28,40,55,18,16,55,30,25,43,18,30,28,14,24,16,17,32,3,26,27,66,60]"
   ]
  },
  {
   "cell_type": "code",
   "execution_count": 26,
   "id": "c1d8bb90",
   "metadata": {},
   "outputs": [
    {
     "data": {
      "text/plain": [
       "26"
      ]
     },
     "execution_count": 26,
     "metadata": {},
     "output_type": "execute_result"
    }
   ],
   "source": [
    "len(ages)"
   ]
  },
  {
   "cell_type": "code",
   "execution_count": 27,
   "id": "adcb366f",
   "metadata": {},
   "outputs": [],
   "source": [
    "ages_mean = np.mean(ages)"
   ]
  },
  {
   "cell_type": "code",
   "execution_count": 28,
   "id": "3e10989c",
   "metadata": {},
   "outputs": [
    {
     "data": {
      "text/plain": [
       "30.23076923076923"
      ]
     },
     "execution_count": 28,
     "metadata": {},
     "output_type": "execute_result"
    }
   ],
   "source": [
    "ages_mean"
   ]
  },
  {
   "cell_type": "code",
   "execution_count": 29,
   "id": "320ad6c6",
   "metadata": {},
   "outputs": [
    {
     "data": {
      "text/plain": [
       "array([60, 18, 66, 32, 17, 55, 43, 17, 16, 55])"
      ]
     },
     "execution_count": 29,
     "metadata": {},
     "output_type": "execute_result"
    }
   ],
   "source": [
    "sample_size = 10\n",
    "\n",
    "age_sample = np.random.choice(ages, sample_size)\n",
    "\n",
    "age_sample"
   ]
  },
  {
   "cell_type": "code",
   "execution_count": 30,
   "id": "19a1f903",
   "metadata": {},
   "outputs": [
    {
     "name": "stdout",
     "output_type": "stream",
     "text": [
      "0.24751746592331406\n"
     ]
    }
   ],
   "source": [
    "from scipy.stats import ttest_1samp\n",
    "\n",
    "ttest, p_value = ttest_1samp(age_sample, 30)\n",
    "\n",
    "print(p_value)"
   ]
  },
  {
   "cell_type": "code",
   "execution_count": 31,
   "id": "33a09441",
   "metadata": {},
   "outputs": [
    {
     "name": "stdout",
     "output_type": "stream",
     "text": [
      "We are accepting the Null Hypothesis\n"
     ]
    }
   ],
   "source": [
    "if p_value < 0.05:\n",
    "    print(\"We are rejecting null hypothesis\")\n",
    "else:\n",
    "    print(\"We are accepting the Null Hypothesis\")"
   ]
  },
  {
   "cell_type": "code",
   "execution_count": null,
   "id": "d11fd400",
   "metadata": {},
   "outputs": [],
   "source": []
  }
 ],
 "metadata": {
  "kernelspec": {
   "display_name": "Python 3 (ipykernel)",
   "language": "python",
   "name": "python3"
  },
  "language_info": {
   "codemirror_mode": {
    "name": "ipython",
    "version": 3
   },
   "file_extension": ".py",
   "mimetype": "text/x-python",
   "name": "python",
   "nbconvert_exporter": "python",
   "pygments_lexer": "ipython3",
   "version": "3.9.12"
  }
 },
 "nbformat": 4,
 "nbformat_minor": 5
}
